{
 "cells": [
  {
   "cell_type": "markdown",
   "id": "6bf87832",
   "metadata": {},
   "source": [
    "#### what are the strages to run CISM?\n",
    "\n",
    "#### 1.Creating the Graph Object and building it\n",
    "The Graph object contains the follows:\n",
    "* cells_csv: the df of the cells data\n",
    "* common_cells_mapper: the mapper of the cells\n",
    "* colnames_mapper_dict: the column names mapper to tell the graph builder where exactly is the information of the cells types and patient id\n",
    "\n",
    "After creating the object, we need to call the build_graph method, which takes the following args:\n",
    "* path_to_output_dir (str): where to output the files\n",
    "* max_distance (int): the maximum distance between cells to be considered neighbours (the resolution is 0.5 µm).\n",
    "* exclude_cell_type (str): ???? \n",
    "\n",
    "#### 2. Initiate the CISM\n",
    "The CISM class initiates with the follwoing args:\n",
    "* fanmod_path (str): filesystem path to fanmod+ tool.\n",
    "* fanmod_exe (str): the filename of fanmod+ executable.\n",
    "* network_dataset_root_path (str): filesystem path to the network dataset root directory.\n",
    "* fanmod_output_root_path (str): filesystem path to output fanmod+ artifacts in leda format\n",
    "* fanmod_cache_root_path (str): filesystem path to output fanmod+ cache artifacts\n",
    "* motif_size (int): the number of nodes in each motif\n",
    "* iterations (int): the number of random networks to be generated for assessing motif significance\n",
    "\n",
    "After initiating the CISM object itself, we run the add_dataset method. which receives:\n",
    "* dataset_folder (str): the relative filesystem sub-folder of the dataset\n",
    "* dataset_type (str): the dataset type\n",
    "* dataset_name (str): the dataset name\n",
    "* n_jobs (int): number of jobs allows running in parallel.\n",
    "* prefer (str): joblib Parallel prefer parameter.\n",
    "* force_run_fanmod (bool): whether to override fanmod+ existing results.\n",
    "* force_parse (bool): whether to override existing parse files of fanmod+ outputs.\n",
    "\n",
    "#### 3. Create the discriminator object for investigating motifs\n",
    "We create the TissueStateDiscriminativeMotifs object, which holds many methods for investigating our motifs.\n",
    "This class is constructed by the following attrbiutes:\n",
    "* CISM - the cism object we built in the previous stage\n",
    "* tissue_state_csv_path (str) - \n",
    "* tissue_state_to_string (str) - \n",
    "* common_cells_type (dict)\n",
    "* tissue_state_func (func) - a method needed for transforming the column  \n",
    "\n",
    "#### 4. run the main loop of discrimination\n"
   ]
  },
  {
   "cell_type": "code",
   "execution_count": 1,
   "id": "3f6fdd21",
   "metadata": {},
   "outputs": [],
   "source": [
    "# imports\n",
    "import pandas as pd\n",
    "import pathlib\n",
    "import seaborn as sns\n",
    "import numpy as np\n",
    "import sys\n",
    "import os"
   ]
  },
  {
   "cell_type": "code",
   "execution_count": 2,
   "id": "d2e393af",
   "metadata": {},
   "outputs": [],
   "source": [
    "# constants\n",
    "raw_csv_file = r\"./for_amos_23_12_24.csv\" # updated data for amos with new cell mapping\n",
    "root_data_dir =  '../../data'\n",
    "output_graphs_dir = '/Barak_testing_with_new_data/'\n",
    "\n",
    "raw_patient_class_file_name = 'patient_class.csv'\n",
    "raw_patient_class_file = f'./{raw_patient_class_file_name}'\n",
    "\n",
    "FANMOD_path = \"C://Users//milsh//OneDrive//שולחן העבודה//FANMODPlus//out//build//x64-debug\" # Where Fanmod.exe is located\n",
    "FANMOD_exe = \"LocalFANMOD.exe\"\n",
    "output_dir = './../../fanmod_output'\n",
    "cache_dir = './../../parse_cache'\n",
    "\n",
    "# We need this part because of importing issues of CISM project objects\n",
    "sys.path.append('../')\n",
    "os.chdir(pathlib.Path.cwd())"
   ]
  },
  {
   "cell_type": "markdown",
   "id": "7ba709b3",
   "metadata": {},
   "source": [
    "#### Stage 1"
   ]
  },
  {
   "cell_type": "code",
   "execution_count": 3,
   "id": "679e8d43",
   "metadata": {},
   "outputs": [
    {
     "data": {
      "text/html": [
       "<div>\n",
       "<style scoped>\n",
       "    .dataframe tbody tr th:only-of-type {\n",
       "        vertical-align: middle;\n",
       "    }\n",
       "\n",
       "    .dataframe tbody tr th {\n",
       "        vertical-align: top;\n",
       "    }\n",
       "\n",
       "    .dataframe thead th {\n",
       "        text-align: right;\n",
       "    }\n",
       "</style>\n",
       "<table border=\"1\" class=\"dataframe\">\n",
       "  <thead>\n",
       "    <tr style=\"text-align: right;\">\n",
       "      <th></th>\n",
       "      <th>fov</th>\n",
       "      <th>patient number</th>\n",
       "      <th>meta_pred</th>\n",
       "      <th>grouped_meta_phenotype</th>\n",
       "      <th>cell_id</th>\n",
       "      <th>Group</th>\n",
       "      <th>centroid-0</th>\n",
       "      <th>centroid-1</th>\n",
       "    </tr>\n",
       "  </thead>\n",
       "  <tbody>\n",
       "    <tr>\n",
       "      <th>0</th>\n",
       "      <td>FOV10</td>\n",
       "      <td>3</td>\n",
       "      <td>Unidentified</td>\n",
       "      <td>Unidentified</td>\n",
       "      <td>5</td>\n",
       "      <td>NP</td>\n",
       "      <td>3.343373</td>\n",
       "      <td>333.198795</td>\n",
       "    </tr>\n",
       "    <tr>\n",
       "      <th>1</th>\n",
       "      <td>FOV10</td>\n",
       "      <td>3</td>\n",
       "      <td>CD4 T cell</td>\n",
       "      <td>Mem CD4 T cell</td>\n",
       "      <td>11</td>\n",
       "      <td>NP</td>\n",
       "      <td>2.814159</td>\n",
       "      <td>1764.212389</td>\n",
       "    </tr>\n",
       "    <tr>\n",
       "      <th>2</th>\n",
       "      <td>FOV10</td>\n",
       "      <td>3</td>\n",
       "      <td>Vessels</td>\n",
       "      <td>Hevs</td>\n",
       "      <td>15</td>\n",
       "      <td>NP</td>\n",
       "      <td>3.445860</td>\n",
       "      <td>356.878981</td>\n",
       "    </tr>\n",
       "    <tr>\n",
       "      <th>3</th>\n",
       "      <td>FOV10</td>\n",
       "      <td>3</td>\n",
       "      <td>CD8 T cell</td>\n",
       "      <td>Other CD8 T cell</td>\n",
       "      <td>26</td>\n",
       "      <td>NP</td>\n",
       "      <td>3.671756</td>\n",
       "      <td>1738.076336</td>\n",
       "    </tr>\n",
       "    <tr>\n",
       "      <th>4</th>\n",
       "      <td>FOV10</td>\n",
       "      <td>3</td>\n",
       "      <td>CD4 T cell</td>\n",
       "      <td>Mem CD4 T cell</td>\n",
       "      <td>27</td>\n",
       "      <td>NP</td>\n",
       "      <td>3.485714</td>\n",
       "      <td>1789.857143</td>\n",
       "    </tr>\n",
       "    <tr>\n",
       "      <th>...</th>\n",
       "      <td>...</td>\n",
       "      <td>...</td>\n",
       "      <td>...</td>\n",
       "      <td>...</td>\n",
       "      <td>...</td>\n",
       "      <td>...</td>\n",
       "      <td>...</td>\n",
       "      <td>...</td>\n",
       "    </tr>\n",
       "    <tr>\n",
       "      <th>1652269</th>\n",
       "      <td>FOV98</td>\n",
       "      <td>104</td>\n",
       "      <td>Bcell</td>\n",
       "      <td>Germinal center cell</td>\n",
       "      <td>12395</td>\n",
       "      <td>PP</td>\n",
       "      <td>2022.567308</td>\n",
       "      <td>1446.775641</td>\n",
       "    </tr>\n",
       "    <tr>\n",
       "      <th>1652270</th>\n",
       "      <td>FOV98</td>\n",
       "      <td>104</td>\n",
       "      <td>CD4 T cell</td>\n",
       "      <td>Naive CD4 T cell</td>\n",
       "      <td>12401</td>\n",
       "      <td>PP</td>\n",
       "      <td>2024.406977</td>\n",
       "      <td>405.038760</td>\n",
       "    </tr>\n",
       "    <tr>\n",
       "      <th>1652271</th>\n",
       "      <td>FOV98</td>\n",
       "      <td>104</td>\n",
       "      <td>CD4 T cell</td>\n",
       "      <td>Naive CD4 T cell</td>\n",
       "      <td>12437</td>\n",
       "      <td>PP</td>\n",
       "      <td>2028.045000</td>\n",
       "      <td>496.570000</td>\n",
       "    </tr>\n",
       "    <tr>\n",
       "      <th>1652272</th>\n",
       "      <td>FOV98</td>\n",
       "      <td>104</td>\n",
       "      <td>Bcell</td>\n",
       "      <td>B cell</td>\n",
       "      <td>12457</td>\n",
       "      <td>PP</td>\n",
       "      <td>2032.712766</td>\n",
       "      <td>1208.500000</td>\n",
       "    </tr>\n",
       "    <tr>\n",
       "      <th>1652273</th>\n",
       "      <td>FOV98</td>\n",
       "      <td>104</td>\n",
       "      <td>Bcell</td>\n",
       "      <td>B cell</td>\n",
       "      <td>12504</td>\n",
       "      <td>PP</td>\n",
       "      <td>2038.929630</td>\n",
       "      <td>1218.292593</td>\n",
       "    </tr>\n",
       "  </tbody>\n",
       "</table>\n",
       "<p>1652274 rows × 8 columns</p>\n",
       "</div>"
      ],
      "text/plain": [
       "           fov  patient number     meta_pred grouped_meta_phenotype  cell_id  \\\n",
       "0        FOV10               3  Unidentified           Unidentified        5   \n",
       "1        FOV10               3    CD4 T cell         Mem CD4 T cell       11   \n",
       "2        FOV10               3       Vessels                   Hevs       15   \n",
       "3        FOV10               3    CD8 T cell       Other CD8 T cell       26   \n",
       "4        FOV10               3    CD4 T cell         Mem CD4 T cell       27   \n",
       "...        ...             ...           ...                    ...      ...   \n",
       "1652269  FOV98             104         Bcell   Germinal center cell    12395   \n",
       "1652270  FOV98             104    CD4 T cell       Naive CD4 T cell    12401   \n",
       "1652271  FOV98             104    CD4 T cell       Naive CD4 T cell    12437   \n",
       "1652272  FOV98             104         Bcell                 B cell    12457   \n",
       "1652273  FOV98             104         Bcell                 B cell    12504   \n",
       "\n",
       "        Group   centroid-0   centroid-1  \n",
       "0          NP     3.343373   333.198795  \n",
       "1          NP     2.814159  1764.212389  \n",
       "2          NP     3.445860   356.878981  \n",
       "3          NP     3.671756  1738.076336  \n",
       "4          NP     3.485714  1789.857143  \n",
       "...       ...          ...          ...  \n",
       "1652269    PP  2022.567308  1446.775641  \n",
       "1652270    PP  2024.406977   405.038760  \n",
       "1652271    PP  2028.045000   496.570000  \n",
       "1652272    PP  2032.712766  1208.500000  \n",
       "1652273    PP  2038.929630  1218.292593  \n",
       "\n",
       "[1652274 rows x 8 columns]"
      ]
     },
     "execution_count": 3,
     "metadata": {},
     "output_type": "execute_result"
    }
   ],
   "source": [
    "raw_df = pd.read_csv(filepath_or_buffer=raw_csv_file, index_col=0)\n",
    "raw_df"
   ]
  },
  {
   "cell_type": "code",
   "execution_count": 4,
   "id": "b5299889",
   "metadata": {},
   "outputs": [
    {
     "data": {
      "text/plain": [
       "array(['Unidentified', 'CD4 T cell', 'Vessels', 'CD8 T cell', 'Immune',\n",
       "       'Mac', 'Stroma', 'Bcell', 'DCs', 'Tumor'], dtype=object)"
      ]
     },
     "execution_count": 4,
     "metadata": {},
     "output_type": "execute_result"
    }
   ],
   "source": [
    "raw_df['meta_pred'].unique()"
   ]
  },
  {
   "cell_type": "code",
   "execution_count": 5,
   "id": "8059710d",
   "metadata": {},
   "outputs": [
    {
     "data": {
      "text/plain": [
       "Group\n",
       "NN    40\n",
       "NP    36\n",
       "PN    42\n",
       "PP    59\n",
       "Name: fov, dtype: int64"
      ]
     },
     "execution_count": 5,
     "metadata": {},
     "output_type": "execute_result"
    }
   ],
   "source": [
    "raw_df.groupby('Group')['fov'].nunique()"
   ]
  },
  {
   "cell_type": "code",
   "execution_count": 8,
   "id": "c63285e5",
   "metadata": {},
   "outputs": [],
   "source": [
    "raw_df = pd.read_csv(filepath_or_buffer=raw_csv_file, index_col=0)\n",
    "\n",
    "# mapping between the colomn in the data to my wanted mapping\n",
    "# In tutorial it is between number (pred column which is number) to a string\n",
    "# We here use mapping between string to another string\n",
    "cells_mapper = {\n",
    "    'Bcell': 'B cell',\n",
    "    'CD4 APC': 'CD4 APC',\n",
    "    'CD4 T cell': 'CD4 T cell',\n",
    "    'CD4 Treg': 'CD4 Treg',\n",
    "    'CD8 T cell': 'CD8 T cell',\n",
    "    'DCs': 'DCs',\n",
    "    'Germinal Center B cell': 'Germinal Center B cell',\n",
    "    'Hevs': 'Hevs',\n",
    "    'Mac': 'Mac',\n",
    "    'Memory CD4 T Cell': 'Memory CD4 T Cell',\n",
    "    'NK cell': 'NK cell',\n",
    "    'Neutrophil': 'Neutrophil',\n",
    "    'Stroma': 'Stroma',\n",
    "    'Tumor': 'Tumor',\n",
    "    'Unidentified': 'Unidentified',\n",
    "    'Vessels': 'Vessels',\n",
    "    'Immune': 'Immune'\n",
    "}\n",
    "colnames_mapper_dict = {'cell_types' : 'meta_pred', #here we configure which column holds the information of cell type\n",
    "                        'patient_id' : 'patient number'}\n"
   ]
  },
  {
   "cell_type": "code",
   "execution_count": 23,
   "id": "696fb850",
   "metadata": {},
   "outputs": [
    {
     "ename": "KeyboardInterrupt",
     "evalue": "",
     "output_type": "error",
     "traceback": [
      "\u001b[1;31m---------------------------------------------------------------------------\u001b[0m",
      "\u001b[1;31mKeyboardInterrupt\u001b[0m                         Traceback (most recent call last)",
      "Cell \u001b[1;32mIn[23], line 35\u001b[0m\n\u001b[0;32m     32\u001b[0m \u001b[38;5;66;03m# create the folder if not exist\u001b[39;00m\n\u001b[0;32m     33\u001b[0m pathlib\u001b[38;5;241m.\u001b[39mPath(root_data_dir \u001b[38;5;241m+\u001b[39m output_graphs_dir)\u001b[38;5;241m.\u001b[39mmkdir(exist_ok\u001b[38;5;241m=\u001b[39m\u001b[38;5;28;01mTrue\u001b[39;00m, parents\u001b[38;5;241m=\u001b[39m\u001b[38;5;28;01mTrue\u001b[39;00m)\n\u001b[1;32m---> 35\u001b[0m \u001b[43mg\u001b[49m\u001b[38;5;241;43m.\u001b[39;49m\u001b[43mbuild_graph\u001b[49m\u001b[43m(\u001b[49m\u001b[43mpath_to_output_dir\u001b[49m\u001b[38;5;241;43m=\u001b[39;49m\u001b[43mroot_data_dir\u001b[49m\u001b[43m \u001b[49m\u001b[38;5;241;43m+\u001b[39;49m\u001b[43m \u001b[49m\u001b[43moutput_graphs_dir\u001b[49m\u001b[43m,\u001b[49m\u001b[43m \u001b[49m\u001b[43mmax_distance\u001b[49m\u001b[38;5;241;43m=\u001b[39;49m\u001b[38;5;241;43m100\u001b[39;49m\u001b[43m,\u001b[49m\u001b[43m \u001b[49m\u001b[43mexclude_cell_type\u001b[49m\u001b[38;5;241;43m=\u001b[39;49m\u001b[38;5;28;43;01mNone\u001b[39;49;00m\u001b[43m)\u001b[49m\n",
      "File \u001b[1;32m~\\PycharmProjects\\CISM\\analysis\\..\\cism\\graph\\create_formatted_graph.py:49\u001b[0m, in \u001b[0;36mGraphBuilder.build_graph\u001b[1;34m(self, path_to_output_dir, max_distance, exclude_cell_type, removed_cluster_buffer, removed_cluster_alpha)\u001b[0m\n\u001b[0;32m     47\u001b[0m \u001b[38;5;28;01mfor\u001b[39;00m point \u001b[38;5;129;01min\u001b[39;00m \u001b[38;5;28mself\u001b[39m\u001b[38;5;241m.\u001b[39mcells[\u001b[38;5;28mself\u001b[39m\u001b[38;5;241m.\u001b[39mpatients_col]\u001b[38;5;241m.\u001b[39munique():\n\u001b[0;32m     48\u001b[0m     \u001b[38;5;28;01mfor\u001b[39;00m fov \u001b[38;5;129;01min\u001b[39;00m \u001b[38;5;28mself\u001b[39m\u001b[38;5;241m.\u001b[39mcells[\u001b[38;5;124m'\u001b[39m\u001b[38;5;124mfov\u001b[39m\u001b[38;5;124m'\u001b[39m]\u001b[38;5;241m.\u001b[39munique():\n\u001b[1;32m---> 49\u001b[0m         data_p \u001b[38;5;241m=\u001b[39m \u001b[38;5;28mself\u001b[39m\u001b[38;5;241m.\u001b[39mcells[(\u001b[38;5;28mself\u001b[39m\u001b[38;5;241m.\u001b[39mcells[\u001b[38;5;28mself\u001b[39m\u001b[38;5;241m.\u001b[39mpatients_col] \u001b[38;5;241m==\u001b[39m point) \u001b[38;5;241m&\u001b[39m (\u001b[38;5;28;43mself\u001b[39;49m\u001b[38;5;241;43m.\u001b[39;49m\u001b[43mcells\u001b[49m\u001b[43m[\u001b[49m\u001b[38;5;124;43m'\u001b[39;49m\u001b[38;5;124;43mfov\u001b[39;49m\u001b[38;5;124;43m'\u001b[39;49m\u001b[43m]\u001b[49m\u001b[43m \u001b[49m\u001b[38;5;241;43m==\u001b[39;49m\u001b[43m \u001b[49m\u001b[43mfov\u001b[49m)]\n\u001b[0;32m     51\u001b[0m         \u001b[38;5;28;01mif\u001b[39;00m \u001b[38;5;28mlen\u001b[39m(data_p) \u001b[38;5;241m<\u001b[39m \u001b[38;5;241m1\u001b[39m:\n\u001b[0;32m     52\u001b[0m             \u001b[38;5;28;01mcontinue\u001b[39;00m \u001b[38;5;66;03m# FOV and patient mismatch, skipping\u001b[39;00m\n",
      "File \u001b[1;32m~\\PycharmProjects\\CISM\\venv\\lib\\site-packages\\pandas\\core\\ops\\common.py:81\u001b[0m, in \u001b[0;36m_unpack_zerodim_and_defer.<locals>.new_method\u001b[1;34m(self, other)\u001b[0m\n\u001b[0;32m     77\u001b[0m             \u001b[38;5;28;01mreturn\u001b[39;00m \u001b[38;5;28mNotImplemented\u001b[39m\n\u001b[0;32m     79\u001b[0m other \u001b[38;5;241m=\u001b[39m item_from_zerodim(other)\n\u001b[1;32m---> 81\u001b[0m \u001b[38;5;28;01mreturn\u001b[39;00m \u001b[43mmethod\u001b[49m\u001b[43m(\u001b[49m\u001b[38;5;28;43mself\u001b[39;49m\u001b[43m,\u001b[49m\u001b[43m \u001b[49m\u001b[43mother\u001b[49m\u001b[43m)\u001b[49m\n",
      "File \u001b[1;32m~\\PycharmProjects\\CISM\\venv\\lib\\site-packages\\pandas\\core\\arraylike.py:40\u001b[0m, in \u001b[0;36mOpsMixin.__eq__\u001b[1;34m(self, other)\u001b[0m\n\u001b[0;32m     38\u001b[0m \u001b[38;5;129m@unpack_zerodim_and_defer\u001b[39m(\u001b[38;5;124m\"\u001b[39m\u001b[38;5;124m__eq__\u001b[39m\u001b[38;5;124m\"\u001b[39m)\n\u001b[0;32m     39\u001b[0m \u001b[38;5;28;01mdef\u001b[39;00m\u001b[38;5;250m \u001b[39m\u001b[38;5;21m__eq__\u001b[39m(\u001b[38;5;28mself\u001b[39m, other):\n\u001b[1;32m---> 40\u001b[0m     \u001b[38;5;28;01mreturn\u001b[39;00m \u001b[38;5;28;43mself\u001b[39;49m\u001b[38;5;241;43m.\u001b[39;49m\u001b[43m_cmp_method\u001b[49m\u001b[43m(\u001b[49m\u001b[43mother\u001b[49m\u001b[43m,\u001b[49m\u001b[43m \u001b[49m\u001b[43moperator\u001b[49m\u001b[38;5;241;43m.\u001b[39;49m\u001b[43meq\u001b[49m\u001b[43m)\u001b[49m\n",
      "File \u001b[1;32m~\\PycharmProjects\\CISM\\venv\\lib\\site-packages\\pandas\\core\\series.py:6096\u001b[0m, in \u001b[0;36mSeries._cmp_method\u001b[1;34m(self, other, op)\u001b[0m\n\u001b[0;32m   6093\u001b[0m rvalues \u001b[38;5;241m=\u001b[39m extract_array(other, extract_numpy\u001b[38;5;241m=\u001b[39m\u001b[38;5;28;01mTrue\u001b[39;00m, extract_range\u001b[38;5;241m=\u001b[39m\u001b[38;5;28;01mTrue\u001b[39;00m)\n\u001b[0;32m   6095\u001b[0m \u001b[38;5;28;01mwith\u001b[39;00m np\u001b[38;5;241m.\u001b[39merrstate(\u001b[38;5;28mall\u001b[39m\u001b[38;5;241m=\u001b[39m\u001b[38;5;124m\"\u001b[39m\u001b[38;5;124mignore\u001b[39m\u001b[38;5;124m\"\u001b[39m):\n\u001b[1;32m-> 6096\u001b[0m     res_values \u001b[38;5;241m=\u001b[39m \u001b[43mops\u001b[49m\u001b[38;5;241;43m.\u001b[39;49m\u001b[43mcomparison_op\u001b[49m\u001b[43m(\u001b[49m\u001b[43mlvalues\u001b[49m\u001b[43m,\u001b[49m\u001b[43m \u001b[49m\u001b[43mrvalues\u001b[49m\u001b[43m,\u001b[49m\u001b[43m \u001b[49m\u001b[43mop\u001b[49m\u001b[43m)\u001b[49m\n\u001b[0;32m   6098\u001b[0m \u001b[38;5;28;01mreturn\u001b[39;00m \u001b[38;5;28mself\u001b[39m\u001b[38;5;241m.\u001b[39m_construct_result(res_values, name\u001b[38;5;241m=\u001b[39mres_name)\n",
      "File \u001b[1;32m~\\PycharmProjects\\CISM\\venv\\lib\\site-packages\\pandas\\core\\ops\\array_ops.py:293\u001b[0m, in \u001b[0;36mcomparison_op\u001b[1;34m(left, right, op)\u001b[0m\n\u001b[0;32m    290\u001b[0m     \u001b[38;5;28;01mreturn\u001b[39;00m invalid_comparison(lvalues, rvalues, op)\n\u001b[0;32m    292\u001b[0m \u001b[38;5;28;01melif\u001b[39;00m is_object_dtype(lvalues\u001b[38;5;241m.\u001b[39mdtype) \u001b[38;5;129;01mor\u001b[39;00m \u001b[38;5;28misinstance\u001b[39m(rvalues, \u001b[38;5;28mstr\u001b[39m):\n\u001b[1;32m--> 293\u001b[0m     res_values \u001b[38;5;241m=\u001b[39m \u001b[43mcomp_method_OBJECT_ARRAY\u001b[49m\u001b[43m(\u001b[49m\u001b[43mop\u001b[49m\u001b[43m,\u001b[49m\u001b[43m \u001b[49m\u001b[43mlvalues\u001b[49m\u001b[43m,\u001b[49m\u001b[43m \u001b[49m\u001b[43mrvalues\u001b[49m\u001b[43m)\u001b[49m\n\u001b[0;32m    295\u001b[0m \u001b[38;5;28;01melse\u001b[39;00m:\n\u001b[0;32m    296\u001b[0m     res_values \u001b[38;5;241m=\u001b[39m _na_arithmetic_op(lvalues, rvalues, op, is_cmp\u001b[38;5;241m=\u001b[39m\u001b[38;5;28;01mTrue\u001b[39;00m)\n",
      "File \u001b[1;32m~\\PycharmProjects\\CISM\\venv\\lib\\site-packages\\pandas\\core\\ops\\array_ops.py:83\u001b[0m, in \u001b[0;36mcomp_method_OBJECT_ARRAY\u001b[1;34m(op, x, y)\u001b[0m\n\u001b[0;32m     81\u001b[0m \u001b[38;5;28;01melse\u001b[39;00m:\n\u001b[0;32m     82\u001b[0m     result \u001b[38;5;241m=\u001b[39m libops\u001b[38;5;241m.\u001b[39mscalar_compare(x\u001b[38;5;241m.\u001b[39mravel(), y, op)\n\u001b[1;32m---> 83\u001b[0m \u001b[38;5;28;01mreturn\u001b[39;00m \u001b[43mresult\u001b[49m\u001b[38;5;241;43m.\u001b[39;49m\u001b[43mreshape\u001b[49m\u001b[43m(\u001b[49m\u001b[43mx\u001b[49m\u001b[38;5;241;43m.\u001b[39;49m\u001b[43mshape\u001b[49m\u001b[43m)\u001b[49m\n",
      "\u001b[1;31mKeyboardInterrupt\u001b[0m: "
     ]
    }
   ],
   "source": [
    "from cism.graph.create_formatted_graph import GraphBuilder\n",
    "\n",
    "g = GraphBuilder(raw_df, cells_mapper, colnames_mapper_dict)\n",
    "\n",
    "# create the folder if not exist\n",
    "pathlib.Path(root_data_dir + output_graphs_dir).mkdir(exist_ok=True, parents=True)\n",
    "\n",
    "g.build_graph(path_to_output_dir=root_data_dir + output_graphs_dir, max_distance=100, exclude_cell_type=None)"
   ]
  },
  {
   "cell_type": "code",
   "execution_count": 9,
   "id": "da3d6aff",
   "metadata": {},
   "outputs": [
    {
     "data": {
      "text/plain": [
       "{0: 'B cell',\n",
       " 1: 'CD4 T cell',\n",
       " 2: 'CD8 T cell',\n",
       " 3: 'DCs',\n",
       " 4: 'Immune',\n",
       " 5: 'Mac',\n",
       " 6: 'Stroma',\n",
       " 7: 'Tumor',\n",
       " 8: 'Unidentified',\n",
       " 9: 'Vessels'}"
      ]
     },
     "execution_count": 9,
     "metadata": {},
     "output_type": "execute_result"
    }
   ],
   "source": [
    "from cism.graph.create_formatted_graph import GraphBuilder\n",
    "\n",
    "g = GraphBuilder(raw_df, cells_mapper, colnames_mapper_dict)\n",
    "\n",
    "cells_type = {v:k for k, v in g.common_cell_type_mapper.items()}\n",
    "cells_type"
   ]
  },
  {
   "cell_type": "markdown",
   "id": "bae0d819",
   "metadata": {},
   "source": [
    "### Stage 2"
   ]
  },
  {
   "cell_type": "code",
   "execution_count": 10,
   "id": "1ea57012",
   "metadata": {
    "scrolled": true
   },
   "outputs": [
    {
     "data": {
      "application/vnd.jupyter.widget-view+json": {
       "model_id": "77176d367ac34fd28e59841251cc4bfb",
       "version_major": 2,
       "version_minor": 0
      },
      "text/plain": [
       "  0%|          | 0/177 [00:00<?, ?it/s]"
      ]
     },
     "metadata": {},
     "output_type": "display_data"
    },
    {
     "name": "stdout",
     "output_type": "stream",
     "text": [
      "C://Users//milsh//OneDrive//שולחן העבודה//FANMODPlus//out//build//x64-debug/LocalFANMOD.exe -i ../../data/Barak_testing_with_new_data//Patient_100_FOVFOV308.txt -o ./../../fanmod_output/Barak_testing_with_new_data//3//100_FOVFOV308.csv -r 1000 -s 3 --colored_vertcies\n",
      "C://Users//milsh//OneDrive//שולחן העבודה//FANMODPlus//out//build//x64-debug/LocalFANMOD.exe -i ../../data/Barak_testing_with_new_data//Patient_100_FOVFOV306.txt -o ./../../fanmod_output/Barak_testing_with_new_data//3//100_FOVFOV306.csv -r 1000 -s 3 --colored_vertcies\n",
      "C://Users//milsh//OneDrive//שולחן העבודה//FANMODPlus//out//build//x64-debug/LocalFANMOD.exe -i ../../data/Barak_testing_with_new_data//Patient_102_FOVFOV84.txt -o ./../../fanmod_output/Barak_testing_with_new_data//3//102_FOVFOV84.csv -r 1000 -s 3 --colored_vertcies\n",
      "C://Users//milsh//OneDrive//שולחן העבודה//FANMODPlus//out//build//x64-debug/LocalFANMOD.exe -i ../../data/Barak_testing_with_new_data//Patient_100_FOVFOV302.txt -o ./../../fanmod_output/Barak_testing_with_new_data//3//100_FOVFOV302.csv -r 1000 -s 3 --colored_vertcies\n",
      "C://Users//milsh//OneDrive//שולחן העבודה//FANMODPlus//out//build//x64-debug/LocalFANMOD.exe -i ../../data/Barak_testing_with_new_data//Patient_102_FOVFOV88.txt -o ./../../fanmod_output/Barak_testing_with_new_data//3//102_FOVFOV88.csv -r 1000 -s 3 --colored_vertcies\n",
      "C://Users//milsh//OneDrive//שולחן העבודה//FANMODPlus//out//build//x64-debug/LocalFANMOD.exe -i ../../data/Barak_testing_with_new_data//Patient_102_FOVFOV86.txt -o ./../../fanmod_output/Barak_testing_with_new_data//3//102_FOVFOV86.csv -r 1000 -s 3 --colored_vertcies\n",
      "C://Users//milsh//OneDrive//שולחן העבודה//FANMODPlus//out//build//x64-debug/LocalFANMOD.exe -i ../../data/Barak_testing_with_new_data//Patient_103_FOVFOV94.txt -o ./../../fanmod_output/Barak_testing_with_new_data//3//103_FOVFOV94.csv -r 1000 -s 3 --colored_vertcies\n",
      "C://Users//milsh//OneDrive//שולחן העבודה//FANMODPlus//out//build//x64-debug/LocalFANMOD.exe -i ../../data/Barak_testing_with_new_data//Patient_102_FOVFOV90.txt -o ./../../fanmod_output/Barak_testing_with_new_data//3//102_FOVFOV90.csv -r 1000 -s 3 --colored_vertcies\n",
      "C://Users//milsh//OneDrive//שולחן העבודה//FANMODPlus//out//build//x64-debug/LocalFANMOD.exe -i ../../data/Barak_testing_with_new_data//Patient_102_FOVFOV92.txt -o ./../../fanmod_output/Barak_testing_with_new_data//3//102_FOVFOV92.csv -r 1000 -s 3 --colored_vertcies\n",
      "C://Users//milsh//OneDrive//שולחן העבודה//FANMODPlus//out//build//x64-debug/LocalFANMOD.exe -i ../../data/Barak_testing_with_new_data//Patient_104_FOVFOV102.txt -o ./../../fanmod_output/Barak_testing_with_new_data//3//104_FOVFOV102.csv -r 1000 -s 3 --colored_vertcies\n",
      "C://Users//milsh//OneDrive//שולחן העבודה//FANMODPlus//out//build//x64-debug/LocalFANMOD.exe -i ../../data/Barak_testing_with_new_data//Patient_104_FOVFOV104.txt -o ./../../fanmod_output/Barak_testing_with_new_data//3//104_FOVFOV104.csv -r 1000 -s 3 --colored_vertcies\n",
      "C://Users//milsh//OneDrive//שולחן העבודה//FANMODPlus//out//build//x64-debug/LocalFANMOD.exe -i ../../data/Barak_testing_with_new_data//Patient_104_FOVFOV96.txt -o ./../../fanmod_output/Barak_testing_with_new_data//3//104_FOVFOV96.csv -r 1000 -s 3 --colored_vertcies\n",
      "C://Users//milsh//OneDrive//שולחן העבודה//FANMODPlus//out//build//x64-debug/LocalFANMOD.exe -i ../../data/Barak_testing_with_new_data//Patient_104_FOVFOV98.txt -o ./../../fanmod_output/Barak_testing_with_new_data//3//104_FOVFOV98.csv -r 1000 -s 3 --colored_vertcies\n",
      "C://Users//milsh//OneDrive//שולחן העבודה//FANMODPlus//out//build//x64-debug/LocalFANMOD.exe -i ../../data/Barak_testing_with_new_data//Patient_106_FOVFOV100.txt -o ./../../fanmod_output/Barak_testing_with_new_data//3//106_FOVFOV100.csv -r 1000 -s 3 --colored_vertcies\n",
      "C://Users//milsh//OneDrive//שולחן העבודה//FANMODPlus//out//build//x64-debug/LocalFANMOD.exe -i ../../data/Barak_testing_with_new_data//Patient_106_FOVFOV394.txt -o ./../../fanmod_output/Barak_testing_with_new_data//3//106_FOVFOV394.csv -r 1000 -s 3 --colored_vertcies\n",
      "C://Users//milsh//OneDrive//שולחן העבודה//FANMODPlus//out//build//x64-debug/LocalFANMOD.exe -i ../../data/Barak_testing_with_new_data//Patient_107_FOVFOV174.txt -o ./../../fanmod_output/Barak_testing_with_new_data//3//107_FOVFOV174.csv -r 1000 -s 3 --colored_vertcies\n",
      "C://Users//milsh//OneDrive//שולחן העבודה//FANMODPlus//out//build//x64-debug/LocalFANMOD.exe -i ../../data/Barak_testing_with_new_data//Patient_107_FOVFOV180.txt -o ./../../fanmod_output/Barak_testing_with_new_data//3//107_FOVFOV180.csv -r 1000 -s 3 --colored_vertcies\n",
      "C://Users//milsh//OneDrive//שולחן העבודה//FANMODPlus//out//build//x64-debug/LocalFANMOD.exe -i ../../data/Barak_testing_with_new_data//Patient_107_FOVFOV370.txt -o ./../../fanmod_output/Barak_testing_with_new_data//3//107_FOVFOV370.csv -r 1000 -s 3 --colored_vertcies\n",
      "C://Users//milsh//OneDrive//שולחן העבודה//FANMODPlus//out//build//x64-debug/LocalFANMOD.exe -i ../../data/Barak_testing_with_new_data//Patient_108_FOVFOV182.txt -o ./../../fanmod_output/Barak_testing_with_new_data//3//108_FOVFOV182.csv -r 1000 -s 3 --colored_vertcies\n",
      "C://Users//milsh//OneDrive//שולחן העבודה//FANMODPlus//out//build//x64-debug/LocalFANMOD.exe -i ../../data/Barak_testing_with_new_data//Patient_109_FOVFOV184.txt -o ./../../fanmod_output/Barak_testing_with_new_data//3//109_FOVFOV184.csv -r 1000 -s 3 --colored_vertcies\n",
      "C://Users//milsh//OneDrive//שולחן העבודה//FANMODPlus//out//build//x64-debug/LocalFANMOD.exe -i ../../data/Barak_testing_with_new_data//Patient_109_FOVFOV190.txt -o ./../../fanmod_output/Barak_testing_with_new_data//3//109_FOVFOV190.csv -r 1000 -s 3 --colored_vertcies\n",
      "C://Users//milsh//OneDrive//שולחן העבודה//FANMODPlus//out//build//x64-debug/LocalFANMOD.exe -i ../../data/Barak_testing_with_new_data//Patient_10_FOVFOV116.txt -o ./../../fanmod_output/Barak_testing_with_new_data//3//10_FOVFOV116.csv -r 1000 -s 3 --colored_vertcies\n",
      "C://Users//milsh//OneDrive//שולחן העבודה//FANMODPlus//out//build//x64-debug/LocalFANMOD.exe -i ../../data/Barak_testing_with_new_data//Patient_10_FOVFOV118.txt -o ./../../fanmod_output/Barak_testing_with_new_data//3//10_FOVFOV118.csv -r 1000 -s 3 --colored_vertcies\n",
      "C://Users//milsh//OneDrive//שולחן העבודה//FANMODPlus//out//build//x64-debug/LocalFANMOD.exe -i ../../data/Barak_testing_with_new_data//Patient_110_FOVFOV192.txt -o ./../../fanmod_output/Barak_testing_with_new_data//3//110_FOVFOV192.csv -r 1000 -s 3 --colored_vertcies\n",
      "C://Users//milsh//OneDrive//שולחן העבודה//FANMODPlus//out//build//x64-debug/LocalFANMOD.exe -i ../../data/Barak_testing_with_new_data//Patient_110_FOVFOV194.txt -o ./../../fanmod_output/Barak_testing_with_new_data//3//110_FOVFOV194.csv -r 1000 -s 3 --colored_vertcies\n",
      "C://Users//milsh//OneDrive//שולחן העבודה//FANMODPlus//out//build//x64-debug/LocalFANMOD.exe -i ../../data/Barak_testing_with_new_data//Patient_110_FOVFOV372.txt -o ./../../fanmod_output/Barak_testing_with_new_data//3//110_FOVFOV372.csv -r 1000 -s 3 --colored_vertcies\n",
      "C://Users//milsh//OneDrive//שולחן העבודה//FANMODPlus//out//build//x64-debug/LocalFANMOD.exe -i ../../data/Barak_testing_with_new_data//Patient_110_FOVFOV374.txt -o ./../../fanmod_output/Barak_testing_with_new_data//3//110_FOVFOV374.csv -r 1000 -s 3 --colored_vertcies\n",
      "C://Users//milsh//OneDrive//שולחן העבודה//FANMODPlus//out//build//x64-debug/LocalFANMOD.exe -i ../../data/Barak_testing_with_new_data//Patient_111_FOVFOV196.txt -o ./../../fanmod_output/Barak_testing_with_new_data//3//111_FOVFOV196.csv -r 1000 -s 3 --colored_vertcies\n",
      "C://Users//milsh//OneDrive//שולחן העבודה//FANMODPlus//out//build//x64-debug/LocalFANMOD.exe -i ../../data/Barak_testing_with_new_data//Patient_111_FOVFOV198.txt -o ./../../fanmod_output/Barak_testing_with_new_data//3//111_FOVFOV198.csv -r 1000 -s 3 --colored_vertcies\n",
      "C://Users//milsh//OneDrive//שולחן העבודה//FANMODPlus//out//build//x64-debug/LocalFANMOD.exe -i ../../data/Barak_testing_with_new_data//Patient_111_FOVFOV204.txt -o ./../../fanmod_output/Barak_testing_with_new_data//3//111_FOVFOV204.csv -r 1000 -s 3 --colored_vertcies\n",
      "C://Users//milsh//OneDrive//שולחן העבודה//FANMODPlus//out//build//x64-debug/LocalFANMOD.exe -i ../../data/Barak_testing_with_new_data//Patient_112_FOVFOV206.txt -o ./../../fanmod_output/Barak_testing_with_new_data//3//112_FOVFOV206.csv -r 1000 -s 3 --colored_vertcies\n"
     ]
    },
    {
     "name": "stdout",
     "output_type": "stream",
     "text": [
      "C://Users//milsh//OneDrive//שולחן העבודה//FANMODPlus//out//build//x64-debug/LocalFANMOD.exe -i ../../data/Barak_testing_with_new_data//Patient_112_FOVFOV212.txt -o ./../../fanmod_output/Barak_testing_with_new_data//3//112_FOVFOV212.csv -r 1000 -s 3 --colored_vertcies\n",
      "C://Users//milsh//OneDrive//שולחן העבודה//FANMODPlus//out//build//x64-debug/LocalFANMOD.exe -i ../../data/Barak_testing_with_new_data//Patient_114_FOVFOV322.txt -o ./../../fanmod_output/Barak_testing_with_new_data//3//114_FOVFOV322.csv -r 1000 -s 3 --colored_vertcies\n",
      "C://Users//milsh//OneDrive//שולחן העבודה//FANMODPlus//out//build//x64-debug/LocalFANMOD.exe -i ../../data/Barak_testing_with_new_data//Patient_114_FOVFOV324.txt -o ./../../fanmod_output/Barak_testing_with_new_data//3//114_FOVFOV324.csv -r 1000 -s 3 --colored_vertcies\n",
      "C://Users//milsh//OneDrive//שולחן העבודה//FANMODPlus//out//build//x64-debug/LocalFANMOD.exe -i ../../data/Barak_testing_with_new_data//Patient_115_FOVFOV326.txt -o ./../../fanmod_output/Barak_testing_with_new_data//3//115_FOVFOV326.csv -r 1000 -s 3 --colored_vertcies\n",
      "C://Users//milsh//OneDrive//שולחן העבודה//FANMODPlus//out//build//x64-debug/LocalFANMOD.exe -i ../../data/Barak_testing_with_new_data//Patient_115_FOVFOV332.txt -o ./../../fanmod_output/Barak_testing_with_new_data//3//115_FOVFOV332.csv -r 1000 -s 3 --colored_vertcies\n",
      "C://Users//milsh//OneDrive//שולחן העבודה//FANMODPlus//out//build//x64-debug/LocalFANMOD.exe -i ../../data/Barak_testing_with_new_data//Patient_115_FOVFOV334.txt -o ./../../fanmod_output/Barak_testing_with_new_data//3//115_FOVFOV334.csv -r 1000 -s 3 --colored_vertcies\n",
      "C://Users//milsh//OneDrive//שולחן העבודה//FANMODPlus//out//build//x64-debug/LocalFANMOD.exe -i ../../data/Barak_testing_with_new_data//Patient_117_FOVFOV336.txt -o ./../../fanmod_output/Barak_testing_with_new_data//3//117_FOVFOV336.csv -r 1000 -s 3 --colored_vertcies\n"
     ]
    },
    {
     "ename": "KeyboardInterrupt",
     "evalue": "",
     "output_type": "error",
     "traceback": [
      "\u001b[1;31m---------------------------------------------------------------------------\u001b[0m",
      "\u001b[1;31mKeyboardInterrupt\u001b[0m                         Traceback (most recent call last)",
      "Cell \u001b[1;32mIn[10], line 16\u001b[0m\n\u001b[0;32m      6\u001b[0m cism \u001b[38;5;241m=\u001b[39m CISM(fanmod_exe\u001b[38;5;241m=\u001b[39mFANMOD_exe,\n\u001b[0;32m      7\u001b[0m             fanmod_path\u001b[38;5;241m=\u001b[39mFANMOD_path,\n\u001b[0;32m      8\u001b[0m             network_dataset_root_path\u001b[38;5;241m=\u001b[39mroot_data_dir,\n\u001b[1;32m   (...)\u001b[0m\n\u001b[0;32m     11\u001b[0m             motif_size\u001b[38;5;241m=\u001b[39mmotif_size,\n\u001b[0;32m     12\u001b[0m             iterations\u001b[38;5;241m=\u001b[39miterations)\n\u001b[0;32m     15\u001b[0m \u001b[38;5;66;03m# adding the dataset\u001b[39;00m\n\u001b[1;32m---> 16\u001b[0m \u001b[43mcism\u001b[49m\u001b[38;5;241;43m.\u001b[39;49m\u001b[43madd_dataset\u001b[49m\u001b[43m(\u001b[49m\u001b[43moutput_graphs_dir\u001b[49m\u001b[43m,\u001b[49m\u001b[43m \u001b[49m\n\u001b[0;32m     17\u001b[0m \u001b[43m                 \u001b[49m\u001b[38;5;124;43m'\u001b[39;49m\u001b[38;5;124;43mDisease\u001b[39;49m\u001b[38;5;124;43m'\u001b[39;49m\u001b[43m,\u001b[49m\u001b[43m \u001b[49m\n\u001b[0;32m     18\u001b[0m \u001b[43m                 \u001b[49m\u001b[38;5;124;43m'\u001b[39;49m\u001b[38;5;124;43mMelanoma\u001b[39;49m\u001b[38;5;124;43m'\u001b[39;49m\u001b[43m,\u001b[49m\n\u001b[0;32m     19\u001b[0m \u001b[43m                 \u001b[49m\u001b[43mforce_run_fanmod\u001b[49m\u001b[38;5;241;43m=\u001b[39;49m\u001b[38;5;28;43;01mFalse\u001b[39;49;00m\u001b[43m,\u001b[49m\u001b[43m \u001b[49m\n\u001b[0;32m     20\u001b[0m \u001b[43m                 \u001b[49m\u001b[43mforce_parse\u001b[49m\u001b[38;5;241;43m=\u001b[39;49m\u001b[38;5;28;43;01mFalse\u001b[39;49;00m\u001b[43m,\u001b[49m\u001b[43m \u001b[49m\n\u001b[0;32m     21\u001b[0m \u001b[43m                 \u001b[49m\u001b[43mn_jobs\u001b[49m\u001b[38;5;241;43m=\u001b[39;49m\u001b[38;5;241;43m12\u001b[39;49m\u001b[43m)\u001b[49m\n",
      "File \u001b[1;32m~\\PycharmProjects\\CISM\\analysis\\..\\cism\\cism.py:75\u001b[0m, in \u001b[0;36mCISM.add_dataset\u001b[1;34m(self, dataset_folder, dataset_type, dataset_name, **kwargs)\u001b[0m\n\u001b[0;32m     72\u001b[0m set_loky_pickler()\n\u001b[0;32m     74\u001b[0m \u001b[38;5;28;01mfor\u001b[39;00m r, d, files \u001b[38;5;129;01min\u001b[39;00m os\u001b[38;5;241m.\u001b[39mwalk(\u001b[38;5;28mself\u001b[39m\u001b[38;5;241m.\u001b[39mnetwork_dataset_root_path \u001b[38;5;241m+\u001b[39m dataset_folder):\n\u001b[1;32m---> 75\u001b[0m     \u001b[43mParallel\u001b[49m\u001b[43m(\u001b[49m\u001b[43mn_jobs\u001b[49m\u001b[38;5;241;43m=\u001b[39;49m\u001b[43mn_jobs\u001b[49m\u001b[43m,\u001b[49m\u001b[43m \u001b[49m\u001b[43mprefer\u001b[49m\u001b[38;5;241;43m=\u001b[39;49m\u001b[43mprefer\u001b[49m\u001b[43m)\u001b[49m\u001b[43m(\u001b[49m\u001b[43mdelayed\u001b[49m\u001b[43m(\u001b[49m\u001b[38;5;28;43mself\u001b[39;49m\u001b[38;5;241;43m.\u001b[39;49m\u001b[43m_analyze_dataset\u001b[49m\u001b[43m)\u001b[49m\u001b[43m(\u001b[49m\n\u001b[0;32m     76\u001b[0m \u001b[43m                                                                \u001b[49m\u001b[43mfile\u001b[49m\u001b[38;5;241;43m=\u001b[39;49m\u001b[43mfile\u001b[49m\u001b[43m,\u001b[49m\n\u001b[0;32m     77\u001b[0m \u001b[43m                                                                \u001b[49m\u001b[43moutput_dir\u001b[49m\u001b[38;5;241;43m=\u001b[39;49m\u001b[38;5;28;43mself\u001b[39;49m\u001b[38;5;241;43m.\u001b[39;49m\u001b[43mfanmod_output_root_path\u001b[49m\u001b[43m \u001b[49m\u001b[38;5;241;43m+\u001b[39;49m\u001b[43m \u001b[49m\u001b[43mdataset_folder\u001b[49m\u001b[43m,\u001b[49m\n\u001b[0;32m     78\u001b[0m \u001b[43m                                                                \u001b[49m\u001b[43mcache_dir\u001b[49m\u001b[38;5;241;43m=\u001b[39;49m\u001b[38;5;28;43mself\u001b[39;49m\u001b[38;5;241;43m.\u001b[39;49m\u001b[43mfanmod_cache_root_path\u001b[49m\u001b[43m \u001b[49m\u001b[38;5;241;43m+\u001b[39;49m\u001b[43m \u001b[49m\u001b[43mdataset_folder\u001b[49m\u001b[43m,\u001b[49m\n\u001b[0;32m     79\u001b[0m \u001b[43m                                                                \u001b[49m\u001b[43mforce_run_fanmod\u001b[49m\u001b[38;5;241;43m=\u001b[39;49m\u001b[43mforce_run_fanmod\u001b[49m\u001b[43m,\u001b[49m\n\u001b[0;32m     80\u001b[0m \u001b[43m                                                                \u001b[49m\u001b[43mraw_data_folder\u001b[49m\u001b[38;5;241;43m=\u001b[39;49m\u001b[38;5;28;43mself\u001b[39;49m\u001b[38;5;241;43m.\u001b[39;49m\u001b[43mnetwork_dataset_root_path\u001b[49m\u001b[43m \u001b[49m\u001b[38;5;241;43m+\u001b[39;49m\u001b[43m \u001b[49m\u001b[43mdataset_folder\u001b[49m\u001b[43m,\u001b[49m\n\u001b[0;32m     81\u001b[0m \u001b[43m                                                                \u001b[49m\u001b[43mforce_parse\u001b[49m\u001b[38;5;241;43m=\u001b[39;49m\u001b[43mforce_parse\u001b[49m\u001b[43m,\u001b[49m\n\u001b[0;32m     82\u001b[0m \u001b[43m                                                                \u001b[49m\u001b[43menable_parse\u001b[49m\u001b[38;5;241;43m=\u001b[39;49m\u001b[38;5;28;43;01mFalse\u001b[39;49;00m\u001b[43m)\u001b[49m\u001b[43m \u001b[49m\u001b[38;5;28;43;01mfor\u001b[39;49;00m\u001b[43m \u001b[49m\u001b[43mfile\u001b[49m\u001b[43m \u001b[49m\u001b[38;5;129;43;01min\u001b[39;49;00m\u001b[43m \u001b[49m\u001b[43mtqdm\u001b[49m\u001b[43m(\u001b[49m\u001b[43mfiles\u001b[49m\u001b[43m)\u001b[49m\u001b[43m)\u001b[49m\n\u001b[0;32m     84\u001b[0m     result_list \u001b[38;5;241m=\u001b[39m Parallel(n_jobs\u001b[38;5;241m=\u001b[39mn_jobs, prefer\u001b[38;5;241m=\u001b[39mprefer, return_as\u001b[38;5;241m=\u001b[39m\u001b[38;5;124m\"\u001b[39m\u001b[38;5;124mgenerator\u001b[39m\u001b[38;5;124m\"\u001b[39m)(delayed(\u001b[38;5;28mself\u001b[39m\u001b[38;5;241m.\u001b[39m_analyze_dataset)(\n\u001b[0;32m     85\u001b[0m                                                                 file\u001b[38;5;241m=\u001b[39mfile,\n\u001b[0;32m     86\u001b[0m                                                                 output_dir\u001b[38;5;241m=\u001b[39m\u001b[38;5;28mself\u001b[39m\u001b[38;5;241m.\u001b[39mfanmod_output_root_path \u001b[38;5;241m+\u001b[39m dataset_folder,\n\u001b[1;32m   (...)\u001b[0m\n\u001b[0;32m     92\u001b[0m                                                                 p_value\u001b[38;5;241m=\u001b[39mp_value,\n\u001b[0;32m     93\u001b[0m                                                                 quantile_threshold\u001b[38;5;241m=\u001b[39mquantile_threshold) \u001b[38;5;28;01mfor\u001b[39;00m file \u001b[38;5;129;01min\u001b[39;00m tqdm(files))\n\u001b[0;32m     95\u001b[0m     motifs_dataset \u001b[38;5;241m=\u001b[39m pd\u001b[38;5;241m.\u001b[39mconcat(result_list, ignore_index\u001b[38;5;241m=\u001b[39m\u001b[38;5;28;01mTrue\u001b[39;00m)\n",
      "File \u001b[1;32m~\\PycharmProjects\\CISM\\venv\\lib\\site-packages\\joblib\\parallel.py:2007\u001b[0m, in \u001b[0;36mParallel.__call__\u001b[1;34m(self, iterable)\u001b[0m\n\u001b[0;32m   2001\u001b[0m \u001b[38;5;66;03m# The first item from the output is blank, but it makes the interpreter\u001b[39;00m\n\u001b[0;32m   2002\u001b[0m \u001b[38;5;66;03m# progress until it enters the Try/Except block of the generator and\u001b[39;00m\n\u001b[0;32m   2003\u001b[0m \u001b[38;5;66;03m# reaches the first `yield` statement. This starts the asynchronous\u001b[39;00m\n\u001b[0;32m   2004\u001b[0m \u001b[38;5;66;03m# dispatch of the tasks to the workers.\u001b[39;00m\n\u001b[0;32m   2005\u001b[0m \u001b[38;5;28mnext\u001b[39m(output)\n\u001b[1;32m-> 2007\u001b[0m \u001b[38;5;28;01mreturn\u001b[39;00m output \u001b[38;5;28;01mif\u001b[39;00m \u001b[38;5;28mself\u001b[39m\u001b[38;5;241m.\u001b[39mreturn_generator \u001b[38;5;28;01melse\u001b[39;00m \u001b[38;5;28;43mlist\u001b[39;49m\u001b[43m(\u001b[49m\u001b[43moutput\u001b[49m\u001b[43m)\u001b[49m\n",
      "File \u001b[1;32m~\\PycharmProjects\\CISM\\venv\\lib\\site-packages\\joblib\\parallel.py:1650\u001b[0m, in \u001b[0;36mParallel._get_outputs\u001b[1;34m(self, iterator, pre_dispatch)\u001b[0m\n\u001b[0;32m   1647\u001b[0m     \u001b[38;5;28;01myield\u001b[39;00m\n\u001b[0;32m   1649\u001b[0m     \u001b[38;5;28;01mwith\u001b[39;00m \u001b[38;5;28mself\u001b[39m\u001b[38;5;241m.\u001b[39m_backend\u001b[38;5;241m.\u001b[39mretrieval_context():\n\u001b[1;32m-> 1650\u001b[0m         \u001b[38;5;28;01myield from\u001b[39;00m \u001b[38;5;28mself\u001b[39m\u001b[38;5;241m.\u001b[39m_retrieve()\n\u001b[0;32m   1652\u001b[0m \u001b[38;5;28;01mexcept\u001b[39;00m \u001b[38;5;167;01mGeneratorExit\u001b[39;00m:\n\u001b[0;32m   1653\u001b[0m     \u001b[38;5;66;03m# The generator has been garbage collected before being fully\u001b[39;00m\n\u001b[0;32m   1654\u001b[0m     \u001b[38;5;66;03m# consumed. This aborts the remaining tasks if possible and warn\u001b[39;00m\n\u001b[0;32m   1655\u001b[0m     \u001b[38;5;66;03m# the user if necessary.\u001b[39;00m\n\u001b[0;32m   1656\u001b[0m     \u001b[38;5;28mself\u001b[39m\u001b[38;5;241m.\u001b[39m_exception \u001b[38;5;241m=\u001b[39m \u001b[38;5;28;01mTrue\u001b[39;00m\n",
      "File \u001b[1;32m~\\PycharmProjects\\CISM\\venv\\lib\\site-packages\\joblib\\parallel.py:1762\u001b[0m, in \u001b[0;36mParallel._retrieve\u001b[1;34m(self)\u001b[0m\n\u001b[0;32m   1757\u001b[0m \u001b[38;5;66;03m# If the next job is not ready for retrieval yet, we just wait for\u001b[39;00m\n\u001b[0;32m   1758\u001b[0m \u001b[38;5;66;03m# async callbacks to progress.\u001b[39;00m\n\u001b[0;32m   1759\u001b[0m \u001b[38;5;28;01mif\u001b[39;00m ((\u001b[38;5;28mlen\u001b[39m(\u001b[38;5;28mself\u001b[39m\u001b[38;5;241m.\u001b[39m_jobs) \u001b[38;5;241m==\u001b[39m \u001b[38;5;241m0\u001b[39m) \u001b[38;5;129;01mor\u001b[39;00m\n\u001b[0;32m   1760\u001b[0m     (\u001b[38;5;28mself\u001b[39m\u001b[38;5;241m.\u001b[39m_jobs[\u001b[38;5;241m0\u001b[39m]\u001b[38;5;241m.\u001b[39mget_status(\n\u001b[0;32m   1761\u001b[0m         timeout\u001b[38;5;241m=\u001b[39m\u001b[38;5;28mself\u001b[39m\u001b[38;5;241m.\u001b[39mtimeout) \u001b[38;5;241m==\u001b[39m TASK_PENDING)):\n\u001b[1;32m-> 1762\u001b[0m     \u001b[43mtime\u001b[49m\u001b[38;5;241;43m.\u001b[39;49m\u001b[43msleep\u001b[49m\u001b[43m(\u001b[49m\u001b[38;5;241;43m0.01\u001b[39;49m\u001b[43m)\u001b[49m\n\u001b[0;32m   1763\u001b[0m     \u001b[38;5;28;01mcontinue\u001b[39;00m\n\u001b[0;32m   1765\u001b[0m \u001b[38;5;66;03m# We need to be careful: the job list can be filling up as\u001b[39;00m\n\u001b[0;32m   1766\u001b[0m \u001b[38;5;66;03m# we empty it and Python list are not thread-safe by\u001b[39;00m\n\u001b[0;32m   1767\u001b[0m \u001b[38;5;66;03m# default hence the use of the lock\u001b[39;00m\n",
      "\u001b[1;31mKeyboardInterrupt\u001b[0m: "
     ]
    }
   ],
   "source": [
    "from cism.cism import CISM\n",
    "\n",
    "motif_size = 3\n",
    "iterations = 1000\n",
    "\n",
    "cism = CISM(fanmod_exe=FANMOD_exe,\n",
    "            fanmod_path=FANMOD_path,\n",
    "            network_dataset_root_path=root_data_dir,\n",
    "            fanmod_output_root_path=output_dir,\n",
    "            fanmod_cache_root_path=cache_dir,\n",
    "            motif_size=motif_size,\n",
    "            iterations=iterations)\n",
    "\n",
    "\n",
    "# adding the dataset\n",
    "cism.add_dataset(output_graphs_dir, \n",
    "                 'Disease', \n",
    "                 'Melanoma',\n",
    "                 force_run_fanmod=False, \n",
    "                 force_parse=False, \n",
    "                 n_jobs=12)"
   ]
  },
  {
   "cell_type": "markdown",
   "id": "208dab43",
   "metadata": {},
   "source": [
    "### Stage 3"
   ]
  },
  {
   "cell_type": "code",
   "execution_count": null,
   "id": "9d3a27b4",
   "metadata": {},
   "outputs": [],
   "source": [
    "# Create the tissue_state_csv which includes the patients id and his class (NN/NP etc..)\n",
    "df = raw_df.drop(['fov', 'meta_pred', 'grouped_meta_phenotype', 'cell_id', 'centroid-0', 'centroid-1'], axis=1)\n",
    "df.drop_duplicates(subset=['patient number', 'Group'], inplace=True)\n",
    "df.to_csv(raw_patient_class_file_name, index=False)"
   ]
  },
  {
   "cell_type": "code",
   "execution_count": null,
   "id": "478a7ae5",
   "metadata": {},
   "outputs": [],
   "source": [
    "from cism.cism import TissueStateDiscriminativeMotifs\n",
    "from cism.cism import DiscriminativeFeatureKey\n",
    "\n",
    "# In TNBC, this func used to be make the TNBC data which is continous to be 0 (Short) or 1 (Long)\n",
    "# here, we dont really need it\n",
    "tissue_state_func =  \n",
    "\n",
    "discriminator = TissueStateDiscriminativeMotifs(cism=cism,\n",
    "                                                tissue_state_csv_path=raw_patient_class_file,\n",
    "                                                tissue_state_to_string=None,\n",
    "                                                common_cells_type=cells_type)"
   ]
  },
  {
   "cell_type": "code",
   "execution_count": null,
   "id": "5a6fb7ee",
   "metadata": {},
   "outputs": [],
   "source": []
  },
  {
   "cell_type": "markdown",
   "id": "3e4f48a9",
   "metadata": {},
   "source": [
    "### Stage 4"
   ]
  },
  {
   "cell_type": "code",
   "execution_count": 17,
   "id": "858c087e",
   "metadata": {},
   "outputs": [],
   "source": [
    "from cism.cism import HardDiscriminativeFC, SoftDiscriminativeFC, DiscriminativeFeatureKey\n",
    "import itertools\n",
    "\n",
    "results_table = None\n",
    "\n",
    "for left_class, right_class in itertools.combinations(['NN', 'NP'], 2):\n",
    "    for th in [0.2, 0.3, 0.4, 0.42, 0.44, 0.46, 0.48, 0.5, 0.6, 0.7, 0.72, 0.74, 0.76, 0.8]:\n",
    "        try:\n",
    "            print(f'task: {left_class} - {right_class}')\n",
    "            featureConf = HardDiscriminativeFC(\n",
    "                extract_by=DiscriminativeFeatureKey.STRUCTURE_AND_CELL_IDENTITIES,\n",
    "                use_cells_type_composition=False,\n",
    "                use_motifs=True,\n",
    "                shared_percentage=th,\n",
    "                max_class_features=30,\n",
    "                labels=[left_class, right_class])\n",
    "\n",
    "            motif_space_features = (discriminator\n",
    "                                    .get_features(feature_conf=featureConf,\n",
    "                                                  exclude_patients=[],\n",
    "                                                  n_jobs=1))\n",
    "\n",
    "            optimal_result = (discriminator\n",
    "                              .analyze_motifs(feature_conf=featureConf,\n",
    "                                              exclude_patients=[],\n",
    "                                              n_jobs=1))\n",
    "\n",
    "            print(f'classes: {[left_class, right_class]} '\n",
    "                  f'th:{th} score: {optimal_result.get_roc_auc_score()}')\n",
    "\n",
    "            all_motif_features = []\n",
    "            for idx, row in motif_space_features.iterrows():\n",
    "                all_motif_features += row['features']\n",
    "            all_motif_features = list(set(all_motif_features))\n",
    "\n",
    "            motif_freq = []\n",
    "            motif_count = []\n",
    "            motifs_dataset = discriminator.cism.motifs_dataset\n",
    "            for motif_id in all_motif_features:\n",
    "                motif_mean_freq = motifs_dataset[motifs_dataset['ID'] == motif_id]['Freq'].mean()\n",
    "                motif_mean_count = motifs_dataset[motifs_dataset['ID'] == motif_id]['Count'].mean()\n",
    "                motif_freq.append(motif_mean_freq)\n",
    "                motif_count.append(motif_mean_count)\n",
    "\n",
    "            results_table = pd.concat([pd.DataFrame(\n",
    "                                            {'th': th,\n",
    "                                             'task': left_class + '-' + right_class,\n",
    "                                             'left_class': left_class,\n",
    "                                             'right_class': right_class,\n",
    "                                             'roc_auc_score': optimal_result.get_roc_auc_score(),\n",
    "                                             'all_motif_features': all_motif_features,\n",
    "                                             'motif_mean_freq': motif_freq,\n",
    "                                             'motif_mean_count': motif_count}),\n",
    "                                             results_table], ignore_index=True)\n",
    "        except:\n",
    "            break"
   ]
  },
  {
   "cell_type": "code",
   "execution_count": null,
   "id": "c9eab714",
   "metadata": {},
   "outputs": [],
   "source": []
  }
 ],
 "metadata": {
  "kernelspec": {
   "display_name": "Python 3 (ipykernel)",
   "language": "python",
   "name": "python3"
  },
  "language_info": {
   "codemirror_mode": {
    "name": "ipython",
    "version": 3
   },
   "file_extension": ".py",
   "mimetype": "text/x-python",
   "name": "python",
   "nbconvert_exporter": "python",
   "pygments_lexer": "ipython3",
   "version": "3.10.0"
  }
 },
 "nbformat": 4,
 "nbformat_minor": 5
}
