{
 "cells": [
  {
   "cell_type": "markdown",
   "metadata": {},
   "source": [
    "## Configuration"
   ]
  },
  {
   "cell_type": "code",
   "execution_count": 9,
   "metadata": {
    "pycharm": {
     "name": "#%%\n"
    }
   },
   "outputs": [],
   "source": [
    "from collections import Counter\n",
    "\n",
    "import pandas as pd\n",
    "\n",
    "FANMOD_path = \"C:\\\\Users\\\\User\\\\source\\\\repos\\\\fanmod-cmd\\\\out\\\\build\\\\x64-release\"\n",
    "FANMOD_exe = \"LocalFANMOD.exe\"\n",
    "\n",
    "raw_data_folder = './../../data'\n",
    "raw_data_folder_dataset = '/melanoma_distance_100_XX'\n",
    "output_dir = './../../fanmod_output'\n",
    "cache_dir = './../../parse_cache'\n",
    "results_dir = './../../results/melanoma_distance_100_XX'\n",
    "motif_size = 3\n",
    "iterations = 1000\n",
    "force_run_fanmod = False\n",
    "force_parse = False"
   ]
  },
  {
   "cell_type": "code",
   "execution_count": 10,
   "metadata": {
    "pycharm": {
     "name": "#%%\n"
    }
   },
   "outputs": [],
   "source": [
    "cells_type = {\n",
    "    0: 'B cell',\n",
    "    1: 'CD4 APC',\n",
    "    2: 'CD4 T cell',\n",
    "    3: 'CD4 Treg',\n",
    "    4: 'CD8 T cell',\n",
    "    5: 'DCs',\n",
    "    6: 'Germinal Center B cell',\n",
    "    7: 'Hevs',\n",
    "    8: 'MAC',\n",
    "    9: 'Memory CD4 T Cell',\n",
    "    10: 'NK cell',\n",
    "    11: 'Neutrophil',\n",
    "    12: 'Stroma',\n",
    "    13: 'Tumor',\n",
    "    14: 'Unidentified',\n",
    "    15: 'Vessels'\n",
    "}\n",
    "\n",
    "Distant_metastases_class = {\n",
    "    'NP': 'NP',\n",
    "    'NN': 'NN',\n",
    "    'PN': 'PN',\n",
    "    'PP': 'PP',\n",
    "}\n",
    "\n",
    "class_to_color = {\n",
    "    'NP': 'green',\n",
    "    'NN': 'yellow',\n",
    "    'PN': 'magenta',\n",
    "    'PP': 'blue',\n",
    "}\n",
    "\n",
    "target_classes = ['NP', 'PN']\n",
    "target_classes_str = 'NP_PN'"
   ]
  },
  {
   "cell_type": "markdown",
   "metadata": {
    "pycharm": {
     "name": "#%% md\n"
    }
   },
   "source": [
    "## Steps\n",
    "1. Initiate CISM object\n",
    "2. Load datasets\n",
    "3. Initiate CISMTask"
   ]
  },
  {
   "cell_type": "code",
   "execution_count": 11,
   "metadata": {
    "pycharm": {
     "name": "#%%\n"
    }
   },
   "outputs": [],
   "source": [
    "from cism.cism import CISM"
   ]
  },
  {
   "cell_type": "code",
   "metadata": {
    "pycharm": {
     "name": "#%%\n"
    }
   },
   "source": [
    "cism = CISM(fanmod_exe=FANMOD_exe,\n",
    "            fanmod_path=FANMOD_path,\n",
    "            network_dataset_root_path=raw_data_folder,\n",
    "            fanmod_output_root_path=output_dir,\n",
    "            fanmod_cache_root_path=cache_dir,\n",
    "            motif_size=motif_size,\n",
    "            iterations=iterations)\n",
    "\n",
    "# adding Melanoma dataset\n",
    "cism.add_dataset(raw_data_folder_dataset, 'Disease', 'Melanoma', force_run_fanmod=force_run_fanmod, force_parse=force_parse, n_jobs=8, quantile_threshold=1)"
   ],
   "outputs": [
    {
     "data": {
      "text/plain": "  0%|          | 0/178 [00:00<?, ?it/s]",
      "application/vnd.jupyter.widget-view+json": {
       "version_major": 2,
       "version_minor": 0,
       "model_id": "548636549f3d48cb98525a10570a7ee2"
      }
     },
     "metadata": {},
     "output_type": "display_data"
    },
    {
     "data": {
      "text/plain": "  0%|          | 0/178 [00:00<?, ?it/s]",
      "application/vnd.jupyter.widget-view+json": {
       "version_major": 2,
       "version_minor": 0,
       "model_id": "2b144a5d7f814ef387ce38c2e7134c9d"
      }
     },
     "metadata": {},
     "output_type": "display_data"
    }
   ],
   "execution_count": 12
  },
  {
   "cell_type": "code",
   "execution_count": 13,
   "metadata": {
    "pycharm": {
     "name": "#%%\n"
    }
   },
   "outputs": [],
   "source": [
    "from cism.cism import TissueStateDiscriminativeMotifs\n",
    "from cism.cism import DiscriminativeFeatureKey\n",
    "\n",
    "discriminator = TissueStateDiscriminativeMotifs(cism=cism,\n",
    "                                                tissue_state_csv_path=raw_data_folder + raw_data_folder_dataset + '/patient_class.csv',\n",
    "                                                tissue_state_to_string=Distant_metastases_class,\n",
    "                                                common_cells_type=cells_type)"
   ]
  },
  {
   "cell_type": "markdown",
   "source": [
    "Here we want to evaluate to compare the following:\n",
    "1. NP versus PN\n",
    "2. NP versus PP\n",
    "3. NN versus PN\n",
    "4. NN versus PP"
   ],
   "metadata": {
    "collapsed": false,
    "pycharm": {
     "name": "#%% md\n"
    }
   }
  },
  {
   "cell_type": "code",
   "execution_count": 6,
   "outputs": [
    {
     "data": {
      "text/plain": "               patient_class_id\npatient_class                  \nNN                           20\nNP                           18\nPN                           13\nPP                           17",
      "text/html": "<div>\n<style scoped>\n    .dataframe tbody tr th:only-of-type {\n        vertical-align: middle;\n    }\n\n    .dataframe tbody tr th {\n        vertical-align: top;\n    }\n\n    .dataframe thead th {\n        text-align: right;\n    }\n</style>\n<table border=\"1\" class=\"dataframe\">\n  <thead>\n    <tr style=\"text-align: right;\">\n      <th></th>\n      <th>patient_class_id</th>\n    </tr>\n    <tr>\n      <th>patient_class</th>\n      <th></th>\n    </tr>\n  </thead>\n  <tbody>\n    <tr>\n      <th>NN</th>\n      <td>20</td>\n    </tr>\n    <tr>\n      <th>NP</th>\n      <td>18</td>\n    </tr>\n    <tr>\n      <th>PN</th>\n      <td>13</td>\n    </tr>\n    <tr>\n      <th>PP</th>\n      <td>17</td>\n    </tr>\n  </tbody>\n</table>\n</div>"
     },
     "execution_count": 6,
     "metadata": {},
     "output_type": "execute_result"
    }
   ],
   "source": [
    "discriminator.get_patients_class(classes=None).groupby('patient_class').count()"
   ],
   "metadata": {
    "collapsed": false,
    "pycharm": {
     "name": "#%%\n"
    }
   }
  },
  {
   "cell_type": "code",
   "execution_count": 7,
   "outputs": [],
   "source": [
    "discover_result = discriminator.discover(extract_by=DiscriminativeFeatureKey.STRUCTURE_AND_CELL_IDENTITIES, classes=target_classes)"
   ],
   "metadata": {
    "collapsed": false,
    "pycharm": {
     "name": "#%%\n"
    }
   }
  },
  {
   "cell_type": "code",
   "execution_count": null,
   "outputs": [],
   "source": [
    "discover_result.plot_number_of_motifs_versus_shared_percentage(class_to_color=class_to_color)"
   ],
   "metadata": {
    "collapsed": false,
    "pycharm": {
     "name": "#%%\n"
    }
   }
  },
  {
   "cell_type": "code",
   "execution_count": 8,
   "outputs": [],
   "source": [
    "discover_result.discriminative_motifs.drop(['Patient', 'FOV', 'Freq', 'Count', 'Mean_Freq', 'STD', 'z_score', 'p_value', 'Patient_uId'], axis=1).groupby('ID', observed=True).first().to_csv(results_dir +f'/{target_classes_str}_{motif_size}_number_of_motifs_versus_shared_percentage.csv')"
   ],
   "metadata": {
    "collapsed": false,
    "pycharm": {
     "name": "#%%\n"
    }
   }
  },
  {
   "cell_type": "code",
   "execution_count": 14,
   "outputs": [],
   "source": [
    "results_table = None"
   ],
   "metadata": {
    "collapsed": false,
    "pycharm": {
     "name": "#%%\n"
    }
   }
  },
  {
   "cell_type": "code",
   "execution_count": 15,
   "outputs": [
    {
     "name": "stdout",
     "output_type": "stream",
     "text": [
      "task: NP - PN\n"
     ]
    },
    {
     "data": {
      "text/plain": "  0%|          | 0/31 [00:00<?, ?it/s]",
      "application/vnd.jupyter.widget-view+json": {
       "version_major": 2,
       "version_minor": 0,
       "model_id": "991925ad50684152a2482c5c989e57c8"
      }
     },
     "metadata": {},
     "output_type": "display_data"
    },
    {
     "data": {
      "text/plain": "  0%|          | 0/31 [00:00<?, ?it/s]",
      "application/vnd.jupyter.widget-view+json": {
       "version_major": 2,
       "version_minor": 0,
       "model_id": "b8319a7b1e32444b81e8eee66fa0feb8"
      }
     },
     "metadata": {},
     "output_type": "display_data"
    },
    {
     "name": "stdout",
     "output_type": "stream",
     "text": [
      "classes: ['NP', 'PN'] th:0.2 score: 0.6047008547008548\n",
      "task: NP - PN\n"
     ]
    },
    {
     "data": {
      "text/plain": "  0%|          | 0/31 [00:00<?, ?it/s]",
      "application/vnd.jupyter.widget-view+json": {
       "version_major": 2,
       "version_minor": 0,
       "model_id": "f8a4abd608574589a7b5611ca4664fb4"
      }
     },
     "metadata": {},
     "output_type": "display_data"
    },
    {
     "data": {
      "text/plain": "  0%|          | 0/31 [00:00<?, ?it/s]",
      "application/vnd.jupyter.widget-view+json": {
       "version_major": 2,
       "version_minor": 0,
       "model_id": "2b1cc62d424a4dcb90117faede268ca1"
      }
     },
     "metadata": {},
     "output_type": "display_data"
    },
    {
     "name": "stdout",
     "output_type": "stream",
     "text": [
      "classes: ['NP', 'PN'] th:0.3 score: 0.6773504273504274\n",
      "task: NP - PN\n"
     ]
    },
    {
     "data": {
      "text/plain": "  0%|          | 0/31 [00:00<?, ?it/s]",
      "application/vnd.jupyter.widget-view+json": {
       "version_major": 2,
       "version_minor": 0,
       "model_id": "910636ce3a7844ceb2dd0d9bfb2fb20a"
      }
     },
     "metadata": {},
     "output_type": "display_data"
    },
    {
     "data": {
      "text/plain": "  0%|          | 0/31 [00:00<?, ?it/s]",
      "application/vnd.jupyter.widget-view+json": {
       "version_major": 2,
       "version_minor": 0,
       "model_id": "2bd12f05d99749af83bbc30cc4250b8f"
      }
     },
     "metadata": {},
     "output_type": "display_data"
    },
    {
     "name": "stdout",
     "output_type": "stream",
     "text": [
      "classes: ['NP', 'PN'] th:0.4 score: 0.576923076923077\n",
      "task: NP - PN\n"
     ]
    },
    {
     "data": {
      "text/plain": "  0%|          | 0/31 [00:00<?, ?it/s]",
      "application/vnd.jupyter.widget-view+json": {
       "version_major": 2,
       "version_minor": 0,
       "model_id": "fe8a84a2cd7a4b589f47d1d5a7723240"
      }
     },
     "metadata": {},
     "output_type": "display_data"
    },
    {
     "data": {
      "text/plain": "  0%|          | 0/31 [00:00<?, ?it/s]",
      "application/vnd.jupyter.widget-view+json": {
       "version_major": 2,
       "version_minor": 0,
       "model_id": "6df7bcb103f34d8f93c1c6d9f7b32c2d"
      }
     },
     "metadata": {},
     "output_type": "display_data"
    },
    {
     "name": "stdout",
     "output_type": "stream",
     "text": [
      "classes: ['NP', 'PN'] th:0.42 score: 0.6153846153846154\n",
      "task: NP - PN\n"
     ]
    },
    {
     "data": {
      "text/plain": "  0%|          | 0/31 [00:00<?, ?it/s]",
      "application/vnd.jupyter.widget-view+json": {
       "version_major": 2,
       "version_minor": 0,
       "model_id": "ffb4318772fd4fe4ace656df54c85c54"
      }
     },
     "metadata": {},
     "output_type": "display_data"
    },
    {
     "data": {
      "text/plain": "  0%|          | 0/31 [00:00<?, ?it/s]",
      "application/vnd.jupyter.widget-view+json": {
       "version_major": 2,
       "version_minor": 0,
       "model_id": "3d9990477caa46ea8bdc37d61cc02a79"
      }
     },
     "metadata": {},
     "output_type": "display_data"
    },
    {
     "name": "stdout",
     "output_type": "stream",
     "text": [
      "classes: ['NP', 'PN'] th:0.44 score: 0.6196581196581197\n",
      "task: NP - PN\n"
     ]
    },
    {
     "data": {
      "text/plain": "  0%|          | 0/31 [00:00<?, ?it/s]",
      "application/vnd.jupyter.widget-view+json": {
       "version_major": 2,
       "version_minor": 0,
       "model_id": "bbd9e7f9ed92447f81fd1fa67f6ef954"
      }
     },
     "metadata": {},
     "output_type": "display_data"
    },
    {
     "data": {
      "text/plain": "  0%|          | 0/31 [00:00<?, ?it/s]",
      "application/vnd.jupyter.widget-view+json": {
       "version_major": 2,
       "version_minor": 0,
       "model_id": "3cf41c335945499ba1224740c0d53c81"
      }
     },
     "metadata": {},
     "output_type": "display_data"
    },
    {
     "name": "stdout",
     "output_type": "stream",
     "text": [
      "classes: ['NP', 'PN'] th:0.46 score: 0.6367521367521367\n",
      "task: NP - PN\n"
     ]
    },
    {
     "data": {
      "text/plain": "  0%|          | 0/31 [00:00<?, ?it/s]",
      "application/vnd.jupyter.widget-view+json": {
       "version_major": 2,
       "version_minor": 0,
       "model_id": "1562cd7af1b845a599ecee20b4e56189"
      }
     },
     "metadata": {},
     "output_type": "display_data"
    },
    {
     "data": {
      "text/plain": "  0%|          | 0/31 [00:00<?, ?it/s]",
      "application/vnd.jupyter.widget-view+json": {
       "version_major": 2,
       "version_minor": 0,
       "model_id": "470e9d3f6cb446bf9613e6427891c5ac"
      }
     },
     "metadata": {},
     "output_type": "display_data"
    },
    {
     "name": "stdout",
     "output_type": "stream",
     "text": [
      "classes: ['NP', 'PN'] th:0.48 score: 0.5213675213675213\n",
      "task: NP - PN\n"
     ]
    },
    {
     "data": {
      "text/plain": "  0%|          | 0/31 [00:00<?, ?it/s]",
      "application/vnd.jupyter.widget-view+json": {
       "version_major": 2,
       "version_minor": 0,
       "model_id": "2e6e135ba4854176a567b5735a905a1f"
      }
     },
     "metadata": {},
     "output_type": "display_data"
    },
    {
     "data": {
      "text/plain": "  0%|          | 0/31 [00:00<?, ?it/s]",
      "application/vnd.jupyter.widget-view+json": {
       "version_major": 2,
       "version_minor": 0,
       "model_id": "3b4c851d80494c5485908fafc299ee8b"
      }
     },
     "metadata": {},
     "output_type": "display_data"
    }
   ],
   "source": [
    "from cism.cism import HardDiscriminativeFC, SoftDiscriminativeFC, DiscriminativeFeatureKey\n",
    "import itertools\n",
    "\n",
    "for left_class, right_class in itertools.combinations(['NP', 'PN'], 2):\n",
    "    for th in [0.2, 0.3, 0.4, 0.42, 0.44, 0.46, 0.48, 0.5, 0.6, 0.7, 0.72, 0.74, 0.76, 0.8]:\n",
    "        try:\n",
    "            print(f'task: {left_class} - {right_class}')\n",
    "            featureConf = HardDiscriminativeFC(\n",
    "                extract_by=DiscriminativeFeatureKey.STRUCTURE_AND_CELL_IDENTITIES,\n",
    "                use_cells_type_composition=False,\n",
    "                use_motifs=True,\n",
    "                shared_percentage=th,\n",
    "                max_class_features=30,\n",
    "                labels=[left_class, right_class])\n",
    "\n",
    "            motif_space_features = (discriminator\n",
    "                                    .get_features(feature_conf=featureConf,\n",
    "                                                  exclude_patients=[],\n",
    "                                                  n_jobs=1))\n",
    "\n",
    "            optimal_result = (discriminator\n",
    "                              .analyze_motifs(feature_conf=featureConf,\n",
    "                                              exclude_patients=[],\n",
    "                                              n_jobs=1))\n",
    "\n",
    "            print(f'classes: {[left_class, right_class]} '\n",
    "                  f'th:{th} score: {optimal_result.get_roc_auc_score()}')\n",
    "\n",
    "            all_motif_features = []\n",
    "            for idx, row in motif_space_features.iterrows():\n",
    "                all_motif_features += row['features']\n",
    "            all_motif_features = list(set(all_motif_features))\n",
    "\n",
    "            motif_freq = []\n",
    "            motif_count = []\n",
    "            motifs_dataset = discriminator.cism.motifs_dataset\n",
    "            for motif_id in all_motif_features:\n",
    "                motif_mean_freq = motifs_dataset[motifs_dataset['ID'] == motif_id]['Freq'].mean()\n",
    "                motif_mean_count = motifs_dataset[motifs_dataset['ID'] == motif_id]['Count'].mean()\n",
    "                motif_freq.append(motif_mean_freq)\n",
    "                motif_count.append(motif_mean_count)\n",
    "\n",
    "            results_table = pd.concat([pd.DataFrame(\n",
    "                                            {'th': th,\n",
    "                                             'task': left_class + '-' + right_class,\n",
    "                                             'left_class': left_class,\n",
    "                                             'right_class': right_class,\n",
    "                                             'roc_auc_score': optimal_result.get_roc_auc_score(),\n",
    "                                             'all_motif_features': all_motif_features,\n",
    "                                             'motif_mean_freq': motif_freq,\n",
    "                                             'motif_mean_count': motif_count}),\n",
    "                                             results_table], ignore_index=True)\n",
    "        except:\n",
    "            break"
   ],
   "metadata": {
    "collapsed": false,
    "pycharm": {
     "name": "#%%\n"
    }
   }
  },
  {
   "cell_type": "code",
   "execution_count": 17,
   "outputs": [],
   "source": [
    "results_table.to_csv(results_dir+f'/benchmark_across_th_NP_PN_{motif_size}_max_motifs.csv')"
   ],
   "metadata": {
    "collapsed": false,
    "pycharm": {
     "name": "#%%\n"
    }
   }
  },
  {
   "cell_type": "code",
   "execution_count": null,
   "outputs": [],
   "source": [],
   "metadata": {
    "collapsed": false,
    "pycharm": {
     "name": "#%%\n"
    }
   }
  }
 ],
 "metadata": {
  "kernelspec": {
   "display_name": "Python 3 (ipykernel)",
   "language": "python",
   "name": "python3"
  },
  "language_info": {
   "codemirror_mode": {
    "name": "ipython",
    "version": 3
   },
   "file_extension": ".py",
   "mimetype": "text/x-python",
   "name": "python",
   "nbconvert_exporter": "python",
   "pygments_lexer": "ipython3",
   "version": "3.9.7"
  }
 },
 "nbformat": 4,
 "nbformat_minor": 1
}