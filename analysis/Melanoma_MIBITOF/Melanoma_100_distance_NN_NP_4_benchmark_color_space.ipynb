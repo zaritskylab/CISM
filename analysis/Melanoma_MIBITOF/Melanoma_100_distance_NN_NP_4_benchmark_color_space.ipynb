{
 "cells": [
  {
   "cell_type": "markdown",
   "metadata": {},
   "source": [
    "## Configuration"
   ]
  },
  {
   "cell_type": "code",
   "execution_count": 1,
   "metadata": {
    "pycharm": {
     "name": "#%%\n"
    }
   },
   "outputs": [],
   "source": [
    "from collections import Counter\n",
    "\n",
    "import pandas as pd\n",
    "\n",
    "FANMOD_path = \"C:\\\\Users\\\\User\\\\source\\\\repos\\\\fanmod-cmd\\\\out\\\\build\\\\x64-release\"\n",
    "FANMOD_exe = \"LocalFANMOD.exe\"\n",
    "\n",
    "raw_data_folder = './../../data'\n",
    "raw_data_folder_dataset = '/melanoma_distance_100_XX'\n",
    "output_dir = './../../fanmod_output'\n",
    "cache_dir = './../../parse_cache'\n",
    "results_dir = './../../results/melanoma_distance_100_XX'\n",
    "motif_size = 4\n",
    "iterations = 1000\n",
    "force_run_fanmod = False\n",
    "force_parse = False"
   ]
  },
  {
   "cell_type": "code",
   "execution_count": 2,
   "metadata": {
    "pycharm": {
     "name": "#%%\n"
    }
   },
   "outputs": [],
   "source": [
    "cells_type = {\n",
    "    0: 'B cell',\n",
    "    1: 'CD4 APC',\n",
    "    2: 'CD4 T cell',\n",
    "    3: 'CD4 Treg',\n",
    "    4: 'CD8 T cell',\n",
    "    5: 'DCs',\n",
    "    6: 'Germinal Center B cell',\n",
    "    7: 'Hevs',\n",
    "    8: 'MAC',\n",
    "    9: 'Memory CD4 T Cell',\n",
    "    10: 'NK cell',\n",
    "    11: 'Neutrophil',\n",
    "    12: 'Stroma',\n",
    "    13: 'Tumor',\n",
    "    14: 'Unidentified',\n",
    "    15: 'Vessels'\n",
    "}\n",
    "\n",
    "Distant_metastases_class = {\n",
    "    'NP': 'NP',\n",
    "    'NN': 'NN',\n",
    "    'PN': 'PN',\n",
    "    'PP': 'PP',\n",
    "}\n",
    "\n",
    "class_to_color = {\n",
    "    'NP': 'green',\n",
    "    'NN': 'yellow',\n",
    "    'PN': 'magenta',\n",
    "    'PP': 'blue',\n",
    "}\n",
    "\n",
    "target_classes_str = 'NN_NP'"
   ]
  },
  {
   "cell_type": "markdown",
   "metadata": {
    "pycharm": {
     "name": "#%% md\n"
    }
   },
   "source": [
    "## Steps\n",
    "1. Initiate CISM object\n",
    "2. Load datasets\n",
    "3. Initiate CISMTask"
   ]
  },
  {
   "cell_type": "code",
   "execution_count": 3,
   "metadata": {
    "pycharm": {
     "name": "#%%\n"
    }
   },
   "outputs": [],
   "source": [
    "from cism.cism import CISM"
   ]
  },
  {
   "cell_type": "code",
   "execution_count": 4,
   "metadata": {
    "pycharm": {
     "name": "#%%\n"
    }
   },
   "outputs": [
    {
     "data": {
      "application/vnd.jupyter.widget-view+json": {
       "model_id": "cfc64446223d418c96401dde46e45c79",
       "version_major": 2,
       "version_minor": 0
      },
      "text/plain": [
       "  0%|          | 0/178 [00:00<?, ?it/s]"
      ]
     },
     "metadata": {},
     "output_type": "display_data"
    },
    {
     "data": {
      "application/vnd.jupyter.widget-view+json": {
       "model_id": "776ac09bbbae4e558c20ef28d0800a2d",
       "version_major": 2,
       "version_minor": 0
      },
      "text/plain": [
       "  0%|          | 0/178 [00:00<?, ?it/s]"
      ]
     },
     "metadata": {},
     "output_type": "display_data"
    }
   ],
   "source": [
    "cism = CISM(fanmod_exe=FANMOD_exe,\n",
    "            fanmod_path=FANMOD_path,\n",
    "            network_dataset_root_path=raw_data_folder,\n",
    "            fanmod_output_root_path=output_dir,\n",
    "            fanmod_cache_root_path=cache_dir,\n",
    "            motif_size=motif_size,\n",
    "            iterations=iterations)\n",
    "\n",
    "# adding Melanoma dataset\n",
    "cism.add_dataset(raw_data_folder_dataset, 'Disease', 'Melanoma', force_run_fanmod=force_run_fanmod, force_parse=force_parse, n_jobs=1, quantile_threshold=1)"
   ]
  },
  {
   "cell_type": "code",
   "execution_count": 5,
   "metadata": {
    "pycharm": {
     "name": "#%%\n"
    }
   },
   "outputs": [],
   "source": [
    "from cism.cism import TissueStateDiscriminativeMotifs\n",
    "from cism.cism import DiscriminativeFeatureKey\n",
    "\n",
    "discriminator = TissueStateDiscriminativeMotifs(cism=cism,\n",
    "                                                tissue_state_csv_path=raw_data_folder + raw_data_folder_dataset + '/patient_class.csv',\n",
    "                                                tissue_state_to_string=Distant_metastases_class,\n",
    "                                                common_cells_type=cells_type)"
   ]
  },
  {
   "cell_type": "markdown",
   "metadata": {
    "pycharm": {
     "name": "#%% md\n"
    }
   },
   "source": [
    "Here we want to evaluate to compare the following:\n",
    "1. NP versus PN\n",
    "2. NP versus PP\n",
    "3. NN versus PN\n",
    "4. NN versus PP"
   ]
  },
  {
   "cell_type": "code",
   "execution_count": 6,
   "metadata": {
    "pycharm": {
     "name": "#%%\n"
    }
   },
   "outputs": [
    {
     "data": {
      "text/html": [
       "<div>\n",
       "<style scoped>\n",
       "    .dataframe tbody tr th:only-of-type {\n",
       "        vertical-align: middle;\n",
       "    }\n",
       "\n",
       "    .dataframe tbody tr th {\n",
       "        vertical-align: top;\n",
       "    }\n",
       "\n",
       "    .dataframe thead th {\n",
       "        text-align: right;\n",
       "    }\n",
       "</style>\n",
       "<table border=\"1\" class=\"dataframe\">\n",
       "  <thead>\n",
       "    <tr style=\"text-align: right;\">\n",
       "      <th></th>\n",
       "      <th>patient_class_id</th>\n",
       "    </tr>\n",
       "    <tr>\n",
       "      <th>patient_class</th>\n",
       "      <th></th>\n",
       "    </tr>\n",
       "  </thead>\n",
       "  <tbody>\n",
       "    <tr>\n",
       "      <th>NN</th>\n",
       "      <td>20</td>\n",
       "    </tr>\n",
       "    <tr>\n",
       "      <th>NP</th>\n",
       "      <td>18</td>\n",
       "    </tr>\n",
       "    <tr>\n",
       "      <th>PN</th>\n",
       "      <td>13</td>\n",
       "    </tr>\n",
       "    <tr>\n",
       "      <th>PP</th>\n",
       "      <td>17</td>\n",
       "    </tr>\n",
       "  </tbody>\n",
       "</table>\n",
       "</div>"
      ],
      "text/plain": [
       "               patient_class_id\n",
       "patient_class                  \n",
       "NN                           20\n",
       "NP                           18\n",
       "PN                           13\n",
       "PP                           17"
      ]
     },
     "execution_count": 6,
     "metadata": {},
     "output_type": "execute_result"
    }
   ],
   "source": [
    "discriminator.get_patients_class(classes=None).groupby('patient_class').count()"
   ]
  },
  {
   "cell_type": "code",
   "execution_count": 7,
   "metadata": {
    "pycharm": {
     "name": "#%%\n"
    }
   },
   "outputs": [
    {
     "name": "stderr",
     "output_type": "stream",
     "text": [
      "When grouping with a length-1 list-like, you will need to pass a length-1 tuple to get_group in a future version of pandas. Pass `(name,)` instead of `name` to silence this warning.\n",
      "When grouping with a length-1 list-like, you will need to pass a length-1 tuple to get_group in a future version of pandas. Pass `(name,)` instead of `name` to silence this warning.\n",
      "When grouping with a length-1 list-like, you will need to pass a length-1 tuple to get_group in a future version of pandas. Pass `(name,)` instead of `name` to silence this warning.\n"
     ]
    },
    {
     "data": {
      "image/png": "[encoded data removed]",
      "text/plain": [
       "<Figure size 640x480 with 1 Axes>"
      ]
     },
     "metadata": {},
     "output_type": "display_data"
    }
   ],
   "source": [
    "discover_result = discriminator.discover(extract_by=DiscriminativeFeatureKey.CELL_IDENTITIES, classes=['NN', 'NP'])\n",
    "\n",
    "discover_result.plot_number_of_motifs_versus_shared_percentage(class_to_color=class_to_color)"
   ]
  },
  {
   "cell_type": "code",
   "execution_count": 8,
   "metadata": {
    "pycharm": {
     "name": "#%%\n"
    }
   },
   "outputs": [],
   "source": [
    "discover_result.discriminative_motifs.drop(['Patient', 'FOV', 'Freq', 'Count', 'Mean_Freq', 'STD', 'z_score', 'p_value', 'Patient_uId'], axis=1).groupby('ID', observed=True).first().to_csv(results_dir +f'/{target_classes_str}_{motif_size}_color_space_number_of_motifs_versus_shared_percentage.csv')"
   ]
  },
  {
   "cell_type": "code",
   "execution_count": 11,
   "metadata": {
    "pycharm": {
     "name": "#%%\n"
    }
   },
   "outputs": [],
   "source": [
    "results_table = None"
   ]
  },
  {
   "cell_type": "code",
   "execution_count": 12,
   "metadata": {
    "pycharm": {
     "name": "#%%\n"
    }
   },
   "outputs": [
    {
     "name": "stdout",
     "output_type": "stream",
     "text": [
      "task: NN - NP\n"
     ]
    },
    {
     "data": {
      "application/vnd.jupyter.widget-view+json": {
       "model_id": "5c0fbf572cad49a9921ac453c4539de4",
       "version_major": 2,
       "version_minor": 0
      },
      "text/plain": [
       "  0%|          | 0/38 [00:00<?, ?it/s]"
      ]
     },
     "metadata": {},
     "output_type": "display_data"
    },
    {
     "data": {
      "application/vnd.jupyter.widget-view+json": {
       "model_id": "44e0262df1924e488a4fae879a9806f1",
       "version_major": 2,
       "version_minor": 0
      },
      "text/plain": [
       "  0%|          | 0/38 [00:00<?, ?it/s]"
      ]
     },
     "metadata": {},
     "output_type": "display_data"
    },
    {
     "name": "stdout",
     "output_type": "stream",
     "text": [
      "classes: ['NN', 'NP'] th:0.2 score: 0.20833333333333331\n",
      "task: NN - NP\n"
     ]
    },
    {
     "data": {
      "application/vnd.jupyter.widget-view+json": {
       "model_id": "9e81c70950cc4e568b5962015f773943",
       "version_major": 2,
       "version_minor": 0
      },
      "text/plain": [
       "  0%|          | 0/38 [00:00<?, ?it/s]"
      ]
     },
     "metadata": {},
     "output_type": "display_data"
    },
    {
     "data": {
      "application/vnd.jupyter.widget-view+json": {
       "model_id": "74200d800cb848bba27ae357dc742e41",
       "version_major": 2,
       "version_minor": 0
      },
      "text/plain": [
       "  0%|          | 0/38 [00:00<?, ?it/s]"
      ]
     },
     "metadata": {},
     "output_type": "display_data"
    },
    {
     "name": "stdout",
     "output_type": "stream",
     "text": [
      "classes: ['NN', 'NP'] th:0.22 score: 0.25555555555555554\n",
      "task: NN - NP\n"
     ]
    },
    {
     "data": {
      "application/vnd.jupyter.widget-view+json": {
       "model_id": "ca0ec44aac97404588eebbe6d4047f9a",
       "version_major": 2,
       "version_minor": 0
      },
      "text/plain": [
       "  0%|          | 0/38 [00:00<?, ?it/s]"
      ]
     },
     "metadata": {},
     "output_type": "display_data"
    },
    {
     "data": {
      "application/vnd.jupyter.widget-view+json": {
       "model_id": "7522a7e82b404ade8280eca90ac8dc49",
       "version_major": 2,
       "version_minor": 0
      },
      "text/plain": [
       "  0%|          | 0/38 [00:00<?, ?it/s]"
      ]
     },
     "metadata": {},
     "output_type": "display_data"
    },
    {
     "name": "stdout",
     "output_type": "stream",
     "text": [
      "classes: ['NN', 'NP'] th:0.24 score: 0.17222222222222222\n",
      "task: NN - NP\n"
     ]
    },
    {
     "data": {
      "application/vnd.jupyter.widget-view+json": {
       "model_id": "6543c7f0e20b48e98aa831b7a845762c",
       "version_major": 2,
       "version_minor": 0
      },
      "text/plain": [
       "  0%|          | 0/38 [00:00<?, ?it/s]"
      ]
     },
     "metadata": {},
     "output_type": "display_data"
    },
    {
     "data": {
      "application/vnd.jupyter.widget-view+json": {
       "model_id": "2f86cd63139c4ee0b3d531042fe4dc18",
       "version_major": 2,
       "version_minor": 0
      },
      "text/plain": [
       "  0%|          | 0/38 [00:00<?, ?it/s]"
      ]
     },
     "metadata": {},
     "output_type": "display_data"
    },
    {
     "name": "stdout",
     "output_type": "stream",
     "text": [
      "classes: ['NN', 'NP'] th:0.26 score: 0.18333333333333335\n",
      "task: NN - NP\n"
     ]
    },
    {
     "data": {
      "application/vnd.jupyter.widget-view+json": {
       "model_id": "95f5d940d27d445f957666e888b325b5",
       "version_major": 2,
       "version_minor": 0
      },
      "text/plain": [
       "  0%|          | 0/38 [00:00<?, ?it/s]"
      ]
     },
     "metadata": {},
     "output_type": "display_data"
    },
    {
     "data": {
      "application/vnd.jupyter.widget-view+json": {
       "model_id": "39785568562c4fd7831875d85895dfdb",
       "version_major": 2,
       "version_minor": 0
      },
      "text/plain": [
       "  0%|          | 0/38 [00:00<?, ?it/s]"
      ]
     },
     "metadata": {},
     "output_type": "display_data"
    },
    {
     "ename": "TypeError",
     "evalue": "BaseException.with_traceback() takes exactly one argument (0 given)",
     "output_type": "error",
     "traceback": [
      "\u001B[1;31m---------------------------------------------------------------------------\u001B[0m",
      "\u001B[1;31mValueError\u001B[0m                                Traceback (most recent call last)",
      "Cell \u001B[1;32mIn[12], line 21\u001B[0m\n\u001B[0;32m     16\u001B[0m color_space_features \u001B[38;5;241m=\u001B[39m (discriminator\n\u001B[0;32m     17\u001B[0m                         \u001B[38;5;241m.\u001B[39mget_features(feature_conf\u001B[38;5;241m=\u001B[39mfeatureConf,\n\u001B[0;32m     18\u001B[0m                                       exclude_patients\u001B[38;5;241m=\u001B[39m[],\n\u001B[0;32m     19\u001B[0m                                       n_jobs\u001B[38;5;241m=\u001B[39m\u001B[38;5;241m1\u001B[39m))\n\u001B[1;32m---> 21\u001B[0m optimal_result \u001B[38;5;241m=\u001B[39m (\u001B[43mdiscriminator\u001B[49m\n\u001B[0;32m     22\u001B[0m \u001B[43m                  \u001B[49m\u001B[38;5;241;43m.\u001B[39;49m\u001B[43manalyze_motifs\u001B[49m\u001B[43m(\u001B[49m\u001B[43mfeature_conf\u001B[49m\u001B[38;5;241;43m=\u001B[39;49m\u001B[43mfeatureConf\u001B[49m\u001B[43m,\u001B[49m\n\u001B[0;32m     23\u001B[0m \u001B[43m                                  \u001B[49m\u001B[43mexclude_patients\u001B[49m\u001B[38;5;241;43m=\u001B[39;49m\u001B[43m[\u001B[49m\u001B[43m]\u001B[49m\u001B[43m,\u001B[49m\n\u001B[0;32m     24\u001B[0m \u001B[43m                                  \u001B[49m\u001B[43mn_jobs\u001B[49m\u001B[38;5;241;43m=\u001B[39;49m\u001B[38;5;241;43m1\u001B[39;49m\u001B[43m)\u001B[49m)\n\u001B[0;32m     26\u001B[0m \u001B[38;5;28mprint\u001B[39m(\u001B[38;5;124mf\u001B[39m\u001B[38;5;124m'\u001B[39m\u001B[38;5;124mclasses: \u001B[39m\u001B[38;5;132;01m{\u001B[39;00m[left_class,\u001B[38;5;250m \u001B[39mright_class]\u001B[38;5;132;01m}\u001B[39;00m\u001B[38;5;124m \u001B[39m\u001B[38;5;124m'\u001B[39m\n\u001B[0;32m     27\u001B[0m       \u001B[38;5;124mf\u001B[39m\u001B[38;5;124m'\u001B[39m\u001B[38;5;124mth:\u001B[39m\u001B[38;5;132;01m{\u001B[39;00mth\u001B[38;5;132;01m}\u001B[39;00m\u001B[38;5;124m score: \u001B[39m\u001B[38;5;132;01m{\u001B[39;00moptimal_result\u001B[38;5;241m.\u001B[39mget_roc_auc_score()\u001B[38;5;132;01m}\u001B[39;00m\u001B[38;5;124m'\u001B[39m)\n",
      "File \u001B[1;32m~\\Documents\\dev\\TNBC_motif\\cism\\cism.py:578\u001B[0m, in \u001B[0;36mTissueStateDiscriminativeMotifs.analyze_motifs\u001B[1;34m(self, feature_conf, exclude_patients, **kwargs)\u001B[0m\n\u001B[0;32m    574\u001B[0m         \u001B[38;5;28;01mreturn\u001B[39;00m motifs_dataset[motifs_dataset\u001B[38;5;241m.\u001B[39mPatient_uId\u001B[38;5;241m.\u001B[39misin(unique_patients_ids) \u001B[38;5;241m&\u001B[39m\n\u001B[0;32m    575\u001B[0m                               (motifs_dataset\u001B[38;5;241m.\u001B[39mPatient_uId \u001B[38;5;241m==\u001B[39m unique_patients_ids[trial_i]) \u001B[38;5;241m&\u001B[39m\n\u001B[0;32m    576\u001B[0m                               (motifs_dataset\u001B[38;5;241m.\u001B[39mp_value \u001B[38;5;241m<\u001B[39m \u001B[38;5;241m0.05\u001B[39m)]\u001B[38;5;241m.\u001B[39mcopy()\n\u001B[1;32m--> 578\u001B[0m raw_analyze_result \u001B[38;5;241m=\u001B[39m \u001B[43mParallel\u001B[49m\u001B[43m(\u001B[49m\u001B[43mn_jobs\u001B[49m\u001B[38;5;241;43m=\u001B[39;49m\u001B[43mn_jobs\u001B[49m\u001B[43m,\u001B[49m\u001B[43m \u001B[49m\u001B[43mverbose\u001B[49m\u001B[38;5;241;43m=\u001B[39;49m\u001B[38;5;241;43m0\u001B[39;49m\u001B[43m,\u001B[49m\u001B[43m \u001B[49m\u001B[43mprefer\u001B[49m\u001B[38;5;241;43m=\u001B[39;49m\u001B[43mprefer\u001B[49m\u001B[43m,\u001B[49m\u001B[43m \u001B[49m\u001B[43mpre_dispatch\u001B[49m\u001B[38;5;241;43m=\u001B[39;49m\u001B[38;5;241;43m1\u001B[39;49m\u001B[43m)\u001B[49m\u001B[43m(\u001B[49m\n\u001B[0;32m    579\u001B[0m \u001B[43m    \u001B[49m\u001B[43mdelayed\u001B[49m\u001B[43m(\u001B[49m\u001B[38;5;28;43mself\u001B[39;49m\u001B[38;5;241;43m.\u001B[39;49m\u001B[43m_validate\u001B[49m\u001B[43m)\u001B[49m\u001B[43m(\u001B[49m\u001B[43mx_data\u001B[49m\u001B[38;5;241;43m=\u001B[39;49m\u001B[43m__get_motif_dataset_of_patient\u001B[49m\u001B[43m(\u001B[49m\u001B[43mlocal_motifs_dataset\u001B[49m\u001B[43m,\u001B[49m\n\u001B[0;32m    580\u001B[0m \u001B[43m                                                                  \u001B[49m\u001B[43munique_patients_ids\u001B[49m\u001B[43m,\u001B[49m\n\u001B[0;32m    581\u001B[0m \u001B[43m                                                                  \u001B[49m\u001B[43mtrial_i\u001B[49m\u001B[43m,\u001B[49m\n\u001B[0;32m    582\u001B[0m \u001B[43m                                                                  \u001B[49m\u001B[38;5;28;43;01mTrue\u001B[39;49;00m\u001B[43m)\u001B[49m\u001B[43m,\u001B[49m\n\u001B[0;32m    583\u001B[0m \u001B[43m                            \u001B[49m\u001B[43mx_test\u001B[49m\u001B[38;5;241;43m=\u001B[39;49m\u001B[43m__get_motif_dataset_of_patient\u001B[49m\u001B[43m(\u001B[49m\u001B[43mlocal_motifs_dataset\u001B[49m\u001B[43m,\u001B[49m\n\u001B[0;32m    584\u001B[0m \u001B[43m                                                                  \u001B[49m\u001B[43munique_patients_ids\u001B[49m\u001B[43m,\u001B[49m\n\u001B[0;32m    585\u001B[0m \u001B[43m                                                                  \u001B[49m\u001B[43mtrial_i\u001B[49m\u001B[43m,\u001B[49m\n\u001B[0;32m    586\u001B[0m \u001B[43m                                                                  \u001B[49m\u001B[38;5;28;43;01mFalse\u001B[39;49;00m\u001B[43m)\u001B[49m\u001B[43m,\u001B[49m\n\u001B[0;32m    587\u001B[0m \u001B[43m                            \u001B[49m\u001B[43mtest_patient_uid\u001B[49m\u001B[38;5;241;43m=\u001B[39;49m\u001B[43munique_patients_ids\u001B[49m\u001B[43m[\u001B[49m\u001B[43mtrial_i\u001B[49m\u001B[43m]\u001B[49m\u001B[43m,\u001B[49m\n\u001B[0;32m    588\u001B[0m \u001B[43m                            \u001B[49m\u001B[43mfeature_conf\u001B[49m\u001B[38;5;241;43m=\u001B[39;49m\u001B[43mfeature_conf\u001B[49m\u001B[43m,\u001B[49m\n\u001B[0;32m    589\u001B[0m \u001B[43m                            \u001B[49m\u001B[43mrandom_state\u001B[49m\u001B[38;5;241;43m=\u001B[39;49m\u001B[43mrandom_state\u001B[49m\u001B[43m,\u001B[49m\n\u001B[0;32m    590\u001B[0m \u001B[43m                            \u001B[49m\u001B[43mpatient_class_df\u001B[49m\u001B[38;5;241;43m=\u001B[39;49m\u001B[43mlocal_patient_class\u001B[49m\u001B[43m)\u001B[49m\u001B[43m \u001B[49m\u001B[38;5;28;43;01mfor\u001B[39;49;00m\u001B[43m \u001B[49m\u001B[43mtrial_i\u001B[49m\u001B[43m \u001B[49m\u001B[38;5;129;43;01min\u001B[39;49;00m\u001B[43m \u001B[49m\u001B[43mtqdm\u001B[49m\u001B[43m(\u001B[49m\u001B[38;5;28;43mrange\u001B[39;49m\u001B[43m(\u001B[49m\u001B[38;5;28;43mlen\u001B[39;49m\u001B[43m(\u001B[49m\u001B[43munique_patients_ids\u001B[49m\u001B[43m)\u001B[49m\u001B[43m)\u001B[49m\u001B[43m)\u001B[49m\u001B[43m)\u001B[49m\n\u001B[0;32m    592\u001B[0m \u001B[38;5;28;01mreturn\u001B[39;00m AnalyzeMotifsResult(analyze_results\u001B[38;5;241m=\u001B[39mraw_analyze_result,\n\u001B[0;32m    593\u001B[0m                            patients_ids\u001B[38;5;241m=\u001B[39munique_patients_ids,\n\u001B[0;32m    594\u001B[0m                            labels\u001B[38;5;241m=\u001B[39mfeature_conf\u001B[38;5;241m.\u001B[39mlabels)\n",
      "File \u001B[1;32mc:\\users\\user\\documents\\dev\\tnbc_motif\\venv\\lib\\site-packages\\joblib\\parallel.py:1918\u001B[0m, in \u001B[0;36mParallel.__call__\u001B[1;34m(self, iterable)\u001B[0m\n\u001B[0;32m   1917\u001B[0m     \u001B[38;5;28mnext\u001B[39m(output)\n\u001B[1;32m-> 1918\u001B[0m     \u001B[38;5;28;01mreturn\u001B[39;00m output \u001B[38;5;28;01mif\u001B[39;00m \u001B[38;5;28mself\u001B[39m\u001B[38;5;241m.\u001B[39mreturn_generator \u001B[38;5;28;01melse\u001B[39;00m \u001B[38;5;28;43mlist\u001B[39;49m\u001B[43m(\u001B[49m\u001B[43moutput\u001B[49m\u001B[43m)\u001B[49m\n\u001B[0;32m   1920\u001B[0m \u001B[38;5;66;03m# Let's create an ID that uniquely identifies the current call. If the\u001B[39;00m\n\u001B[0;32m   1921\u001B[0m \u001B[38;5;66;03m# call is interrupted early and that the same instance is immediately\u001B[39;00m\n\u001B[0;32m   1922\u001B[0m \u001B[38;5;66;03m# re-used, this id will be used to prevent workers that were\u001B[39;00m\n\u001B[0;32m   1923\u001B[0m \u001B[38;5;66;03m# concurrently finalizing a task from the previous call to run the\u001B[39;00m\n\u001B[0;32m   1924\u001B[0m \u001B[38;5;66;03m# callback.\u001B[39;00m\n",
      "File \u001B[1;32mc:\\users\\user\\documents\\dev\\tnbc_motif\\venv\\lib\\site-packages\\joblib\\parallel.py:1847\u001B[0m, in \u001B[0;36mParallel._get_sequential_output\u001B[1;34m(self, iterable)\u001B[0m\n\u001B[0;32m   1846\u001B[0m \u001B[38;5;28mself\u001B[39m\u001B[38;5;241m.\u001B[39mn_dispatched_tasks \u001B[38;5;241m+\u001B[39m\u001B[38;5;241m=\u001B[39m \u001B[38;5;241m1\u001B[39m\n\u001B[1;32m-> 1847\u001B[0m res \u001B[38;5;241m=\u001B[39m func(\u001B[38;5;241m*\u001B[39margs, \u001B[38;5;241m*\u001B[39m\u001B[38;5;241m*\u001B[39mkwargs)\n\u001B[0;32m   1848\u001B[0m \u001B[38;5;28mself\u001B[39m\u001B[38;5;241m.\u001B[39mn_completed_tasks \u001B[38;5;241m+\u001B[39m\u001B[38;5;241m=\u001B[39m \u001B[38;5;241m1\u001B[39m\n",
      "File \u001B[1;32m~\\Documents\\dev\\TNBC_motif\\cism\\cism.py:979\u001B[0m, in \u001B[0;36mTissueStateDiscriminativeMotifs._validate\u001B[1;34m(self, x_data, x_test, test_patient_uid, feature_conf, random_state, rand_patient_class, patient_class_df)\u001B[0m\n\u001B[0;32m    978\u001B[0m clf \u001B[38;5;241m=\u001B[39m RandomForestClassifier(random_state\u001B[38;5;241m=\u001B[39mrandom_state, n_jobs\u001B[38;5;241m=\u001B[39m\u001B[38;5;241m-\u001B[39m\u001B[38;5;241m1\u001B[39m)\n\u001B[1;32m--> 979\u001B[0m \u001B[43mclf\u001B[49m\u001B[38;5;241;43m.\u001B[39;49m\u001B[43mfit\u001B[49m\u001B[43m(\u001B[49m\u001B[43mx_train_dataset\u001B[49m\u001B[38;5;241;43m.\u001B[39;49m\u001B[43mdrop\u001B[49m\u001B[43m(\u001B[49m\u001B[43mDiscriminativeMotifs\u001B[49m\u001B[38;5;241;43m.\u001B[39;49m\u001B[43mPATIENT_CLASS\u001B[49m\u001B[43m,\u001B[49m\u001B[43m \u001B[49m\u001B[43maxis\u001B[49m\u001B[38;5;241;43m=\u001B[39;49m\u001B[38;5;241;43m1\u001B[39;49m\u001B[43m)\u001B[49m\u001B[43m,\u001B[49m\n\u001B[0;32m    980\u001B[0m \u001B[43m        \u001B[49m\u001B[43mx_train_dataset\u001B[49m\u001B[43m[\u001B[49m\u001B[43mDiscriminativeMotifs\u001B[49m\u001B[38;5;241;43m.\u001B[39;49m\u001B[43mPATIENT_CLASS\u001B[49m\u001B[43m]\u001B[49m\u001B[43m)\u001B[49m\n\u001B[0;32m    982\u001B[0m \u001B[38;5;66;03m# build validation dataset\u001B[39;00m\n",
      "File \u001B[1;32mc:\\users\\user\\documents\\dev\\tnbc_motif\\venv\\lib\\site-packages\\sklearn\\base.py:1473\u001B[0m, in \u001B[0;36m_fit_context.<locals>.decorator.<locals>.wrapper\u001B[1;34m(estimator, *args, **kwargs)\u001B[0m\n\u001B[0;32m   1468\u001B[0m \u001B[38;5;28;01mwith\u001B[39;00m config_context(\n\u001B[0;32m   1469\u001B[0m     skip_parameter_validation\u001B[38;5;241m=\u001B[39m(\n\u001B[0;32m   1470\u001B[0m         prefer_skip_nested_validation \u001B[38;5;129;01mor\u001B[39;00m global_skip_validation\n\u001B[0;32m   1471\u001B[0m     )\n\u001B[0;32m   1472\u001B[0m ):\n\u001B[1;32m-> 1473\u001B[0m     \u001B[38;5;28;01mreturn\u001B[39;00m fit_method(estimator, \u001B[38;5;241m*\u001B[39margs, \u001B[38;5;241m*\u001B[39m\u001B[38;5;241m*\u001B[39mkwargs)\n",
      "File \u001B[1;32mc:\\users\\user\\documents\\dev\\tnbc_motif\\venv\\lib\\site-packages\\sklearn\\ensemble\\_forest.py:363\u001B[0m, in \u001B[0;36mBaseForest.fit\u001B[1;34m(self, X, y, sample_weight)\u001B[0m\n\u001B[0;32m    361\u001B[0m     \u001B[38;5;28;01mraise\u001B[39;00m \u001B[38;5;167;01mValueError\u001B[39;00m(\u001B[38;5;124m\"\u001B[39m\u001B[38;5;124msparse multilabel-indicator for y is not supported.\u001B[39m\u001B[38;5;124m\"\u001B[39m)\n\u001B[1;32m--> 363\u001B[0m X, y \u001B[38;5;241m=\u001B[39m \u001B[38;5;28;43mself\u001B[39;49m\u001B[38;5;241;43m.\u001B[39;49m\u001B[43m_validate_data\u001B[49m\u001B[43m(\u001B[49m\n\u001B[0;32m    364\u001B[0m \u001B[43m    \u001B[49m\u001B[43mX\u001B[49m\u001B[43m,\u001B[49m\n\u001B[0;32m    365\u001B[0m \u001B[43m    \u001B[49m\u001B[43my\u001B[49m\u001B[43m,\u001B[49m\n\u001B[0;32m    366\u001B[0m \u001B[43m    \u001B[49m\u001B[43mmulti_output\u001B[49m\u001B[38;5;241;43m=\u001B[39;49m\u001B[38;5;28;43;01mTrue\u001B[39;49;00m\u001B[43m,\u001B[49m\n\u001B[0;32m    367\u001B[0m \u001B[43m    \u001B[49m\u001B[43maccept_sparse\u001B[49m\u001B[38;5;241;43m=\u001B[39;49m\u001B[38;5;124;43m\"\u001B[39;49m\u001B[38;5;124;43mcsc\u001B[39;49m\u001B[38;5;124;43m\"\u001B[39;49m\u001B[43m,\u001B[49m\n\u001B[0;32m    368\u001B[0m \u001B[43m    \u001B[49m\u001B[43mdtype\u001B[49m\u001B[38;5;241;43m=\u001B[39;49m\u001B[43mDTYPE\u001B[49m\u001B[43m,\u001B[49m\n\u001B[0;32m    369\u001B[0m \u001B[43m    \u001B[49m\u001B[43mforce_all_finite\u001B[49m\u001B[38;5;241;43m=\u001B[39;49m\u001B[38;5;28;43;01mFalse\u001B[39;49;00m\u001B[43m,\u001B[49m\n\u001B[0;32m    370\u001B[0m \u001B[43m\u001B[49m\u001B[43m)\u001B[49m\n\u001B[0;32m    371\u001B[0m \u001B[38;5;66;03m# _compute_missing_values_in_feature_mask checks if X has missing values and\u001B[39;00m\n\u001B[0;32m    372\u001B[0m \u001B[38;5;66;03m# will raise an error if the underlying tree base estimator can't handle missing\u001B[39;00m\n\u001B[0;32m    373\u001B[0m \u001B[38;5;66;03m# values. Only the criterion is required to determine if the tree supports\u001B[39;00m\n\u001B[0;32m    374\u001B[0m \u001B[38;5;66;03m# missing values.\u001B[39;00m\n",
      "File \u001B[1;32mc:\\users\\user\\documents\\dev\\tnbc_motif\\venv\\lib\\site-packages\\sklearn\\base.py:650\u001B[0m, in \u001B[0;36mBaseEstimator._validate_data\u001B[1;34m(self, X, y, reset, validate_separately, cast_to_ndarray, **check_params)\u001B[0m\n\u001B[0;32m    649\u001B[0m \u001B[38;5;28;01melse\u001B[39;00m:\n\u001B[1;32m--> 650\u001B[0m     X, y \u001B[38;5;241m=\u001B[39m check_X_y(X, y, \u001B[38;5;241m*\u001B[39m\u001B[38;5;241m*\u001B[39mcheck_params)\n\u001B[0;32m    651\u001B[0m out \u001B[38;5;241m=\u001B[39m X, y\n",
      "File \u001B[1;32mc:\\users\\user\\documents\\dev\\tnbc_motif\\venv\\lib\\site-packages\\sklearn\\utils\\validation.py:1301\u001B[0m, in \u001B[0;36mcheck_X_y\u001B[1;34m(X, y, accept_sparse, accept_large_sparse, dtype, order, copy, force_writeable, force_all_finite, ensure_2d, allow_nd, multi_output, ensure_min_samples, ensure_min_features, y_numeric, estimator)\u001B[0m\n\u001B[0;32m   1297\u001B[0m     \u001B[38;5;28;01mraise\u001B[39;00m \u001B[38;5;167;01mValueError\u001B[39;00m(\n\u001B[0;32m   1298\u001B[0m         \u001B[38;5;124mf\u001B[39m\u001B[38;5;124m\"\u001B[39m\u001B[38;5;132;01m{\u001B[39;00mestimator_name\u001B[38;5;132;01m}\u001B[39;00m\u001B[38;5;124m requires y to be passed, but the target y is None\u001B[39m\u001B[38;5;124m\"\u001B[39m\n\u001B[0;32m   1299\u001B[0m     )\n\u001B[1;32m-> 1301\u001B[0m X \u001B[38;5;241m=\u001B[39m \u001B[43mcheck_array\u001B[49m\u001B[43m(\u001B[49m\n\u001B[0;32m   1302\u001B[0m \u001B[43m    \u001B[49m\u001B[43mX\u001B[49m\u001B[43m,\u001B[49m\n\u001B[0;32m   1303\u001B[0m \u001B[43m    \u001B[49m\u001B[43maccept_sparse\u001B[49m\u001B[38;5;241;43m=\u001B[39;49m\u001B[43maccept_sparse\u001B[49m\u001B[43m,\u001B[49m\n\u001B[0;32m   1304\u001B[0m \u001B[43m    \u001B[49m\u001B[43maccept_large_sparse\u001B[49m\u001B[38;5;241;43m=\u001B[39;49m\u001B[43maccept_large_sparse\u001B[49m\u001B[43m,\u001B[49m\n\u001B[0;32m   1305\u001B[0m \u001B[43m    \u001B[49m\u001B[43mdtype\u001B[49m\u001B[38;5;241;43m=\u001B[39;49m\u001B[43mdtype\u001B[49m\u001B[43m,\u001B[49m\n\u001B[0;32m   1306\u001B[0m \u001B[43m    \u001B[49m\u001B[43morder\u001B[49m\u001B[38;5;241;43m=\u001B[39;49m\u001B[43morder\u001B[49m\u001B[43m,\u001B[49m\n\u001B[0;32m   1307\u001B[0m \u001B[43m    \u001B[49m\u001B[43mcopy\u001B[49m\u001B[38;5;241;43m=\u001B[39;49m\u001B[43mcopy\u001B[49m\u001B[43m,\u001B[49m\n\u001B[0;32m   1308\u001B[0m \u001B[43m    \u001B[49m\u001B[43mforce_writeable\u001B[49m\u001B[38;5;241;43m=\u001B[39;49m\u001B[43mforce_writeable\u001B[49m\u001B[43m,\u001B[49m\n\u001B[0;32m   1309\u001B[0m \u001B[43m    \u001B[49m\u001B[43mforce_all_finite\u001B[49m\u001B[38;5;241;43m=\u001B[39;49m\u001B[43mforce_all_finite\u001B[49m\u001B[43m,\u001B[49m\n\u001B[0;32m   1310\u001B[0m \u001B[43m    \u001B[49m\u001B[43mensure_2d\u001B[49m\u001B[38;5;241;43m=\u001B[39;49m\u001B[43mensure_2d\u001B[49m\u001B[43m,\u001B[49m\n\u001B[0;32m   1311\u001B[0m \u001B[43m    \u001B[49m\u001B[43mallow_nd\u001B[49m\u001B[38;5;241;43m=\u001B[39;49m\u001B[43mallow_nd\u001B[49m\u001B[43m,\u001B[49m\n\u001B[0;32m   1312\u001B[0m \u001B[43m    \u001B[49m\u001B[43mensure_min_samples\u001B[49m\u001B[38;5;241;43m=\u001B[39;49m\u001B[43mensure_min_samples\u001B[49m\u001B[43m,\u001B[49m\n\u001B[0;32m   1313\u001B[0m \u001B[43m    \u001B[49m\u001B[43mensure_min_features\u001B[49m\u001B[38;5;241;43m=\u001B[39;49m\u001B[43mensure_min_features\u001B[49m\u001B[43m,\u001B[49m\n\u001B[0;32m   1314\u001B[0m \u001B[43m    \u001B[49m\u001B[43mestimator\u001B[49m\u001B[38;5;241;43m=\u001B[39;49m\u001B[43mestimator\u001B[49m\u001B[43m,\u001B[49m\n\u001B[0;32m   1315\u001B[0m \u001B[43m    \u001B[49m\u001B[43minput_name\u001B[49m\u001B[38;5;241;43m=\u001B[39;49m\u001B[38;5;124;43m\"\u001B[39;49m\u001B[38;5;124;43mX\u001B[39;49m\u001B[38;5;124;43m\"\u001B[39;49m\u001B[43m,\u001B[49m\n\u001B[0;32m   1316\u001B[0m \u001B[43m\u001B[49m\u001B[43m)\u001B[49m\n\u001B[0;32m   1318\u001B[0m y \u001B[38;5;241m=\u001B[39m _check_y(y, multi_output\u001B[38;5;241m=\u001B[39mmulti_output, y_numeric\u001B[38;5;241m=\u001B[39my_numeric, estimator\u001B[38;5;241m=\u001B[39mestimator)\n",
      "File \u001B[1;32mc:\\users\\user\\documents\\dev\\tnbc_motif\\venv\\lib\\site-packages\\sklearn\\utils\\validation.py:887\u001B[0m, in \u001B[0;36mcheck_array\u001B[1;34m(array, accept_sparse, accept_large_sparse, dtype, order, copy, force_writeable, force_all_finite, ensure_2d, allow_nd, ensure_min_samples, ensure_min_features, estimator, input_name)\u001B[0m\n\u001B[0;32m    886\u001B[0m \u001B[38;5;28;01mif\u001B[39;00m \u001B[38;5;28mall\u001B[39m(\u001B[38;5;28misinstance\u001B[39m(dtype_iter, np\u001B[38;5;241m.\u001B[39mdtype) \u001B[38;5;28;01mfor\u001B[39;00m dtype_iter \u001B[38;5;129;01min\u001B[39;00m dtypes_orig):\n\u001B[1;32m--> 887\u001B[0m     dtype_orig \u001B[38;5;241m=\u001B[39m \u001B[43mnp\u001B[49m\u001B[38;5;241;43m.\u001B[39;49m\u001B[43mresult_type\u001B[49m\u001B[43m(\u001B[49m\u001B[38;5;241;43m*\u001B[39;49m\u001B[43mdtypes_orig\u001B[49m\u001B[43m)\u001B[49m\n\u001B[0;32m    888\u001B[0m \u001B[38;5;28;01melif\u001B[39;00m pandas_requires_conversion \u001B[38;5;129;01mand\u001B[39;00m \u001B[38;5;28many\u001B[39m(d \u001B[38;5;241m==\u001B[39m \u001B[38;5;28mobject\u001B[39m \u001B[38;5;28;01mfor\u001B[39;00m d \u001B[38;5;129;01min\u001B[39;00m dtypes_orig):\n\u001B[0;32m    889\u001B[0m     \u001B[38;5;66;03m# Force object if any of the dtypes is an object\u001B[39;00m\n",
      "\u001B[1;31mValueError\u001B[0m: at least one array or dtype is required",
      "\nDuring handling of the above exception, another exception occurred:\n",
      "\u001B[1;31mTypeError\u001B[0m                                 Traceback (most recent call last)",
      "Cell \u001B[1;32mIn[12], line 54\u001B[0m\n\u001B[0;32m     43\u001B[0m     results_table \u001B[38;5;241m=\u001B[39m pd\u001B[38;5;241m.\u001B[39mconcat([pd\u001B[38;5;241m.\u001B[39mDataFrame(\n\u001B[0;32m     44\u001B[0m                                     {\u001B[38;5;124m'\u001B[39m\u001B[38;5;124mth\u001B[39m\u001B[38;5;124m'\u001B[39m: th,\n\u001B[0;32m     45\u001B[0m                                      \u001B[38;5;124m'\u001B[39m\u001B[38;5;124mtask\u001B[39m\u001B[38;5;124m'\u001B[39m: left_class \u001B[38;5;241m+\u001B[39m \u001B[38;5;124m'\u001B[39m\u001B[38;5;124m-\u001B[39m\u001B[38;5;124m'\u001B[39m \u001B[38;5;241m+\u001B[39m right_class,\n\u001B[1;32m   (...)\u001B[0m\n\u001B[0;32m     51\u001B[0m                                      \u001B[38;5;124m'\u001B[39m\u001B[38;5;124mcolor_space_count\u001B[39m\u001B[38;5;124m'\u001B[39m: color_space_count}),\n\u001B[0;32m     52\u001B[0m                                      results_table], ignore_index\u001B[38;5;241m=\u001B[39m\u001B[38;5;28;01mTrue\u001B[39;00m)\n\u001B[0;32m     53\u001B[0m \u001B[38;5;28;01mexcept\u001B[39;00m \u001B[38;5;167;01mException\u001B[39;00m \u001B[38;5;28;01mas\u001B[39;00m e:\n\u001B[1;32m---> 54\u001B[0m     \u001B[38;5;28mprint\u001B[39m(\u001B[43me\u001B[49m\u001B[38;5;241;43m.\u001B[39;49m\u001B[43mwith_traceback\u001B[49m\u001B[43m(\u001B[49m\u001B[43m)\u001B[49m)\n\u001B[0;32m     55\u001B[0m     \u001B[38;5;28;01mbreak\u001B[39;00m\n",
      "\u001B[1;31mTypeError\u001B[0m: BaseException.with_traceback() takes exactly one argument (0 given)"
     ]
    }
   ],
   "source": [
    "from cism.cism import HardDiscriminativeFC, SoftDiscriminativeFC, DiscriminativeFeatureKey\n",
    "import itertools\n",
    "\n",
    "for left_class, right_class in itertools.combinations(['NN', 'NP'], 2):\n",
    "    for th in [0.2, 0.22, 0.24, 0.26, 0.28, 0.3]:\n",
    "        try:\n",
    "            print(f'task: {left_class} - {right_class}')\n",
    "            featureConf = HardDiscriminativeFC(\n",
    "                extract_by=DiscriminativeFeatureKey.CELL_IDENTITIES,\n",
    "                use_cells_type_composition=True,\n",
    "                use_motifs=False,\n",
    "                shared_percentage=th,\n",
    "                max_class_features=30,\n",
    "                labels=[left_class, right_class])\n",
    "\n",
    "            color_space_features = (discriminator\n",
    "                                    .get_features(feature_conf=featureConf,\n",
    "                                                  exclude_patients=[],\n",
    "                                                  n_jobs=1))\n",
    "\n",
    "            optimal_result = (discriminator\n",
    "                              .analyze_motifs(feature_conf=featureConf,\n",
    "                                              exclude_patients=[],\n",
    "                                              n_jobs=1))\n",
    "\n",
    "            print(f'classes: {[left_class, right_class]} '\n",
    "                  f'th:{th} score: {optimal_result.get_roc_auc_score()}')\n",
    "\n",
    "            all_color_space_features = []\n",
    "            for idx, row in color_space_features.iterrows():\n",
    "                all_color_space_features += row['features']\n",
    "            all_color_space_features = list(set(all_color_space_features))\n",
    "\n",
    "            color_space_freq = []\n",
    "            color_space_count = []\n",
    "            motifs_dataset = discriminator.cism.motifs_dataset\n",
    "            for colors_vec_hash in all_color_space_features:\n",
    "                color_space_mean_freq = motifs_dataset[motifs_dataset['colors_vec_hash'] == colors_vec_hash]['Freq'].mean()\n",
    "                color_space_mean_count = motifs_dataset[motifs_dataset['colors_vec_hash'] == colors_vec_hash]['Count'].mean()\n",
    "                color_space_freq.append(color_space_mean_freq)\n",
    "                color_space_count.append(color_space_mean_count)\n",
    "\n",
    "            results_table = pd.concat([pd.DataFrame(\n",
    "                                            {'th': th,\n",
    "                                             'task': left_class + '-' + right_class,\n",
    "                                             'left_class': left_class,\n",
    "                                             'right_class': right_class,\n",
    "                                             'roc_auc_score': optimal_result.get_roc_auc_score(),\n",
    "                                             'all_color_space_features': all_color_space_features,\n",
    "                                             'color_space_freq': color_space_freq,\n",
    "                                             'color_space_count': color_space_count}),\n",
    "                                             results_table], ignore_index=True)\n",
    "        except Exception as e:\n",
    "            print(e.with_traceback())\n",
    "            break"
   ]
  },
  {
   "cell_type": "code",
   "execution_count": null,
   "metadata": {
    "pycharm": {
     "name": "#%%\n"
    }
   },
   "outputs": [],
   "source": [
    "results_table.to_csv(results_dir+f'/benchmark_across_th_NN_NP_color_space_{motif_size}_max_motifs.csv')"
   ]
  },
  {
   "cell_type": "code",
   "execution_count": null,
   "metadata": {
    "pycharm": {
     "name": "#%%\n"
    }
   },
   "outputs": [],
   "source": []
  }
 ],
 "metadata": {
  "kernelspec": {
   "display_name": "Python 3 (ipykernel)",
   "language": "python",
   "name": "python3"
  },
  "language_info": {
   "codemirror_mode": {
    "name": "ipython",
    "version": 3
   },
   "file_extension": ".py",
   "mimetype": "text/x-python",
   "name": "python",
   "nbconvert_exporter": "python",
   "pygments_lexer": "ipython3",
   "version": "3.9.7"
  }
 },
 "nbformat": 4,
 "nbformat_minor": 1
}