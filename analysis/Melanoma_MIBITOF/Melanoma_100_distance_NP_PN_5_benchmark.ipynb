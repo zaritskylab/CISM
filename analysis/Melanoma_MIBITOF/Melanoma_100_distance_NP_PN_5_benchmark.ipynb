{
 "cells": [
  {
   "cell_type": "markdown",
   "metadata": {},
   "source": [
    "## Configuration"
   ]
  },
  {
   "cell_type": "code",
   "execution_count": 2,
   "metadata": {
    "pycharm": {
     "name": "#%%\n"
    }
   },
   "outputs": [],
   "source": [
    "from collections import Counter\n",
    "\n",
    "import pandas as pd\n",
    "\n",
    "FANMOD_path = \"C:\\\\Users\\\\User\\\\source\\\\repos\\\\fanmod-cmd\\\\out\\\\build\\\\x64-release\"\n",
    "FANMOD_exe = \"LocalFANMOD.exe\"\n",
    "\n",
    "raw_data_folder = './../../data'\n",
    "raw_data_folder_dataset = './melanoma_distance_100_XX'\n",
    "output_dir = './../../fanmod_output'\n",
    "cache_dir = './../../parse_cache'\n",
    "results_dir = './../../results/melanoma_distance_100_XX'\n",
    "motif_size = 5\n",
    "iterations = 1000\n",
    "force_run_fanmod = False\n",
    "force_parse = False"
   ]
  },
  {
   "cell_type": "code",
   "execution_count": 3,
   "metadata": {
    "pycharm": {
     "name": "#%%\n"
    }
   },
   "outputs": [],
   "source": [
    "cells_type = {\n",
    "    0: 'B cell',\n",
    "    1: 'CD4 APC',\n",
    "    2: 'CD4 T cell',\n",
    "    3: 'CD4 Treg',\n",
    "    4: 'CD8 T cell',\n",
    "    5: 'DCs',\n",
    "    6: 'Germinal Center B cell',\n",
    "    7: 'Hevs',\n",
    "    8: 'MAC',\n",
    "    9: 'Memory CD4 T Cell',\n",
    "    10: 'NK cell',\n",
    "    11: 'Neutrophil',\n",
    "    12: 'Stroma',\n",
    "    13: 'Tumor',\n",
    "    14: 'Unidentified',\n",
    "    15: 'Vessels'\n",
    "}\n",
    "\n",
    "Distant_metastases_class = {\n",
    "    'NP': 'NP',\n",
    "    'NN': 'NN',\n",
    "    'PN': 'PN',\n",
    "    'PP': 'PP',\n",
    "}\n",
    "\n",
    "class_to_color = {\n",
    "    'NP': 'green',\n",
    "    'NN': 'yellow',\n",
    "    'PN': 'magenta',\n",
    "    'PP': 'blue',\n",
    "}"
   ]
  },
  {
   "cell_type": "markdown",
   "metadata": {
    "pycharm": {
     "name": "#%% md\n"
    }
   },
   "source": [
    "## Steps\n",
    "1. Initiate CISM object\n",
    "2. Load datasets\n",
    "3. Initiate CISMTask"
   ]
  },
  {
   "cell_type": "code",
   "execution_count": 4,
   "metadata": {
    "pycharm": {
     "name": "#%%\n"
    }
   },
   "outputs": [],
   "source": [
    "from cism.cism import CISM"
   ]
  },
  {
   "cell_type": "code",
   "metadata": {
    "pycharm": {
     "name": "#%%\n"
    }
   },
   "source": [
    "cism = CISM(fanmod_exe=FANMOD_exe,\n",
    "            fanmod_path=FANMOD_path,\n",
    "            network_dataset_root_path=raw_data_folder,\n",
    "            fanmod_output_root_path=output_dir,\n",
    "            fanmod_cache_root_path=cache_dir,\n",
    "            motif_size=motif_size,\n",
    "            iterations=iterations)\n",
    "\n",
    "# adding Melanoma dataset\n",
    "cism.add_dataset(raw_data_folder_dataset, 'Disease', 'Melanoma', force_run_fanmod=force_run_fanmod, force_parse=force_parse, n_jobs=8, quantile_threshold=1)"
   ],
   "outputs": [
    {
     "data": {
      "text/plain": "  0%|          | 0/178 [00:00<?, ?it/s]",
      "application/vnd.jupyter.widget-view+json": {
       "version_major": 2,
       "version_minor": 0,
       "model_id": "b3713d0f98d54282824ac0452af80a0c"
      }
     },
     "metadata": {},
     "output_type": "display_data"
    },
    {
     "data": {
      "text/plain": "  0%|          | 0/178 [00:00<?, ?it/s]",
      "application/vnd.jupyter.widget-view+json": {
       "version_major": 2,
       "version_minor": 0,
       "model_id": "7f415ca0ceda458f87307cd8cfcfd843"
      }
     },
     "metadata": {},
     "output_type": "display_data"
    }
   ],
   "execution_count": 5
  },
  {
   "cell_type": "code",
   "execution_count": 6,
   "metadata": {
    "pycharm": {
     "name": "#%%\n"
    }
   },
   "outputs": [],
   "source": [
    "from cism.cism import TissueStateDiscriminativeMotifs\n",
    "from cism.cism import DiscriminativeFeatureKey\n",
    "\n",
    "discriminator = TissueStateDiscriminativeMotifs(cism=cism,\n",
    "                                                tissue_state_csv_path=raw_data_folder + raw_data_folder_dataset + '/patient_class.csv',\n",
    "                                                tissue_state_to_string=Distant_metastases_class,\n",
    "                                                common_cells_type=cells_type)"
   ]
  },
  {
   "cell_type": "markdown",
   "source": [
    "Here we want to evaluate to compare the following:\n",
    "1. NP versus PN\n",
    "2. NP versus PP\n",
    "3. NN versus PN\n",
    "4. NN versus PP"
   ],
   "metadata": {
    "collapsed": false,
    "pycharm": {
     "name": "#%% md\n"
    }
   }
  },
  {
   "cell_type": "code",
   "execution_count": 7,
   "outputs": [
    {
     "data": {
      "text/plain": "               patient_class_id\npatient_class                  \nNN                           20\nNP                           18\nPN                           13\nPP                           17",
      "text/html": "<div>\n<style scoped>\n    .dataframe tbody tr th:only-of-type {\n        vertical-align: middle;\n    }\n\n    .dataframe tbody tr th {\n        vertical-align: top;\n    }\n\n    .dataframe thead th {\n        text-align: right;\n    }\n</style>\n<table border=\"1\" class=\"dataframe\">\n  <thead>\n    <tr style=\"text-align: right;\">\n      <th></th>\n      <th>patient_class_id</th>\n    </tr>\n    <tr>\n      <th>patient_class</th>\n      <th></th>\n    </tr>\n  </thead>\n  <tbody>\n    <tr>\n      <th>NN</th>\n      <td>20</td>\n    </tr>\n    <tr>\n      <th>NP</th>\n      <td>18</td>\n    </tr>\n    <tr>\n      <th>PN</th>\n      <td>13</td>\n    </tr>\n    <tr>\n      <th>PP</th>\n      <td>17</td>\n    </tr>\n  </tbody>\n</table>\n</div>"
     },
     "execution_count": 7,
     "metadata": {},
     "output_type": "execute_result"
    }
   ],
   "source": [
    "discriminator.get_patients_class(classes=None).groupby('patient_class').count()"
   ],
   "metadata": {
    "collapsed": false,
    "pycharm": {
     "name": "#%%\n"
    }
   }
  },
  {
   "cell_type": "code",
   "execution_count": 7,
   "outputs": [
    {
     "name": "stderr",
     "output_type": "stream",
     "text": [
      "When grouping with a length-1 list-like, you will need to pass a length-1 tuple to get_group in a future version of pandas. Pass `(name,)` instead of `name` to silence this warning.\n",
      "When grouping with a length-1 list-like, you will need to pass a length-1 tuple to get_group in a future version of pandas. Pass `(name,)` instead of `name` to silence this warning.\n"
     ]
    },
    {
     "data": {
      "text/plain": "<Figure size 640x480 with 1 Axes>",
      "image/png": "[encoded data removed]"
     },
     "metadata": {},
     "output_type": "display_data"
    }
   ],
   "source": [
    "discover_result = discriminator.discover(extract_by=DiscriminativeFeatureKey.STRUCTURE_AND_CELL_IDENTITIES, classes=['NP', 'PN'])\n",
    "\n",
    "discover_result.plot_number_of_motifs_versus_shared_percentage(class_to_color=class_to_color)"
   ],
   "metadata": {
    "collapsed": false,
    "pycharm": {
     "name": "#%%\n"
    }
   }
  },
  {
   "cell_type": "code",
   "execution_count": 8,
   "outputs": [],
   "source": [
    "results_table = None"
   ],
   "metadata": {
    "collapsed": false,
    "pycharm": {
     "name": "#%%\n"
    }
   }
  },
  {
   "cell_type": "code",
   "execution_count": 9,
   "outputs": [
    {
     "name": "stdout",
     "output_type": "stream",
     "text": [
      "task: NP - PN\n"
     ]
    },
    {
     "data": {
      "text/plain": "  0%|          | 0/31 [00:00<?, ?it/s]",
      "application/vnd.jupyter.widget-view+json": {
       "version_major": 2,
       "version_minor": 0,
       "model_id": "a90f267edb5d4a6fa0687bff39ac95e7"
      }
     },
     "metadata": {},
     "output_type": "display_data"
    },
    {
     "data": {
      "text/plain": "  0%|          | 0/31 [00:00<?, ?it/s]",
      "application/vnd.jupyter.widget-view+json": {
       "version_major": 2,
       "version_minor": 0,
       "model_id": "edc8da019e0a4ae6a602a5a6d77c8b99"
      }
     },
     "metadata": {},
     "output_type": "display_data"
    },
    {
     "name": "stdout",
     "output_type": "stream",
     "text": [
      "classes: ['NP', 'PN'] th:0.2 score: 0.5192307692307692\n",
      "task: NP - PN\n"
     ]
    },
    {
     "data": {
      "text/plain": "  0%|          | 0/31 [00:00<?, ?it/s]",
      "application/vnd.jupyter.widget-view+json": {
       "version_major": 2,
       "version_minor": 0,
       "model_id": "a63ebf0c4a784ce68ea2bff8c2c918d9"
      }
     },
     "metadata": {},
     "output_type": "display_data"
    },
    {
     "data": {
      "text/plain": "  0%|          | 0/31 [00:00<?, ?it/s]",
      "application/vnd.jupyter.widget-view+json": {
       "version_major": 2,
       "version_minor": 0,
       "model_id": "559f966846d1492d84045dc1655cbbc5"
      }
     },
     "metadata": {},
     "output_type": "display_data"
    },
    {
     "name": "stdout",
     "output_type": "stream",
     "text": [
      "classes: ['NP', 'PN'] th:0.3 score: 0.5833333333333333\n",
      "task: NP - PN\n"
     ]
    },
    {
     "data": {
      "text/plain": "  0%|          | 0/31 [00:00<?, ?it/s]",
      "application/vnd.jupyter.widget-view+json": {
       "version_major": 2,
       "version_minor": 0,
       "model_id": "490532ac73c3433494763727badbd5c7"
      }
     },
     "metadata": {},
     "output_type": "display_data"
    },
    {
     "data": {
      "text/plain": "  0%|          | 0/31 [00:00<?, ?it/s]",
      "application/vnd.jupyter.widget-view+json": {
       "version_major": 2,
       "version_minor": 0,
       "model_id": "3b735c8f903e4f6db8122495bc8d4e10"
      }
     },
     "metadata": {},
     "output_type": "display_data"
    },
    {
     "name": "stdout",
     "output_type": "stream",
     "text": [
      "classes: ['NP', 'PN'] th:0.4 score: 0.8141025641025641\n",
      "task: NP - PN\n"
     ]
    },
    {
     "data": {
      "text/plain": "  0%|          | 0/31 [00:00<?, ?it/s]",
      "application/vnd.jupyter.widget-view+json": {
       "version_major": 2,
       "version_minor": 0,
       "model_id": "8c0fa0bee49b4004a17cbed69936b337"
      }
     },
     "metadata": {},
     "output_type": "display_data"
    },
    {
     "data": {
      "text/plain": "  0%|          | 0/31 [00:00<?, ?it/s]",
      "application/vnd.jupyter.widget-view+json": {
       "version_major": 2,
       "version_minor": 0,
       "model_id": "45d9727a914e4be5b63d6993af70637b"
      }
     },
     "metadata": {},
     "output_type": "display_data"
    },
    {
     "name": "stdout",
     "output_type": "stream",
     "text": [
      "classes: ['NP', 'PN'] th:0.42 score: 0.8012820512820513\n",
      "task: NP - PN\n"
     ]
    },
    {
     "data": {
      "text/plain": "  0%|          | 0/31 [00:00<?, ?it/s]",
      "application/vnd.jupyter.widget-view+json": {
       "version_major": 2,
       "version_minor": 0,
       "model_id": "11ccf844ccaf42dfa5dc6dc9338d51e0"
      }
     },
     "metadata": {},
     "output_type": "display_data"
    },
    {
     "data": {
      "text/plain": "  0%|          | 0/31 [00:00<?, ?it/s]",
      "application/vnd.jupyter.widget-view+json": {
       "version_major": 2,
       "version_minor": 0,
       "model_id": "3fa563867a9742e9bc55d54f227cac5e"
      }
     },
     "metadata": {},
     "output_type": "display_data"
    },
    {
     "name": "stdout",
     "output_type": "stream",
     "text": [
      "classes: ['NP', 'PN'] th:0.44 score: 0.7991452991452991\n",
      "task: NP - PN\n"
     ]
    },
    {
     "data": {
      "text/plain": "  0%|          | 0/31 [00:00<?, ?it/s]",
      "application/vnd.jupyter.widget-view+json": {
       "version_major": 2,
       "version_minor": 0,
       "model_id": "bf50711d905d4d06a5b9bdaa4298c830"
      }
     },
     "metadata": {},
     "output_type": "display_data"
    },
    {
     "data": {
      "text/plain": "  0%|          | 0/31 [00:00<?, ?it/s]",
      "application/vnd.jupyter.widget-view+json": {
       "version_major": 2,
       "version_minor": 0,
       "model_id": "abdcb5dc80854eb594b0db40b5e38e94"
      }
     },
     "metadata": {},
     "output_type": "display_data"
    },
    {
     "name": "stdout",
     "output_type": "stream",
     "text": [
      "classes: ['NP', 'PN'] th:0.46 score: 0.8098290598290598\n",
      "task: NP - PN\n"
     ]
    },
    {
     "data": {
      "text/plain": "  0%|          | 0/31 [00:00<?, ?it/s]",
      "application/vnd.jupyter.widget-view+json": {
       "version_major": 2,
       "version_minor": 0,
       "model_id": "38f697d76c7f4e3fab6ac272aad866e2"
      }
     },
     "metadata": {},
     "output_type": "display_data"
    },
    {
     "data": {
      "text/plain": "  0%|          | 0/31 [00:00<?, ?it/s]",
      "application/vnd.jupyter.widget-view+json": {
       "version_major": 2,
       "version_minor": 0,
       "model_id": "aae45ab156a5451aa5a13ed620d45740"
      }
     },
     "metadata": {},
     "output_type": "display_data"
    },
    {
     "name": "stdout",
     "output_type": "stream",
     "text": [
      "classes: ['NP', 'PN'] th:0.48 score: 0.7350427350427351\n",
      "task: NP - PN\n"
     ]
    },
    {
     "data": {
      "text/plain": "  0%|          | 0/31 [00:00<?, ?it/s]",
      "application/vnd.jupyter.widget-view+json": {
       "version_major": 2,
       "version_minor": 0,
       "model_id": "c42a4feadbfc4a9fb9d576a900d942d4"
      }
     },
     "metadata": {},
     "output_type": "display_data"
    },
    {
     "data": {
      "text/plain": "  0%|          | 0/31 [00:00<?, ?it/s]",
      "application/vnd.jupyter.widget-view+json": {
       "version_major": 2,
       "version_minor": 0,
       "model_id": "9af690c0396245feb982d538b053abb9"
      }
     },
     "metadata": {},
     "output_type": "display_data"
    },
    {
     "name": "stdout",
     "output_type": "stream",
     "text": [
      "classes: ['NP', 'PN'] th:0.5 score: 0.7585470085470086\n",
      "task: NP - PN\n"
     ]
    },
    {
     "data": {
      "text/plain": "  0%|          | 0/31 [00:00<?, ?it/s]",
      "application/vnd.jupyter.widget-view+json": {
       "version_major": 2,
       "version_minor": 0,
       "model_id": "5417e03108fc498d9f2aad10b9d1400d"
      }
     },
     "metadata": {},
     "output_type": "display_data"
    },
    {
     "data": {
      "text/plain": "  0%|          | 0/31 [00:00<?, ?it/s]",
      "application/vnd.jupyter.widget-view+json": {
       "version_major": 2,
       "version_minor": 0,
       "model_id": "bf7ef83b55e7467eac23732ed24ba04b"
      }
     },
     "metadata": {},
     "output_type": "display_data"
    },
    {
     "name": "stdout",
     "output_type": "stream",
     "text": [
      "classes: ['NP', 'PN'] th:0.6 score: 0.7051282051282051\n",
      "task: NP - PN\n"
     ]
    },
    {
     "data": {
      "text/plain": "  0%|          | 0/31 [00:00<?, ?it/s]",
      "application/vnd.jupyter.widget-view+json": {
       "version_major": 2,
       "version_minor": 0,
       "model_id": "f75daa4626b94980933083d5022ff789"
      }
     },
     "metadata": {},
     "output_type": "display_data"
    },
    {
     "data": {
      "text/plain": "  0%|          | 0/31 [00:00<?, ?it/s]",
      "application/vnd.jupyter.widget-view+json": {
       "version_major": 2,
       "version_minor": 0,
       "model_id": "ca3afcdf50c54f98b17adc18a676a9da"
      }
     },
     "metadata": {},
     "output_type": "display_data"
    },
    {
     "name": "stdout",
     "output_type": "stream",
     "text": [
      "classes: ['NP', 'PN'] th:0.7 score: 0.8183760683760684\n",
      "task: NP - PN\n"
     ]
    },
    {
     "data": {
      "text/plain": "  0%|          | 0/31 [00:00<?, ?it/s]",
      "application/vnd.jupyter.widget-view+json": {
       "version_major": 2,
       "version_minor": 0,
       "model_id": "677fdb80dba04dba81980dff82f6d355"
      }
     },
     "metadata": {},
     "output_type": "display_data"
    },
    {
     "data": {
      "text/plain": "  0%|          | 0/31 [00:00<?, ?it/s]",
      "application/vnd.jupyter.widget-view+json": {
       "version_major": 2,
       "version_minor": 0,
       "model_id": "f36f02e87dcc40d5b4e6ecb88132c17d"
      }
     },
     "metadata": {},
     "output_type": "display_data"
    },
    {
     "name": "stdout",
     "output_type": "stream",
     "text": [
      "classes: ['NP', 'PN'] th:0.72 score: 0.7948717948717948\n",
      "task: NP - PN\n"
     ]
    },
    {
     "data": {
      "text/plain": "  0%|          | 0/31 [00:00<?, ?it/s]",
      "application/vnd.jupyter.widget-view+json": {
       "version_major": 2,
       "version_minor": 0,
       "model_id": "2b99558a477c4e8e9782b461276c6896"
      }
     },
     "metadata": {},
     "output_type": "display_data"
    },
    {
     "data": {
      "text/plain": "  0%|          | 0/31 [00:00<?, ?it/s]",
      "application/vnd.jupyter.widget-view+json": {
       "version_major": 2,
       "version_minor": 0,
       "model_id": "d692d4c1845741cab7edf65259a4fc73"
      }
     },
     "metadata": {},
     "output_type": "display_data"
    },
    {
     "name": "stdout",
     "output_type": "stream",
     "text": [
      "classes: ['NP', 'PN'] th:0.74 score: 0.7136752136752137\n",
      "task: NP - PN\n"
     ]
    },
    {
     "data": {
      "text/plain": "  0%|          | 0/31 [00:00<?, ?it/s]",
      "application/vnd.jupyter.widget-view+json": {
       "version_major": 2,
       "version_minor": 0,
       "model_id": "032998df699b4f0f9ed38c917985e723"
      }
     },
     "metadata": {},
     "output_type": "display_data"
    },
    {
     "data": {
      "text/plain": "  0%|          | 0/31 [00:00<?, ?it/s]",
      "application/vnd.jupyter.widget-view+json": {
       "version_major": 2,
       "version_minor": 0,
       "model_id": "35583655aa08406ab17c677163ee1146"
      }
     },
     "metadata": {},
     "output_type": "display_data"
    }
   ],
   "source": [
    "from cism.cism import HardDiscriminativeFC, SoftDiscriminativeFC, DiscriminativeFeatureKey\n",
    "import itertools\n",
    "\n",
    "for left_class, right_class in itertools.combinations(['NP', 'PN'], 2):\n",
    "    for th in [0.2, 0.3, 0.4, 0.42, 0.44, 0.46, 0.48, 0.5, 0.6, 0.7, 0.72, 0.74, 0.76, 0.8]:\n",
    "        try:\n",
    "            print(f'task: {left_class} - {right_class}')\n",
    "            featureConf = HardDiscriminativeFC(\n",
    "                extract_by=DiscriminativeFeatureKey.STRUCTURE_AND_CELL_IDENTITIES,\n",
    "                use_cells_type_composition=False,\n",
    "                use_motifs=True,\n",
    "                shared_percentage=th,\n",
    "                max_class_features=30,\n",
    "                labels=[left_class, right_class])\n",
    "\n",
    "            motif_space_features = (discriminator\n",
    "                                    .get_features(feature_conf=featureConf,\n",
    "                                                  exclude_patients=[],\n",
    "                                                  n_jobs=1))\n",
    "\n",
    "            optimal_result = (discriminator\n",
    "                              .analyze_motifs(feature_conf=featureConf,\n",
    "                                              exclude_patients=[],\n",
    "                                              n_jobs=1))\n",
    "\n",
    "            print(f'classes: {[left_class, right_class]} '\n",
    "                  f'th:{th} score: {optimal_result.get_roc_auc_score()}')\n",
    "\n",
    "            all_motif_features = []\n",
    "            for idx, row in motif_space_features.iterrows():\n",
    "                all_motif_features += row['features']\n",
    "            all_motif_features = list(set(all_motif_features))\n",
    "\n",
    "            motif_freq = []\n",
    "            motif_count = []\n",
    "            motifs_dataset = discriminator.cism.motifs_dataset\n",
    "            for motif_id in all_motif_features:\n",
    "                motif_mean_freq = motifs_dataset[motifs_dataset['ID'] == motif_id]['Freq'].mean()\n",
    "                motif_mean_count = motifs_dataset[motifs_dataset['ID'] == motif_id]['Count'].mean()\n",
    "                motif_freq.append(motif_mean_freq)\n",
    "                motif_count.append(motif_mean_count)\n",
    "\n",
    "            results_table = pd.concat([pd.DataFrame(\n",
    "                                            {'th': th,\n",
    "                                             'task': left_class + '-' + right_class,\n",
    "                                             'left_class': left_class,\n",
    "                                             'right_class': right_class,\n",
    "                                             'roc_auc_score': optimal_result.get_roc_auc_score(),\n",
    "                                             'all_motif_features': all_motif_features,\n",
    "                                             'motif_mean_freq': motif_freq,\n",
    "                                             'motif_mean_count': motif_count}),\n",
    "                                             results_table], ignore_index=True)\n",
    "        except:\n",
    "            break"
   ],
   "metadata": {
    "collapsed": false,
    "pycharm": {
     "name": "#%%\n"
    }
   }
  },
  {
   "cell_type": "code",
   "execution_count": 10,
   "outputs": [],
   "source": [
    "results_table.to_csv(results_dir+f'/benchmark_across_th_NP_PN_{motif_size}_max_motifs.csv')"
   ],
   "metadata": {
    "collapsed": false,
    "pycharm": {
     "name": "#%%\n"
    }
   }
  }
 ],
 "metadata": {
  "kernelspec": {
   "display_name": "Python 3 (ipykernel)",
   "language": "python",
   "name": "python3"
  },
  "language_info": {
   "codemirror_mode": {
    "name": "ipython",
    "version": 3
   },
   "file_extension": ".py",
   "mimetype": "text/x-python",
   "name": "python",
   "nbconvert_exporter": "python",
   "pygments_lexer": "ipython3",
   "version": "3.9.7"
  }
 },
 "nbformat": 4,
 "nbformat_minor": 1
}