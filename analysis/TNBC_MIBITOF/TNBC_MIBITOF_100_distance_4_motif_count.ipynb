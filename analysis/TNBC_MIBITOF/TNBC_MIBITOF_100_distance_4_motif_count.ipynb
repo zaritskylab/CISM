{
 "cells": [
  {
   "cell_type": "markdown",
   "metadata": {},
   "source": [
    "## Configuration"
   ]
  },
  {
   "cell_type": "code",
   "execution_count": 1,
   "metadata": {
    "pycharm": {
     "name": "#%%\n"
    }
   },
   "outputs": [],
   "source": [
    "from collections import Counter\n",
    "\n",
    "import pandas as pd\n",
    "\n",
    "FANMOD_path = \"C:\\\\Users\\\\User\\\\source\\\\repos\\\\fanmod-cmd\\\\out\\\\build\\\\x64-release\"\n",
    "FANMOD_exe = \"LocalFANMOD.exe\"\n",
    "\n",
    "raw_data_folder = './../../data'\n",
    "raw_data_folder_dataset = './TNBC_MIBITOF'\n",
    "output_dir = './../../fanmod_output'\n",
    "cache_dir = './../../parse_cache'\n",
    "results_dir = './../../results/TNBC_MIBITOF'\n",
    "motif_size = 4\n",
    "iterations = 1000\n",
    "force_run_fanmod = False\n",
    "force_parse = False"
   ]
  },
  {
   "cell_type": "code",
   "execution_count": 2,
   "metadata": {
    "pycharm": {
     "name": "#%%\n"
    }
   },
   "outputs": [],
   "source": [
    "cells_type = {\n",
    " 0: 'B cells',\n",
    " 1: 'CD3 T cells',\n",
    " 2: 'CD4 t cells',\n",
    " 3: 'CD8 T cells',\n",
    " 4: 'DC',\n",
    " 5: 'DC/Mono',\n",
    " 6: 'Endothelial',\n",
    " 7: 'Immune other',\n",
    " 8: 'Macrophages',\n",
    " 9: 'Mesenchyme',\n",
    " 10: 'Mono/Neu',\n",
    " 11: 'NK cells',\n",
    " 12: 'Neutrophils',\n",
    " 13: 'Tregs',\n",
    " 14: 'Tumor',\n",
    " 15: 'Unidentified'\n",
    "}\n",
    "\n",
    "Distant_metastases_class = {\n",
    "    'POSITIVE': 'POSITIVE',\n",
    "    'NEGATIVE': 'NEGATIVE',\n",
    "}\n",
    "\n",
    "survival_rate_cutoff = 1000\n",
    "\n",
    "def map_survival_rate_to_class(survival_rate: int):\n",
    "    if survival_rate<survival_rate_cutoff:\n",
    "        return 'POSITIVE'\n",
    "    else:\n",
    "        return 'NEGATIVE'\n",
    "\n",
    "class_to_color = {\n",
    "    'POSITIVE': 'green',\n",
    "    'NEGATIVE': 'orange',\n",
    "}"
   ]
  },
  {
   "cell_type": "markdown",
   "metadata": {
    "pycharm": {
     "name": "#%% md\n"
    }
   },
   "source": [
    "## Steps\n",
    "1. Initiate CISM object\n",
    "2. Load datasets\n",
    "3. Initiate CISMTask"
   ]
  },
  {
   "cell_type": "code",
   "execution_count": 3,
   "metadata": {
    "pycharm": {
     "name": "#%%\n"
    }
   },
   "outputs": [],
   "source": [
    "from cism.cism import CISM"
   ]
  },
  {
   "cell_type": "code",
   "metadata": {
    "pycharm": {
     "name": "#%%\n"
    }
   },
   "source": [
    "cism = CISM(fanmod_exe=FANMOD_exe,\n",
    "            fanmod_path=FANMOD_path,\n",
    "            network_dataset_root_path=raw_data_folder,\n",
    "            fanmod_output_root_path=output_dir,\n",
    "            fanmod_cache_root_path=cache_dir,\n",
    "            motif_size=motif_size,\n",
    "            iterations=iterations)\n",
    "\n",
    "# adding Melanoma dataset\n",
    "cism.add_dataset(raw_data_folder_dataset, 'Disease', 'TNBC', force_run_fanmod=force_run_fanmod, force_parse=force_parse, n_jobs=1, quantile_threshold=1)"
   ],
   "outputs": [
    {
     "data": {
      "text/plain": "  0%|          | 0/42 [00:00<?, ?it/s]",
      "application/vnd.jupyter.widget-view+json": {
       "version_major": 2,
       "version_minor": 0,
       "model_id": "e3d97ea3cf354346bcdb5f8d2c44f8b6"
      }
     },
     "metadata": {},
     "output_type": "display_data"
    },
    {
     "data": {
      "text/plain": "  0%|          | 0/42 [00:00<?, ?it/s]",
      "application/vnd.jupyter.widget-view+json": {
       "version_major": 2,
       "version_minor": 0,
       "model_id": "b65dbc0b091a4a6a9405d63059f57ce6"
      }
     },
     "metadata": {},
     "output_type": "display_data"
    }
   ],
   "execution_count": 4
  },
  {
   "cell_type": "code",
   "execution_count": 5,
   "outputs": [],
   "source": [
    "import pandas as pd\n",
    "\n",
    "survival_days_df = pd.read_csv(raw_data_folder + raw_data_folder_dataset + '/patient_class_survival_days.csv', names=['Patient', 'Survival Days'])"
   ],
   "metadata": {
    "collapsed": false,
    "pycharm": {
     "name": "#%%\n"
    }
   }
  },
  {
   "cell_type": "code",
   "execution_count": 6,
   "metadata": {
    "pycharm": {
     "name": "#%%\n"
    }
   },
   "outputs": [],
   "source": [
    "from cism.cism import TissueStateDiscriminativeMotifs\n",
    "from cism.cism import DiscriminativeFeatureKey\n",
    "\n",
    "discriminator = TissueStateDiscriminativeMotifs(cism=cism,\n",
    "                                                tissue_state_csv_path=raw_data_folder + raw_data_folder_dataset + '/patient_class_survival_days.csv',\n",
    "                                                tissue_state_to_string=None,\n",
    "                                                common_cells_type=cells_type,\n",
    "                                                tissue_state_func=map_survival_rate_to_class)"
   ]
  },
  {
   "cell_type": "code",
   "execution_count": 7,
   "outputs": [
    {
     "data": {
      "text/plain": "               patient_class_id\npatient_class                  \nNEGATIVE                     30\nPOSITIVE                      7",
      "text/html": "<div>\n<style scoped>\n    .dataframe tbody tr th:only-of-type {\n        vertical-align: middle;\n    }\n\n    .dataframe tbody tr th {\n        vertical-align: top;\n    }\n\n    .dataframe thead th {\n        text-align: right;\n    }\n</style>\n<table border=\"1\" class=\"dataframe\">\n  <thead>\n    <tr style=\"text-align: right;\">\n      <th></th>\n      <th>patient_class_id</th>\n    </tr>\n    <tr>\n      <th>patient_class</th>\n      <th></th>\n    </tr>\n  </thead>\n  <tbody>\n    <tr>\n      <th>NEGATIVE</th>\n      <td>30</td>\n    </tr>\n    <tr>\n      <th>POSITIVE</th>\n      <td>7</td>\n    </tr>\n  </tbody>\n</table>\n</div>"
     },
     "execution_count": 7,
     "metadata": {},
     "output_type": "execute_result"
    }
   ],
   "source": [
    "discriminator.get_patients_class(classes=None).groupby('patient_class').count()"
   ],
   "metadata": {
    "collapsed": false,
    "pycharm": {
     "name": "#%%\n"
    }
   }
  },
  {
   "cell_type": "code",
   "execution_count": 9,
   "outputs": [],
   "source": [
    "results_table = None"
   ],
   "metadata": {
    "collapsed": false,
    "pycharm": {
     "name": "#%%\n"
    }
   }
  },
  {
   "cell_type": "code",
   "execution_count": null,
   "outputs": [
    {
     "name": "stdout",
     "output_type": "stream",
     "text": [
      "task: POSITIVE - NEGATIVE\n"
     ]
    },
    {
     "data": {
      "text/plain": "  0%|          | 0/37 [00:00<?, ?it/s]",
      "application/vnd.jupyter.widget-view+json": {
       "version_major": 2,
       "version_minor": 0,
       "model_id": "40b654f250a0400186430955043c42ce"
      }
     },
     "metadata": {},
     "output_type": "display_data"
    },
    {
     "data": {
      "text/plain": "  0%|          | 0/37 [00:00<?, ?it/s]",
      "application/vnd.jupyter.widget-view+json": {
       "version_major": 2,
       "version_minor": 0,
       "model_id": "d3647f470bd04ee18e476585005bf48f"
      }
     },
     "metadata": {},
     "output_type": "display_data"
    },
    {
     "name": "stdout",
     "output_type": "stream",
     "text": [
      "classes: ['POSITIVE', 'NEGATIVE'] th:0.2 score: 0.55\n",
      "task: POSITIVE - NEGATIVE\n"
     ]
    },
    {
     "data": {
      "text/plain": "  0%|          | 0/37 [00:00<?, ?it/s]",
      "application/vnd.jupyter.widget-view+json": {
       "version_major": 2,
       "version_minor": 0,
       "model_id": "61d4c81ce1ea4e3db525528095def2c9"
      }
     },
     "metadata": {},
     "output_type": "display_data"
    },
    {
     "data": {
      "text/plain": "  0%|          | 0/37 [00:00<?, ?it/s]",
      "application/vnd.jupyter.widget-view+json": {
       "version_major": 2,
       "version_minor": 0,
       "model_id": "cf979cf02de54c6a92f5061380fb389b"
      }
     },
     "metadata": {},
     "output_type": "display_data"
    },
    {
     "name": "stdout",
     "output_type": "stream",
     "text": [
      "classes: ['POSITIVE', 'NEGATIVE'] th:0.3 score: 0.4214285714285715\n",
      "task: POSITIVE - NEGATIVE\n"
     ]
    },
    {
     "data": {
      "text/plain": "  0%|          | 0/37 [00:00<?, ?it/s]",
      "application/vnd.jupyter.widget-view+json": {
       "version_major": 2,
       "version_minor": 0,
       "model_id": "7523c00205294f5aaf45fc597a1906e5"
      }
     },
     "metadata": {},
     "output_type": "display_data"
    },
    {
     "data": {
      "text/plain": "  0%|          | 0/37 [00:00<?, ?it/s]",
      "application/vnd.jupyter.widget-view+json": {
       "version_major": 2,
       "version_minor": 0,
       "model_id": "344a532687da41d89b598288d23d9b33"
      }
     },
     "metadata": {},
     "output_type": "display_data"
    },
    {
     "name": "stdout",
     "output_type": "stream",
     "text": [
      "classes: ['POSITIVE', 'NEGATIVE'] th:0.4 score: 0.5571428571428572\n",
      "task: POSITIVE - NEGATIVE\n"
     ]
    },
    {
     "data": {
      "text/plain": "  0%|          | 0/37 [00:00<?, ?it/s]",
      "application/vnd.jupyter.widget-view+json": {
       "version_major": 2,
       "version_minor": 0,
       "model_id": "f406b60a15714245a818e4854519e13e"
      }
     },
     "metadata": {},
     "output_type": "display_data"
    },
    {
     "data": {
      "text/plain": "  0%|          | 0/37 [00:00<?, ?it/s]",
      "application/vnd.jupyter.widget-view+json": {
       "version_major": 2,
       "version_minor": 0,
       "model_id": "c1f1d5398a3d4f6d9d78cb5d98e81f91"
      }
     },
     "metadata": {},
     "output_type": "display_data"
    },
    {
     "name": "stdout",
     "output_type": "stream",
     "text": [
      "classes: ['POSITIVE', 'NEGATIVE'] th:0.45 score: 0.680952380952381\n",
      "task: POSITIVE - NEGATIVE\n"
     ]
    },
    {
     "data": {
      "text/plain": "  0%|          | 0/37 [00:00<?, ?it/s]",
      "application/vnd.jupyter.widget-view+json": {
       "version_major": 2,
       "version_minor": 0,
       "model_id": "6acba440b7564214be472ffd10d800ea"
      }
     },
     "metadata": {},
     "output_type": "display_data"
    },
    {
     "data": {
      "text/plain": "  0%|          | 0/37 [00:00<?, ?it/s]",
      "application/vnd.jupyter.widget-view+json": {
       "version_major": 2,
       "version_minor": 0,
       "model_id": "371939d44d6b4b28bd64d03faffd2f79"
      }
     },
     "metadata": {},
     "output_type": "display_data"
    },
    {
     "name": "stdout",
     "output_type": "stream",
     "text": [
      "classes: ['POSITIVE', 'NEGATIVE'] th:0.5 score: 0.7\n",
      "task: POSITIVE - NEGATIVE\n"
     ]
    },
    {
     "data": {
      "text/plain": "  0%|          | 0/37 [00:00<?, ?it/s]",
      "application/vnd.jupyter.widget-view+json": {
       "version_major": 2,
       "version_minor": 0,
       "model_id": "e98c27ee8e6f47ce9148cd1da1e45630"
      }
     },
     "metadata": {},
     "output_type": "display_data"
    },
    {
     "data": {
      "text/plain": "  0%|          | 0/37 [00:00<?, ?it/s]",
      "application/vnd.jupyter.widget-view+json": {
       "version_major": 2,
       "version_minor": 0,
       "model_id": "438e826de88649ea9fdd94c470454a45"
      }
     },
     "metadata": {},
     "output_type": "display_data"
    },
    {
     "name": "stdout",
     "output_type": "stream",
     "text": [
      "classes: ['POSITIVE', 'NEGATIVE'] th:0.6 score: 0.7428571428571429\n",
      "task: POSITIVE - NEGATIVE\n"
     ]
    },
    {
     "data": {
      "text/plain": "  0%|          | 0/37 [00:00<?, ?it/s]",
      "application/vnd.jupyter.widget-view+json": {
       "version_major": 2,
       "version_minor": 0,
       "model_id": "1dd59ee3f8674f9da5d7620d36534e98"
      }
     },
     "metadata": {},
     "output_type": "display_data"
    }
   ],
   "source": [
    "from cism.cism import HardDiscriminativeFC, SoftDiscriminativeFC, DiscriminativeFeatureKey\n",
    "import itertools\n",
    "\n",
    "for left_class, right_class in itertools.combinations(['POSITIVE', 'NEGATIVE'], 2):\n",
    "    for th in [0.2, 0.3, 0.4, 0.45, 0.5, 0.6, 0.7, 0.75, 0.8]:\n",
    "        try:\n",
    "            print(f'task: {left_class} - {right_class}')\n",
    "            featureConf = HardDiscriminativeFC(\n",
    "                extract_by=DiscriminativeFeatureKey.STRUCTURE_AND_CELL_IDENTITIES,\n",
    "                use_cells_type_composition=False,\n",
    "                use_motifs=True,\n",
    "                shared_percentage=th,\n",
    "                max_class_features=30,\n",
    "                labels=[left_class, right_class])\n",
    "\n",
    "            motif_space_features = (discriminator\n",
    "                                    .get_features(feature_conf=featureConf,\n",
    "                                                  exclude_patients=[],\n",
    "                                                  n_jobs=1))\n",
    "\n",
    "            optimal_result = (discriminator\n",
    "                              .analyze_motifs(feature_conf=featureConf,\n",
    "                                              exclude_patients=[],\n",
    "                                              n_jobs=1))\n",
    "\n",
    "            print(f'classes: {[left_class, right_class]} '\n",
    "                  f'th:{th} score: {optimal_result.get_roc_auc_score()}')\n",
    "\n",
    "            all_motif_features = []\n",
    "            for idx, row in motif_space_features.iterrows():\n",
    "                all_motif_features += row['features']\n",
    "            all_motif_features = list(set(all_motif_features))\n",
    "\n",
    "            motif_freq = []\n",
    "            motif_count = []\n",
    "            motifs_dataset = discriminator.cism.motifs_dataset\n",
    "            for motif_id in all_motif_features:\n",
    "                motif_mean_freq = motifs_dataset[motifs_dataset['ID'] == motif_id]['Freq'].mean()\n",
    "                motif_mean_count = motifs_dataset[motifs_dataset['ID'] == motif_id]['Count'].mean()\n",
    "                motif_patients_count = motifs_dataset[motifs_dataset['ID'] == motif_id]['Patient_uId'].nunique()\n",
    "                motif_freq.append(motif_mean_freq)\n",
    "                motif_count.append(motif_mean_count)\n",
    "\n",
    "            results_table = pd.concat([pd.DataFrame(\n",
    "                                            {'th': th,\n",
    "                                             'task': left_class + '-' + right_class,\n",
    "                                             'left_class': left_class,\n",
    "                                             'right_class': right_class,\n",
    "                                             'roc_auc_score': optimal_result.get_roc_auc_score(),\n",
    "                                             'all_motif_features': all_motif_features,\n",
    "                                             'motif_mean_freq': motif_freq,\n",
    "                                             'motif_mean_count': motif_count,\n",
    "                                             'patient_count': motif_patients_count}),\n",
    "                                             results_table], ignore_index=True)\n",
    "        except:\n",
    "            break"
   ],
   "metadata": {
    "collapsed": false,
    "pycharm": {
     "name": "#%%\n",
     "is_executing": true
    }
   }
  },
  {
   "cell_type": "code",
   "execution_count": null,
   "outputs": [],
   "source": [
    "results_table.to_csv(results_dir+f'/benchmark_across_th_{motif_size}_max_motifs.csv')"
   ],
   "metadata": {
    "collapsed": false,
    "pycharm": {
     "name": "#%%\n",
     "is_executing": true
    }
   }
  },
  {
   "cell_type": "code",
   "execution_count": null,
   "outputs": [],
   "source": [],
   "metadata": {
    "collapsed": false,
    "pycharm": {
     "name": "#%%\n"
    }
   }
  }
 ],
 "metadata": {
  "kernelspec": {
   "display_name": "Python 3 (ipykernel)",
   "language": "python",
   "name": "python3"
  },
  "language_info": {
   "codemirror_mode": {
    "name": "ipython",
    "version": 3
   },
   "file_extension": ".py",
   "mimetype": "text/x-python",
   "name": "python",
   "nbconvert_exporter": "python",
   "pygments_lexer": "ipython3",
   "version": "3.9.7"
  }
 },
 "nbformat": 4,
 "nbformat_minor": 1
}