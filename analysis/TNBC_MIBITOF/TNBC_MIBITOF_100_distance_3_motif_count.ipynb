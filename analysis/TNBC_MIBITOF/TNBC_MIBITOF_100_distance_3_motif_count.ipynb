{
 "cells": [
  {
   "cell_type": "markdown",
   "metadata": {},
   "source": [
    "## Configuration"
   ]
  },
  {
   "cell_type": "code",
   "execution_count": 1,
   "metadata": {
    "pycharm": {
     "name": "#%%\n"
    }
   },
   "outputs": [],
   "source": [
    "from collections import Counter\n",
    "\n",
    "import pandas as pd\n",
    "\n",
    "FANMOD_path = \"C:\\\\Users\\\\User\\\\source\\\\repos\\\\fanmod-cmd\\\\out\\\\build\\\\x64-release\"\n",
    "FANMOD_exe = \"LocalFANMOD.exe\"\n",
    "\n",
    "raw_data_folder = './../../data'\n",
    "raw_data_folder_dataset = './TNBC_MIBITOF'\n",
    "output_dir = './../../fanmod_output'\n",
    "cache_dir = './../../parse_cache'\n",
    "results_dir = './../../results/TNBC_MIBITOF'\n",
    "motif_size = 3\n",
    "iterations = 1000\n",
    "force_run_fanmod = False\n",
    "force_parse = False"
   ]
  },
  {
   "cell_type": "code",
   "execution_count": 2,
   "metadata": {
    "pycharm": {
     "name": "#%%\n"
    }
   },
   "outputs": [],
   "source": [
    "cells_type = {\n",
    " 0: 'B cells',\n",
    " 1: 'CD3 T cells',\n",
    " 2: 'CD4 t cells',\n",
    " 3: 'CD8 T cells',\n",
    " 4: 'DC',\n",
    " 5: 'DC/Mono',\n",
    " 6: 'Endothelial',\n",
    " 7: 'Immune other',\n",
    " 8: 'Macrophages',\n",
    " 9: 'Mesenchyme',\n",
    " 10: 'Mono/Neu',\n",
    " 11: 'NK cells',\n",
    " 12: 'Neutrophils',\n",
    " 13: 'Tregs',\n",
    " 14: 'Tumor',\n",
    " 15: 'Unidentified'\n",
    "}\n",
    "\n",
    "Distant_metastases_class = {\n",
    "    'POSITIVE': 'POSITIVE',\n",
    "    'NEGATIVE': 'NEGATIVE',\n",
    "}\n",
    "\n",
    "survival_rate_cutoff = 1000\n",
    "\n",
    "def map_survival_rate_to_class(survival_rate: int):\n",
    "    if survival_rate<survival_rate_cutoff:\n",
    "        return 'POSITIVE'\n",
    "    else:\n",
    "        return 'NEGATIVE'\n",
    "\n",
    "class_to_color = {\n",
    "    'POSITIVE': 'green',\n",
    "    'NEGATIVE': 'orange',\n",
    "}"
   ]
  },
  {
   "cell_type": "markdown",
   "metadata": {
    "pycharm": {
     "name": "#%% md\n"
    }
   },
   "source": [
    "## Steps\n",
    "1. Initiate CISM object\n",
    "2. Load datasets\n",
    "3. Initiate CISMTask"
   ]
  },
  {
   "cell_type": "code",
   "execution_count": 3,
   "metadata": {
    "pycharm": {
     "name": "#%%\n"
    }
   },
   "outputs": [],
   "source": [
    "from cism.cism import CISM"
   ]
  },
  {
   "cell_type": "code",
   "metadata": {
    "pycharm": {
     "name": "#%%\n"
    }
   },
   "source": [
    "cism = CISM(fanmod_exe=FANMOD_exe,\n",
    "            fanmod_path=FANMOD_path,\n",
    "            network_dataset_root_path=raw_data_folder,\n",
    "            fanmod_output_root_path=output_dir,\n",
    "            fanmod_cache_root_path=cache_dir,\n",
    "            motif_size=motif_size,\n",
    "            iterations=iterations)\n",
    "\n",
    "# adding Melanoma dataset\n",
    "cism.add_dataset(raw_data_folder_dataset, 'Disease', 'TNBC', force_run_fanmod=force_run_fanmod, force_parse=force_parse, n_jobs=1, quantile_threshold=1)"
   ],
   "outputs": [
    {
     "data": {
      "text/plain": "  0%|          | 0/42 [00:00<?, ?it/s]",
      "application/vnd.jupyter.widget-view+json": {
       "version_major": 2,
       "version_minor": 0,
       "model_id": "9614813f08144282a79535c7caafe18e"
      }
     },
     "metadata": {},
     "output_type": "display_data"
    },
    {
     "data": {
      "text/plain": "  0%|          | 0/42 [00:00<?, ?it/s]",
      "application/vnd.jupyter.widget-view+json": {
       "version_major": 2,
       "version_minor": 0,
       "model_id": "24eea3bf3e2e4fe0a3d17d6a8e9be461"
      }
     },
     "metadata": {},
     "output_type": "display_data"
    }
   ],
   "execution_count": 4
  },
  {
   "cell_type": "code",
   "execution_count": 5,
   "outputs": [],
   "source": [
    "import pandas as pd\n",
    "\n",
    "survival_days_df = pd.read_csv(raw_data_folder + raw_data_folder_dataset + '/patient_class_survival_days.csv', names=['Patient', 'Survival Days'])"
   ],
   "metadata": {
    "collapsed": false,
    "pycharm": {
     "name": "#%%\n"
    }
   }
  },
  {
   "cell_type": "code",
   "execution_count": 6,
   "metadata": {
    "pycharm": {
     "name": "#%%\n"
    }
   },
   "outputs": [],
   "source": [
    "from cism.cism import TissueStateDiscriminativeMotifs\n",
    "from cism.cism import DiscriminativeFeatureKey\n",
    "\n",
    "discriminator = TissueStateDiscriminativeMotifs(cism=cism,\n",
    "                                                tissue_state_csv_path=raw_data_folder + raw_data_folder_dataset + '/patient_class_survival_days.csv',\n",
    "                                                tissue_state_to_string=None,\n",
    "                                                common_cells_type=cells_type,\n",
    "                                                tissue_state_func=map_survival_rate_to_class)"
   ]
  },
  {
   "cell_type": "code",
   "execution_count": 7,
   "outputs": [
    {
     "data": {
      "text/plain": "               patient_class_id\npatient_class                  \nNEGATIVE                     30\nPOSITIVE                      7",
      "text/html": "<div>\n<style scoped>\n    .dataframe tbody tr th:only-of-type {\n        vertical-align: middle;\n    }\n\n    .dataframe tbody tr th {\n        vertical-align: top;\n    }\n\n    .dataframe thead th {\n        text-align: right;\n    }\n</style>\n<table border=\"1\" class=\"dataframe\">\n  <thead>\n    <tr style=\"text-align: right;\">\n      <th></th>\n      <th>patient_class_id</th>\n    </tr>\n    <tr>\n      <th>patient_class</th>\n      <th></th>\n    </tr>\n  </thead>\n  <tbody>\n    <tr>\n      <th>NEGATIVE</th>\n      <td>30</td>\n    </tr>\n    <tr>\n      <th>POSITIVE</th>\n      <td>7</td>\n    </tr>\n  </tbody>\n</table>\n</div>"
     },
     "execution_count": 7,
     "metadata": {},
     "output_type": "execute_result"
    }
   ],
   "source": [
    "discriminator.get_patients_class(classes=None).groupby('patient_class').count()"
   ],
   "metadata": {
    "collapsed": false,
    "pycharm": {
     "name": "#%%\n"
    }
   }
  },
  {
   "cell_type": "code",
   "execution_count": 8,
   "outputs": [
    {
     "data": {
      "text/plain": "        patient_class_id patient_class\nTNBC1               2612      NEGATIVE\nTNBC29              1319      NEGATIVE\nTNBC3               3130      NEGATIVE\nTNBC31              1009      NEGATIVE\nTNBC32              1568      NEGATIVE\nTNBC33              1738      NEGATIVE\nTNBC34              2832      NEGATIVE\nTNBC28              3767      NEGATIVE\nTNBC35              2759      NEGATIVE\nTNBC37              2853      NEGATIVE\nTNBC39              2096      NEGATIVE\nTNBC4               2523      NEGATIVE\nTNBC40              3573      NEGATIVE\nTNBC5               1683      NEGATIVE\nTNBC6               2275      NEGATIVE\nTNBC36              3063      NEGATIVE\nTNBC26              4430      NEGATIVE\nTNBC27              3658      NEGATIVE\nTNBC9               3767      NEGATIVE\nTNBC10              3822      NEGATIVE\nTNBC11              3774      NEGATIVE\nTNBC20              4761      NEGATIVE\nTNBC12              4353      NEGATIVE\nTNBC19              3725      NEGATIVE\nTNBC18              5063      NEGATIVE\nTNBC17              2842      NEGATIVE\nTNBC25              4785      NEGATIVE\nTNBC15              1754      NEGATIVE\nTNBC14              4145      NEGATIVE\nTNBC13              1072      NEGATIVE\nTNBC7                584      POSITIVE\nTNBC8                946      POSITIVE\nTNBC21               635      POSITIVE\nTNBC23                91      POSITIVE\nTNBC24               194      POSITIVE\nTNBC2                745      POSITIVE\nTNBC16               530      POSITIVE",
      "text/html": "<div>\n<style scoped>\n    .dataframe tbody tr th:only-of-type {\n        vertical-align: middle;\n    }\n\n    .dataframe tbody tr th {\n        vertical-align: top;\n    }\n\n    .dataframe thead th {\n        text-align: right;\n    }\n</style>\n<table border=\"1\" class=\"dataframe\">\n  <thead>\n    <tr style=\"text-align: right;\">\n      <th></th>\n      <th>patient_class_id</th>\n      <th>patient_class</th>\n    </tr>\n  </thead>\n  <tbody>\n    <tr>\n      <th>TNBC1</th>\n      <td>2612</td>\n      <td>NEGATIVE</td>\n    </tr>\n    <tr>\n      <th>TNBC29</th>\n      <td>1319</td>\n      <td>NEGATIVE</td>\n    </tr>\n    <tr>\n      <th>TNBC3</th>\n      <td>3130</td>\n      <td>NEGATIVE</td>\n    </tr>\n    <tr>\n      <th>TNBC31</th>\n      <td>1009</td>\n      <td>NEGATIVE</td>\n    </tr>\n    <tr>\n      <th>TNBC32</th>\n      <td>1568</td>\n      <td>NEGATIVE</td>\n    </tr>\n    <tr>\n      <th>TNBC33</th>\n      <td>1738</td>\n      <td>NEGATIVE</td>\n    </tr>\n    <tr>\n      <th>TNBC34</th>\n      <td>2832</td>\n      <td>NEGATIVE</td>\n    </tr>\n    <tr>\n      <th>TNBC28</th>\n      <td>3767</td>\n      <td>NEGATIVE</td>\n    </tr>\n    <tr>\n      <th>TNBC35</th>\n      <td>2759</td>\n      <td>NEGATIVE</td>\n    </tr>\n    <tr>\n      <th>TNBC37</th>\n      <td>2853</td>\n      <td>NEGATIVE</td>\n    </tr>\n    <tr>\n      <th>TNBC39</th>\n      <td>2096</td>\n      <td>NEGATIVE</td>\n    </tr>\n    <tr>\n      <th>TNBC4</th>\n      <td>2523</td>\n      <td>NEGATIVE</td>\n    </tr>\n    <tr>\n      <th>TNBC40</th>\n      <td>3573</td>\n      <td>NEGATIVE</td>\n    </tr>\n    <tr>\n      <th>TNBC5</th>\n      <td>1683</td>\n      <td>NEGATIVE</td>\n    </tr>\n    <tr>\n      <th>TNBC6</th>\n      <td>2275</td>\n      <td>NEGATIVE</td>\n    </tr>\n    <tr>\n      <th>TNBC36</th>\n      <td>3063</td>\n      <td>NEGATIVE</td>\n    </tr>\n    <tr>\n      <th>TNBC26</th>\n      <td>4430</td>\n      <td>NEGATIVE</td>\n    </tr>\n    <tr>\n      <th>TNBC27</th>\n      <td>3658</td>\n      <td>NEGATIVE</td>\n    </tr>\n    <tr>\n      <th>TNBC9</th>\n      <td>3767</td>\n      <td>NEGATIVE</td>\n    </tr>\n    <tr>\n      <th>TNBC10</th>\n      <td>3822</td>\n      <td>NEGATIVE</td>\n    </tr>\n    <tr>\n      <th>TNBC11</th>\n      <td>3774</td>\n      <td>NEGATIVE</td>\n    </tr>\n    <tr>\n      <th>TNBC20</th>\n      <td>4761</td>\n      <td>NEGATIVE</td>\n    </tr>\n    <tr>\n      <th>TNBC12</th>\n      <td>4353</td>\n      <td>NEGATIVE</td>\n    </tr>\n    <tr>\n      <th>TNBC19</th>\n      <td>3725</td>\n      <td>NEGATIVE</td>\n    </tr>\n    <tr>\n      <th>TNBC18</th>\n      <td>5063</td>\n      <td>NEGATIVE</td>\n    </tr>\n    <tr>\n      <th>TNBC17</th>\n      <td>2842</td>\n      <td>NEGATIVE</td>\n    </tr>\n    <tr>\n      <th>TNBC25</th>\n      <td>4785</td>\n      <td>NEGATIVE</td>\n    </tr>\n    <tr>\n      <th>TNBC15</th>\n      <td>1754</td>\n      <td>NEGATIVE</td>\n    </tr>\n    <tr>\n      <th>TNBC14</th>\n      <td>4145</td>\n      <td>NEGATIVE</td>\n    </tr>\n    <tr>\n      <th>TNBC13</th>\n      <td>1072</td>\n      <td>NEGATIVE</td>\n    </tr>\n    <tr>\n      <th>TNBC7</th>\n      <td>584</td>\n      <td>POSITIVE</td>\n    </tr>\n    <tr>\n      <th>TNBC8</th>\n      <td>946</td>\n      <td>POSITIVE</td>\n    </tr>\n    <tr>\n      <th>TNBC21</th>\n      <td>635</td>\n      <td>POSITIVE</td>\n    </tr>\n    <tr>\n      <th>TNBC23</th>\n      <td>91</td>\n      <td>POSITIVE</td>\n    </tr>\n    <tr>\n      <th>TNBC24</th>\n      <td>194</td>\n      <td>POSITIVE</td>\n    </tr>\n    <tr>\n      <th>TNBC2</th>\n      <td>745</td>\n      <td>POSITIVE</td>\n    </tr>\n    <tr>\n      <th>TNBC16</th>\n      <td>530</td>\n      <td>POSITIVE</td>\n    </tr>\n  </tbody>\n</table>\n</div>"
     },
     "execution_count": 8,
     "metadata": {},
     "output_type": "execute_result"
    }
   ],
   "source": [
    "discriminator.get_patients_class(classes=None).sort_values('patient_class')"
   ],
   "metadata": {
    "collapsed": false,
    "pycharm": {
     "name": "#%%\n"
    }
   }
  },
  {
   "cell_type": "code",
   "execution_count": 13,
   "outputs": [],
   "source": [
    "results_table = None"
   ],
   "metadata": {
    "collapsed": false,
    "pycharm": {
     "name": "#%%\n"
    }
   }
  },
  {
   "cell_type": "code",
   "execution_count": 14,
   "outputs": [
    {
     "name": "stdout",
     "output_type": "stream",
     "text": [
      "task: POSITIVE - NEGATIVE\n"
     ]
    },
    {
     "data": {
      "text/plain": "  0%|          | 0/37 [00:00<?, ?it/s]",
      "application/vnd.jupyter.widget-view+json": {
       "version_major": 2,
       "version_minor": 0,
       "model_id": "9792046debed409b8d76ab7c308e1509"
      }
     },
     "metadata": {},
     "output_type": "display_data"
    },
    {
     "data": {
      "text/plain": "  0%|          | 0/37 [00:00<?, ?it/s]",
      "application/vnd.jupyter.widget-view+json": {
       "version_major": 2,
       "version_minor": 0,
       "model_id": "9af14d3a61f54b1894fd189ec9b973ed"
      }
     },
     "metadata": {},
     "output_type": "display_data"
    },
    {
     "name": "stdout",
     "output_type": "stream",
     "text": [
      "classes: ['POSITIVE', 'NEGATIVE'] th:0.2 score: 0.6309523809523809\n",
      "task: POSITIVE - NEGATIVE\n"
     ]
    },
    {
     "data": {
      "text/plain": "  0%|          | 0/37 [00:00<?, ?it/s]",
      "application/vnd.jupyter.widget-view+json": {
       "version_major": 2,
       "version_minor": 0,
       "model_id": "f36d47441cbe4bdaa6a41f9dd8866ff6"
      }
     },
     "metadata": {},
     "output_type": "display_data"
    },
    {
     "data": {
      "text/plain": "  0%|          | 0/37 [00:00<?, ?it/s]",
      "application/vnd.jupyter.widget-view+json": {
       "version_major": 2,
       "version_minor": 0,
       "model_id": "2ddbfe413b384df2b79927c940ce837d"
      }
     },
     "metadata": {},
     "output_type": "display_data"
    },
    {
     "name": "stdout",
     "output_type": "stream",
     "text": [
      "classes: ['POSITIVE', 'NEGATIVE'] th:0.3 score: 0.8142857142857143\n",
      "task: POSITIVE - NEGATIVE\n"
     ]
    },
    {
     "data": {
      "text/plain": "  0%|          | 0/37 [00:00<?, ?it/s]",
      "application/vnd.jupyter.widget-view+json": {
       "version_major": 2,
       "version_minor": 0,
       "model_id": "9dbe06616d5345a588b6d69bd962182e"
      }
     },
     "metadata": {},
     "output_type": "display_data"
    },
    {
     "data": {
      "text/plain": "  0%|          | 0/37 [00:00<?, ?it/s]",
      "application/vnd.jupyter.widget-view+json": {
       "version_major": 2,
       "version_minor": 0,
       "model_id": "9766c507c3eb4c3681449d27127b914c"
      }
     },
     "metadata": {},
     "output_type": "display_data"
    },
    {
     "name": "stdout",
     "output_type": "stream",
     "text": [
      "classes: ['POSITIVE', 'NEGATIVE'] th:0.4 score: 0.819047619047619\n",
      "task: POSITIVE - NEGATIVE\n"
     ]
    },
    {
     "data": {
      "text/plain": "  0%|          | 0/37 [00:00<?, ?it/s]",
      "application/vnd.jupyter.widget-view+json": {
       "version_major": 2,
       "version_minor": 0,
       "model_id": "0b9fdfd8e22d4b038f9852bef5865e89"
      }
     },
     "metadata": {},
     "output_type": "display_data"
    },
    {
     "data": {
      "text/plain": "  0%|          | 0/37 [00:00<?, ?it/s]",
      "application/vnd.jupyter.widget-view+json": {
       "version_major": 2,
       "version_minor": 0,
       "model_id": "10d8eabe84b94d458046a2eec2eb22eb"
      }
     },
     "metadata": {},
     "output_type": "display_data"
    },
    {
     "name": "stdout",
     "output_type": "stream",
     "text": [
      "classes: ['POSITIVE', 'NEGATIVE'] th:0.45 score: 0.8523809523809524\n",
      "task: POSITIVE - NEGATIVE\n"
     ]
    },
    {
     "data": {
      "text/plain": "  0%|          | 0/37 [00:00<?, ?it/s]",
      "application/vnd.jupyter.widget-view+json": {
       "version_major": 2,
       "version_minor": 0,
       "model_id": "bb82b4198410413094885f66933023ec"
      }
     },
     "metadata": {},
     "output_type": "display_data"
    },
    {
     "data": {
      "text/plain": "  0%|          | 0/37 [00:00<?, ?it/s]",
      "application/vnd.jupyter.widget-view+json": {
       "version_major": 2,
       "version_minor": 0,
       "model_id": "c2100674dc6349e390ffeaa109fe22a5"
      }
     },
     "metadata": {},
     "output_type": "display_data"
    },
    {
     "name": "stdout",
     "output_type": "stream",
     "text": [
      "classes: ['POSITIVE', 'NEGATIVE'] th:0.5 score: 0.7333333333333333\n",
      "task: POSITIVE - NEGATIVE\n"
     ]
    },
    {
     "data": {
      "text/plain": "  0%|          | 0/37 [00:00<?, ?it/s]",
      "application/vnd.jupyter.widget-view+json": {
       "version_major": 2,
       "version_minor": 0,
       "model_id": "88407985469445a7823cbd46d1623070"
      }
     },
     "metadata": {},
     "output_type": "display_data"
    },
    {
     "data": {
      "text/plain": "  0%|          | 0/37 [00:00<?, ?it/s]",
      "application/vnd.jupyter.widget-view+json": {
       "version_major": 2,
       "version_minor": 0,
       "model_id": "f08970bf18884ceb918b3cb2cee19ae3"
      }
     },
     "metadata": {},
     "output_type": "display_data"
    },
    {
     "name": "stdout",
     "output_type": "stream",
     "text": [
      "classes: ['POSITIVE', 'NEGATIVE'] th:0.6 score: 0.7333333333333334\n",
      "task: POSITIVE - NEGATIVE\n"
     ]
    },
    {
     "data": {
      "text/plain": "  0%|          | 0/37 [00:00<?, ?it/s]",
      "application/vnd.jupyter.widget-view+json": {
       "version_major": 2,
       "version_minor": 0,
       "model_id": "e3b11885e087440bb55da4a09d89fdcf"
      }
     },
     "metadata": {},
     "output_type": "display_data"
    },
    {
     "data": {
      "text/plain": "  0%|          | 0/37 [00:00<?, ?it/s]",
      "application/vnd.jupyter.widget-view+json": {
       "version_major": 2,
       "version_minor": 0,
       "model_id": "598eb7aa23224c3c91a1a8754d36ff94"
      }
     },
     "metadata": {},
     "output_type": "display_data"
    },
    {
     "name": "stdout",
     "output_type": "stream",
     "text": [
      "classes: ['POSITIVE', 'NEGATIVE'] th:0.7 score: 0.7333333333333333\n",
      "task: POSITIVE - NEGATIVE\n"
     ]
    },
    {
     "data": {
      "text/plain": "  0%|          | 0/37 [00:00<?, ?it/s]",
      "application/vnd.jupyter.widget-view+json": {
       "version_major": 2,
       "version_minor": 0,
       "model_id": "0bb5f4ee6dd744368a26d5b6b50a829b"
      }
     },
     "metadata": {},
     "output_type": "display_data"
    },
    {
     "data": {
      "text/plain": "  0%|          | 0/37 [00:00<?, ?it/s]",
      "application/vnd.jupyter.widget-view+json": {
       "version_major": 2,
       "version_minor": 0,
       "model_id": "5372d714a7a14c29acffc004ad417d6d"
      }
     },
     "metadata": {},
     "output_type": "display_data"
    },
    {
     "name": "stdout",
     "output_type": "stream",
     "text": [
      "classes: ['POSITIVE', 'NEGATIVE'] th:0.75 score: 0.7333333333333334\n",
      "task: POSITIVE - NEGATIVE\n"
     ]
    },
    {
     "data": {
      "text/plain": "  0%|          | 0/37 [00:00<?, ?it/s]",
      "application/vnd.jupyter.widget-view+json": {
       "version_major": 2,
       "version_minor": 0,
       "model_id": "f9b2b4e5d4b54713839732420948f682"
      }
     },
     "metadata": {},
     "output_type": "display_data"
    },
    {
     "data": {
      "text/plain": "  0%|          | 0/37 [00:00<?, ?it/s]",
      "application/vnd.jupyter.widget-view+json": {
       "version_major": 2,
       "version_minor": 0,
       "model_id": "86ed40aedb9e46ec91bb1cff3f273103"
      }
     },
     "metadata": {},
     "output_type": "display_data"
    },
    {
     "ename": "TypeError",
     "evalue": "BaseException.with_traceback() takes exactly one argument (0 given)",
     "output_type": "error",
     "traceback": [
      "\u001B[1;31m---------------------------------------------------------------------------\u001B[0m",
      "\u001B[1;31mValueError\u001B[0m                                Traceback (most recent call last)",
      "Cell \u001B[1;32mIn[14], line 21\u001B[0m\n\u001B[0;32m     16\u001B[0m motif_space_features \u001B[38;5;241m=\u001B[39m (discriminator\n\u001B[0;32m     17\u001B[0m                         \u001B[38;5;241m.\u001B[39mget_features(feature_conf\u001B[38;5;241m=\u001B[39mfeatureConf,\n\u001B[0;32m     18\u001B[0m                                       exclude_patients\u001B[38;5;241m=\u001B[39m[],\n\u001B[0;32m     19\u001B[0m                                       n_jobs\u001B[38;5;241m=\u001B[39m\u001B[38;5;241m1\u001B[39m))\n\u001B[1;32m---> 21\u001B[0m optimal_result \u001B[38;5;241m=\u001B[39m (\u001B[43mdiscriminator\u001B[49m\n\u001B[0;32m     22\u001B[0m \u001B[43m                  \u001B[49m\u001B[38;5;241;43m.\u001B[39;49m\u001B[43manalyze_motifs\u001B[49m\u001B[43m(\u001B[49m\u001B[43mfeature_conf\u001B[49m\u001B[38;5;241;43m=\u001B[39;49m\u001B[43mfeatureConf\u001B[49m\u001B[43m,\u001B[49m\n\u001B[0;32m     23\u001B[0m \u001B[43m                                  \u001B[49m\u001B[43mexclude_patients\u001B[49m\u001B[38;5;241;43m=\u001B[39;49m\u001B[43m[\u001B[49m\u001B[43m]\u001B[49m\u001B[43m,\u001B[49m\n\u001B[0;32m     24\u001B[0m \u001B[43m                                  \u001B[49m\u001B[43mn_jobs\u001B[49m\u001B[38;5;241;43m=\u001B[39;49m\u001B[38;5;241;43m1\u001B[39;49m\u001B[43m)\u001B[49m)\n\u001B[0;32m     26\u001B[0m \u001B[38;5;28mprint\u001B[39m(\u001B[38;5;124mf\u001B[39m\u001B[38;5;124m'\u001B[39m\u001B[38;5;124mclasses: \u001B[39m\u001B[38;5;132;01m{\u001B[39;00m[left_class,\u001B[38;5;250m \u001B[39mright_class]\u001B[38;5;132;01m}\u001B[39;00m\u001B[38;5;124m \u001B[39m\u001B[38;5;124m'\u001B[39m\n\u001B[0;32m     27\u001B[0m       \u001B[38;5;124mf\u001B[39m\u001B[38;5;124m'\u001B[39m\u001B[38;5;124mth:\u001B[39m\u001B[38;5;132;01m{\u001B[39;00mth\u001B[38;5;132;01m}\u001B[39;00m\u001B[38;5;124m score: \u001B[39m\u001B[38;5;132;01m{\u001B[39;00moptimal_result\u001B[38;5;241m.\u001B[39mget_roc_auc_score()\u001B[38;5;132;01m}\u001B[39;00m\u001B[38;5;124m'\u001B[39m)\n",
      "File \u001B[1;32m~\\Documents\\dev\\TNBC_motif\\cism\\cism.py:578\u001B[0m, in \u001B[0;36mTissueStateDiscriminativeMotifs.analyze_motifs\u001B[1;34m(self, feature_conf, exclude_patients, **kwargs)\u001B[0m\n\u001B[0;32m    574\u001B[0m         \u001B[38;5;28;01mreturn\u001B[39;00m motifs_dataset[motifs_dataset\u001B[38;5;241m.\u001B[39mPatient_uId\u001B[38;5;241m.\u001B[39misin(unique_patients_ids) \u001B[38;5;241m&\u001B[39m\n\u001B[0;32m    575\u001B[0m                               (motifs_dataset\u001B[38;5;241m.\u001B[39mPatient_uId \u001B[38;5;241m==\u001B[39m unique_patients_ids[trial_i]) \u001B[38;5;241m&\u001B[39m\n\u001B[0;32m    576\u001B[0m                               (motifs_dataset\u001B[38;5;241m.\u001B[39mp_value \u001B[38;5;241m<\u001B[39m \u001B[38;5;241m0.05\u001B[39m)]\u001B[38;5;241m.\u001B[39mcopy()\n\u001B[1;32m--> 578\u001B[0m raw_analyze_result \u001B[38;5;241m=\u001B[39m \u001B[43mParallel\u001B[49m\u001B[43m(\u001B[49m\u001B[43mn_jobs\u001B[49m\u001B[38;5;241;43m=\u001B[39;49m\u001B[43mn_jobs\u001B[49m\u001B[43m,\u001B[49m\u001B[43m \u001B[49m\u001B[43mverbose\u001B[49m\u001B[38;5;241;43m=\u001B[39;49m\u001B[38;5;241;43m0\u001B[39;49m\u001B[43m,\u001B[49m\u001B[43m \u001B[49m\u001B[43mprefer\u001B[49m\u001B[38;5;241;43m=\u001B[39;49m\u001B[43mprefer\u001B[49m\u001B[43m,\u001B[49m\u001B[43m \u001B[49m\u001B[43mpre_dispatch\u001B[49m\u001B[38;5;241;43m=\u001B[39;49m\u001B[38;5;241;43m1\u001B[39;49m\u001B[43m)\u001B[49m\u001B[43m(\u001B[49m\n\u001B[0;32m    579\u001B[0m \u001B[43m    \u001B[49m\u001B[43mdelayed\u001B[49m\u001B[43m(\u001B[49m\u001B[38;5;28;43mself\u001B[39;49m\u001B[38;5;241;43m.\u001B[39;49m\u001B[43m_validate\u001B[49m\u001B[43m)\u001B[49m\u001B[43m(\u001B[49m\u001B[43mx_data\u001B[49m\u001B[38;5;241;43m=\u001B[39;49m\u001B[43m__get_motif_dataset_of_patient\u001B[49m\u001B[43m(\u001B[49m\u001B[43mlocal_motifs_dataset\u001B[49m\u001B[43m,\u001B[49m\n\u001B[0;32m    580\u001B[0m \u001B[43m                                                                  \u001B[49m\u001B[43munique_patients_ids\u001B[49m\u001B[43m,\u001B[49m\n\u001B[0;32m    581\u001B[0m \u001B[43m                                                                  \u001B[49m\u001B[43mtrial_i\u001B[49m\u001B[43m,\u001B[49m\n\u001B[0;32m    582\u001B[0m \u001B[43m                                                                  \u001B[49m\u001B[38;5;28;43;01mTrue\u001B[39;49;00m\u001B[43m)\u001B[49m\u001B[43m,\u001B[49m\n\u001B[0;32m    583\u001B[0m \u001B[43m                            \u001B[49m\u001B[43mx_test\u001B[49m\u001B[38;5;241;43m=\u001B[39;49m\u001B[43m__get_motif_dataset_of_patient\u001B[49m\u001B[43m(\u001B[49m\u001B[43mlocal_motifs_dataset\u001B[49m\u001B[43m,\u001B[49m\n\u001B[0;32m    584\u001B[0m \u001B[43m                                                                  \u001B[49m\u001B[43munique_patients_ids\u001B[49m\u001B[43m,\u001B[49m\n\u001B[0;32m    585\u001B[0m \u001B[43m                                                                  \u001B[49m\u001B[43mtrial_i\u001B[49m\u001B[43m,\u001B[49m\n\u001B[0;32m    586\u001B[0m \u001B[43m                                                                  \u001B[49m\u001B[38;5;28;43;01mFalse\u001B[39;49;00m\u001B[43m)\u001B[49m\u001B[43m,\u001B[49m\n\u001B[0;32m    587\u001B[0m \u001B[43m                            \u001B[49m\u001B[43mtest_patient_uid\u001B[49m\u001B[38;5;241;43m=\u001B[39;49m\u001B[43munique_patients_ids\u001B[49m\u001B[43m[\u001B[49m\u001B[43mtrial_i\u001B[49m\u001B[43m]\u001B[49m\u001B[43m,\u001B[49m\n\u001B[0;32m    588\u001B[0m \u001B[43m                            \u001B[49m\u001B[43mfeature_conf\u001B[49m\u001B[38;5;241;43m=\u001B[39;49m\u001B[43mfeature_conf\u001B[49m\u001B[43m,\u001B[49m\n\u001B[0;32m    589\u001B[0m \u001B[43m                            \u001B[49m\u001B[43mrandom_state\u001B[49m\u001B[38;5;241;43m=\u001B[39;49m\u001B[43mrandom_state\u001B[49m\u001B[43m,\u001B[49m\n\u001B[0;32m    590\u001B[0m \u001B[43m                            \u001B[49m\u001B[43mpatient_class_df\u001B[49m\u001B[38;5;241;43m=\u001B[39;49m\u001B[43mlocal_patient_class\u001B[49m\u001B[43m)\u001B[49m\u001B[43m \u001B[49m\u001B[38;5;28;43;01mfor\u001B[39;49;00m\u001B[43m \u001B[49m\u001B[43mtrial_i\u001B[49m\u001B[43m \u001B[49m\u001B[38;5;129;43;01min\u001B[39;49;00m\u001B[43m \u001B[49m\u001B[43mtqdm\u001B[49m\u001B[43m(\u001B[49m\u001B[38;5;28;43mrange\u001B[39;49m\u001B[43m(\u001B[49m\u001B[38;5;28;43mlen\u001B[39;49m\u001B[43m(\u001B[49m\u001B[43munique_patients_ids\u001B[49m\u001B[43m)\u001B[49m\u001B[43m)\u001B[49m\u001B[43m)\u001B[49m\u001B[43m)\u001B[49m\n\u001B[0;32m    592\u001B[0m \u001B[38;5;28;01mreturn\u001B[39;00m AnalyzeMotifsResult(analyze_results\u001B[38;5;241m=\u001B[39mraw_analyze_result,\n\u001B[0;32m    593\u001B[0m                            patients_ids\u001B[38;5;241m=\u001B[39munique_patients_ids,\n\u001B[0;32m    594\u001B[0m                            labels\u001B[38;5;241m=\u001B[39mfeature_conf\u001B[38;5;241m.\u001B[39mlabels)\n",
      "File \u001B[1;32mc:\\users\\user\\documents\\dev\\tnbc_motif\\venv\\lib\\site-packages\\joblib\\parallel.py:1918\u001B[0m, in \u001B[0;36mParallel.__call__\u001B[1;34m(self, iterable)\u001B[0m\n\u001B[0;32m   1917\u001B[0m     \u001B[38;5;28mnext\u001B[39m(output)\n\u001B[1;32m-> 1918\u001B[0m     \u001B[38;5;28;01mreturn\u001B[39;00m output \u001B[38;5;28;01mif\u001B[39;00m \u001B[38;5;28mself\u001B[39m\u001B[38;5;241m.\u001B[39mreturn_generator \u001B[38;5;28;01melse\u001B[39;00m \u001B[38;5;28;43mlist\u001B[39;49m\u001B[43m(\u001B[49m\u001B[43moutput\u001B[49m\u001B[43m)\u001B[49m\n\u001B[0;32m   1920\u001B[0m \u001B[38;5;66;03m# Let's create an ID that uniquely identifies the current call. If the\u001B[39;00m\n\u001B[0;32m   1921\u001B[0m \u001B[38;5;66;03m# call is interrupted early and that the same instance is immediately\u001B[39;00m\n\u001B[0;32m   1922\u001B[0m \u001B[38;5;66;03m# re-used, this id will be used to prevent workers that were\u001B[39;00m\n\u001B[0;32m   1923\u001B[0m \u001B[38;5;66;03m# concurrently finalizing a task from the previous call to run the\u001B[39;00m\n\u001B[0;32m   1924\u001B[0m \u001B[38;5;66;03m# callback.\u001B[39;00m\n",
      "File \u001B[1;32mc:\\users\\user\\documents\\dev\\tnbc_motif\\venv\\lib\\site-packages\\joblib\\parallel.py:1847\u001B[0m, in \u001B[0;36mParallel._get_sequential_output\u001B[1;34m(self, iterable)\u001B[0m\n\u001B[0;32m   1846\u001B[0m \u001B[38;5;28mself\u001B[39m\u001B[38;5;241m.\u001B[39mn_dispatched_tasks \u001B[38;5;241m+\u001B[39m\u001B[38;5;241m=\u001B[39m \u001B[38;5;241m1\u001B[39m\n\u001B[1;32m-> 1847\u001B[0m res \u001B[38;5;241m=\u001B[39m func(\u001B[38;5;241m*\u001B[39margs, \u001B[38;5;241m*\u001B[39m\u001B[38;5;241m*\u001B[39mkwargs)\n\u001B[0;32m   1848\u001B[0m \u001B[38;5;28mself\u001B[39m\u001B[38;5;241m.\u001B[39mn_completed_tasks \u001B[38;5;241m+\u001B[39m\u001B[38;5;241m=\u001B[39m \u001B[38;5;241m1\u001B[39m\n",
      "File \u001B[1;32m~\\Documents\\dev\\TNBC_motif\\cism\\cism.py:979\u001B[0m, in \u001B[0;36mTissueStateDiscriminativeMotifs._validate\u001B[1;34m(self, x_data, x_test, test_patient_uid, feature_conf, random_state, rand_patient_class, patient_class_df)\u001B[0m\n\u001B[0;32m    978\u001B[0m clf \u001B[38;5;241m=\u001B[39m RandomForestClassifier(random_state\u001B[38;5;241m=\u001B[39mrandom_state, n_jobs\u001B[38;5;241m=\u001B[39m\u001B[38;5;241m-\u001B[39m\u001B[38;5;241m1\u001B[39m)\n\u001B[1;32m--> 979\u001B[0m \u001B[43mclf\u001B[49m\u001B[38;5;241;43m.\u001B[39;49m\u001B[43mfit\u001B[49m\u001B[43m(\u001B[49m\u001B[43mx_train_dataset\u001B[49m\u001B[38;5;241;43m.\u001B[39;49m\u001B[43mdrop\u001B[49m\u001B[43m(\u001B[49m\u001B[43mDiscriminativeMotifs\u001B[49m\u001B[38;5;241;43m.\u001B[39;49m\u001B[43mPATIENT_CLASS\u001B[49m\u001B[43m,\u001B[49m\u001B[43m \u001B[49m\u001B[43maxis\u001B[49m\u001B[38;5;241;43m=\u001B[39;49m\u001B[38;5;241;43m1\u001B[39;49m\u001B[43m)\u001B[49m\u001B[43m,\u001B[49m\n\u001B[0;32m    980\u001B[0m \u001B[43m        \u001B[49m\u001B[43mx_train_dataset\u001B[49m\u001B[43m[\u001B[49m\u001B[43mDiscriminativeMotifs\u001B[49m\u001B[38;5;241;43m.\u001B[39;49m\u001B[43mPATIENT_CLASS\u001B[49m\u001B[43m]\u001B[49m\u001B[43m)\u001B[49m\n\u001B[0;32m    982\u001B[0m \u001B[38;5;66;03m# build validation dataset\u001B[39;00m\n",
      "File \u001B[1;32mc:\\users\\user\\documents\\dev\\tnbc_motif\\venv\\lib\\site-packages\\sklearn\\base.py:1473\u001B[0m, in \u001B[0;36m_fit_context.<locals>.decorator.<locals>.wrapper\u001B[1;34m(estimator, *args, **kwargs)\u001B[0m\n\u001B[0;32m   1468\u001B[0m \u001B[38;5;28;01mwith\u001B[39;00m config_context(\n\u001B[0;32m   1469\u001B[0m     skip_parameter_validation\u001B[38;5;241m=\u001B[39m(\n\u001B[0;32m   1470\u001B[0m         prefer_skip_nested_validation \u001B[38;5;129;01mor\u001B[39;00m global_skip_validation\n\u001B[0;32m   1471\u001B[0m     )\n\u001B[0;32m   1472\u001B[0m ):\n\u001B[1;32m-> 1473\u001B[0m     \u001B[38;5;28;01mreturn\u001B[39;00m fit_method(estimator, \u001B[38;5;241m*\u001B[39margs, \u001B[38;5;241m*\u001B[39m\u001B[38;5;241m*\u001B[39mkwargs)\n",
      "File \u001B[1;32mc:\\users\\user\\documents\\dev\\tnbc_motif\\venv\\lib\\site-packages\\sklearn\\ensemble\\_forest.py:363\u001B[0m, in \u001B[0;36mBaseForest.fit\u001B[1;34m(self, X, y, sample_weight)\u001B[0m\n\u001B[0;32m    361\u001B[0m     \u001B[38;5;28;01mraise\u001B[39;00m \u001B[38;5;167;01mValueError\u001B[39;00m(\u001B[38;5;124m\"\u001B[39m\u001B[38;5;124msparse multilabel-indicator for y is not supported.\u001B[39m\u001B[38;5;124m\"\u001B[39m)\n\u001B[1;32m--> 363\u001B[0m X, y \u001B[38;5;241m=\u001B[39m \u001B[38;5;28;43mself\u001B[39;49m\u001B[38;5;241;43m.\u001B[39;49m\u001B[43m_validate_data\u001B[49m\u001B[43m(\u001B[49m\n\u001B[0;32m    364\u001B[0m \u001B[43m    \u001B[49m\u001B[43mX\u001B[49m\u001B[43m,\u001B[49m\n\u001B[0;32m    365\u001B[0m \u001B[43m    \u001B[49m\u001B[43my\u001B[49m\u001B[43m,\u001B[49m\n\u001B[0;32m    366\u001B[0m \u001B[43m    \u001B[49m\u001B[43mmulti_output\u001B[49m\u001B[38;5;241;43m=\u001B[39;49m\u001B[38;5;28;43;01mTrue\u001B[39;49;00m\u001B[43m,\u001B[49m\n\u001B[0;32m    367\u001B[0m \u001B[43m    \u001B[49m\u001B[43maccept_sparse\u001B[49m\u001B[38;5;241;43m=\u001B[39;49m\u001B[38;5;124;43m\"\u001B[39;49m\u001B[38;5;124;43mcsc\u001B[39;49m\u001B[38;5;124;43m\"\u001B[39;49m\u001B[43m,\u001B[49m\n\u001B[0;32m    368\u001B[0m \u001B[43m    \u001B[49m\u001B[43mdtype\u001B[49m\u001B[38;5;241;43m=\u001B[39;49m\u001B[43mDTYPE\u001B[49m\u001B[43m,\u001B[49m\n\u001B[0;32m    369\u001B[0m \u001B[43m    \u001B[49m\u001B[43mforce_all_finite\u001B[49m\u001B[38;5;241;43m=\u001B[39;49m\u001B[38;5;28;43;01mFalse\u001B[39;49;00m\u001B[43m,\u001B[49m\n\u001B[0;32m    370\u001B[0m \u001B[43m\u001B[49m\u001B[43m)\u001B[49m\n\u001B[0;32m    371\u001B[0m \u001B[38;5;66;03m# _compute_missing_values_in_feature_mask checks if X has missing values and\u001B[39;00m\n\u001B[0;32m    372\u001B[0m \u001B[38;5;66;03m# will raise an error if the underlying tree base estimator can't handle missing\u001B[39;00m\n\u001B[0;32m    373\u001B[0m \u001B[38;5;66;03m# values. Only the criterion is required to determine if the tree supports\u001B[39;00m\n\u001B[0;32m    374\u001B[0m \u001B[38;5;66;03m# missing values.\u001B[39;00m\n",
      "File \u001B[1;32mc:\\users\\user\\documents\\dev\\tnbc_motif\\venv\\lib\\site-packages\\sklearn\\base.py:650\u001B[0m, in \u001B[0;36mBaseEstimator._validate_data\u001B[1;34m(self, X, y, reset, validate_separately, cast_to_ndarray, **check_params)\u001B[0m\n\u001B[0;32m    649\u001B[0m \u001B[38;5;28;01melse\u001B[39;00m:\n\u001B[1;32m--> 650\u001B[0m     X, y \u001B[38;5;241m=\u001B[39m check_X_y(X, y, \u001B[38;5;241m*\u001B[39m\u001B[38;5;241m*\u001B[39mcheck_params)\n\u001B[0;32m    651\u001B[0m out \u001B[38;5;241m=\u001B[39m X, y\n",
      "File \u001B[1;32mc:\\users\\user\\documents\\dev\\tnbc_motif\\venv\\lib\\site-packages\\sklearn\\utils\\validation.py:1301\u001B[0m, in \u001B[0;36mcheck_X_y\u001B[1;34m(X, y, accept_sparse, accept_large_sparse, dtype, order, copy, force_writeable, force_all_finite, ensure_2d, allow_nd, multi_output, ensure_min_samples, ensure_min_features, y_numeric, estimator)\u001B[0m\n\u001B[0;32m   1297\u001B[0m     \u001B[38;5;28;01mraise\u001B[39;00m \u001B[38;5;167;01mValueError\u001B[39;00m(\n\u001B[0;32m   1298\u001B[0m         \u001B[38;5;124mf\u001B[39m\u001B[38;5;124m\"\u001B[39m\u001B[38;5;132;01m{\u001B[39;00mestimator_name\u001B[38;5;132;01m}\u001B[39;00m\u001B[38;5;124m requires y to be passed, but the target y is None\u001B[39m\u001B[38;5;124m\"\u001B[39m\n\u001B[0;32m   1299\u001B[0m     )\n\u001B[1;32m-> 1301\u001B[0m X \u001B[38;5;241m=\u001B[39m \u001B[43mcheck_array\u001B[49m\u001B[43m(\u001B[49m\n\u001B[0;32m   1302\u001B[0m \u001B[43m    \u001B[49m\u001B[43mX\u001B[49m\u001B[43m,\u001B[49m\n\u001B[0;32m   1303\u001B[0m \u001B[43m    \u001B[49m\u001B[43maccept_sparse\u001B[49m\u001B[38;5;241;43m=\u001B[39;49m\u001B[43maccept_sparse\u001B[49m\u001B[43m,\u001B[49m\n\u001B[0;32m   1304\u001B[0m \u001B[43m    \u001B[49m\u001B[43maccept_large_sparse\u001B[49m\u001B[38;5;241;43m=\u001B[39;49m\u001B[43maccept_large_sparse\u001B[49m\u001B[43m,\u001B[49m\n\u001B[0;32m   1305\u001B[0m \u001B[43m    \u001B[49m\u001B[43mdtype\u001B[49m\u001B[38;5;241;43m=\u001B[39;49m\u001B[43mdtype\u001B[49m\u001B[43m,\u001B[49m\n\u001B[0;32m   1306\u001B[0m \u001B[43m    \u001B[49m\u001B[43morder\u001B[49m\u001B[38;5;241;43m=\u001B[39;49m\u001B[43morder\u001B[49m\u001B[43m,\u001B[49m\n\u001B[0;32m   1307\u001B[0m \u001B[43m    \u001B[49m\u001B[43mcopy\u001B[49m\u001B[38;5;241;43m=\u001B[39;49m\u001B[43mcopy\u001B[49m\u001B[43m,\u001B[49m\n\u001B[0;32m   1308\u001B[0m \u001B[43m    \u001B[49m\u001B[43mforce_writeable\u001B[49m\u001B[38;5;241;43m=\u001B[39;49m\u001B[43mforce_writeable\u001B[49m\u001B[43m,\u001B[49m\n\u001B[0;32m   1309\u001B[0m \u001B[43m    \u001B[49m\u001B[43mforce_all_finite\u001B[49m\u001B[38;5;241;43m=\u001B[39;49m\u001B[43mforce_all_finite\u001B[49m\u001B[43m,\u001B[49m\n\u001B[0;32m   1310\u001B[0m \u001B[43m    \u001B[49m\u001B[43mensure_2d\u001B[49m\u001B[38;5;241;43m=\u001B[39;49m\u001B[43mensure_2d\u001B[49m\u001B[43m,\u001B[49m\n\u001B[0;32m   1311\u001B[0m \u001B[43m    \u001B[49m\u001B[43mallow_nd\u001B[49m\u001B[38;5;241;43m=\u001B[39;49m\u001B[43mallow_nd\u001B[49m\u001B[43m,\u001B[49m\n\u001B[0;32m   1312\u001B[0m \u001B[43m    \u001B[49m\u001B[43mensure_min_samples\u001B[49m\u001B[38;5;241;43m=\u001B[39;49m\u001B[43mensure_min_samples\u001B[49m\u001B[43m,\u001B[49m\n\u001B[0;32m   1313\u001B[0m \u001B[43m    \u001B[49m\u001B[43mensure_min_features\u001B[49m\u001B[38;5;241;43m=\u001B[39;49m\u001B[43mensure_min_features\u001B[49m\u001B[43m,\u001B[49m\n\u001B[0;32m   1314\u001B[0m \u001B[43m    \u001B[49m\u001B[43mestimator\u001B[49m\u001B[38;5;241;43m=\u001B[39;49m\u001B[43mestimator\u001B[49m\u001B[43m,\u001B[49m\n\u001B[0;32m   1315\u001B[0m \u001B[43m    \u001B[49m\u001B[43minput_name\u001B[49m\u001B[38;5;241;43m=\u001B[39;49m\u001B[38;5;124;43m\"\u001B[39;49m\u001B[38;5;124;43mX\u001B[39;49m\u001B[38;5;124;43m\"\u001B[39;49m\u001B[43m,\u001B[49m\n\u001B[0;32m   1316\u001B[0m \u001B[43m\u001B[49m\u001B[43m)\u001B[49m\n\u001B[0;32m   1318\u001B[0m y \u001B[38;5;241m=\u001B[39m _check_y(y, multi_output\u001B[38;5;241m=\u001B[39mmulti_output, y_numeric\u001B[38;5;241m=\u001B[39my_numeric, estimator\u001B[38;5;241m=\u001B[39mestimator)\n",
      "File \u001B[1;32mc:\\users\\user\\documents\\dev\\tnbc_motif\\venv\\lib\\site-packages\\sklearn\\utils\\validation.py:887\u001B[0m, in \u001B[0;36mcheck_array\u001B[1;34m(array, accept_sparse, accept_large_sparse, dtype, order, copy, force_writeable, force_all_finite, ensure_2d, allow_nd, ensure_min_samples, ensure_min_features, estimator, input_name)\u001B[0m\n\u001B[0;32m    886\u001B[0m \u001B[38;5;28;01mif\u001B[39;00m \u001B[38;5;28mall\u001B[39m(\u001B[38;5;28misinstance\u001B[39m(dtype_iter, np\u001B[38;5;241m.\u001B[39mdtype) \u001B[38;5;28;01mfor\u001B[39;00m dtype_iter \u001B[38;5;129;01min\u001B[39;00m dtypes_orig):\n\u001B[1;32m--> 887\u001B[0m     dtype_orig \u001B[38;5;241m=\u001B[39m \u001B[43mnp\u001B[49m\u001B[38;5;241;43m.\u001B[39;49m\u001B[43mresult_type\u001B[49m\u001B[43m(\u001B[49m\u001B[38;5;241;43m*\u001B[39;49m\u001B[43mdtypes_orig\u001B[49m\u001B[43m)\u001B[49m\n\u001B[0;32m    888\u001B[0m \u001B[38;5;28;01melif\u001B[39;00m pandas_requires_conversion \u001B[38;5;129;01mand\u001B[39;00m \u001B[38;5;28many\u001B[39m(d \u001B[38;5;241m==\u001B[39m \u001B[38;5;28mobject\u001B[39m \u001B[38;5;28;01mfor\u001B[39;00m d \u001B[38;5;129;01min\u001B[39;00m dtypes_orig):\n\u001B[0;32m    889\u001B[0m     \u001B[38;5;66;03m# Force object if any of the dtypes is an object\u001B[39;00m\n",
      "\u001B[1;31mValueError\u001B[0m: at least one array or dtype is required",
      "\nDuring handling of the above exception, another exception occurred:\n",
      "\u001B[1;31mTypeError\u001B[0m                                 Traceback (most recent call last)",
      "Cell \u001B[1;32mIn[14], line 56\u001B[0m\n\u001B[0;32m     44\u001B[0m     results_table \u001B[38;5;241m=\u001B[39m pd\u001B[38;5;241m.\u001B[39mconcat([pd\u001B[38;5;241m.\u001B[39mDataFrame(\n\u001B[0;32m     45\u001B[0m                                     {\u001B[38;5;124m'\u001B[39m\u001B[38;5;124mth\u001B[39m\u001B[38;5;124m'\u001B[39m: th,\n\u001B[0;32m     46\u001B[0m                                      \u001B[38;5;124m'\u001B[39m\u001B[38;5;124mtask\u001B[39m\u001B[38;5;124m'\u001B[39m: left_class \u001B[38;5;241m+\u001B[39m \u001B[38;5;124m'\u001B[39m\u001B[38;5;124m-\u001B[39m\u001B[38;5;124m'\u001B[39m \u001B[38;5;241m+\u001B[39m right_class,\n\u001B[1;32m   (...)\u001B[0m\n\u001B[0;32m     53\u001B[0m                                      \u001B[38;5;124m'\u001B[39m\u001B[38;5;124mpatient_count\u001B[39m\u001B[38;5;124m'\u001B[39m: motif_patients_count}),\n\u001B[0;32m     54\u001B[0m                                      results_table], ignore_index\u001B[38;5;241m=\u001B[39m\u001B[38;5;28;01mTrue\u001B[39;00m)\n\u001B[0;32m     55\u001B[0m \u001B[38;5;28;01mexcept\u001B[39;00m \u001B[38;5;167;01mException\u001B[39;00m \u001B[38;5;28;01mas\u001B[39;00m e:\n\u001B[1;32m---> 56\u001B[0m     \u001B[38;5;28mprint\u001B[39m(\u001B[43me\u001B[49m\u001B[38;5;241;43m.\u001B[39;49m\u001B[43mwith_traceback\u001B[49m\u001B[43m(\u001B[49m\u001B[43m)\u001B[49m)\n\u001B[0;32m     57\u001B[0m     \u001B[38;5;28;01mbreak\u001B[39;00m\n",
      "\u001B[1;31mTypeError\u001B[0m: BaseException.with_traceback() takes exactly one argument (0 given)"
     ]
    }
   ],
   "source": [
    "from cism.cism import HardDiscriminativeFC, SoftDiscriminativeFC, DiscriminativeFeatureKey\n",
    "import itertools\n",
    "\n",
    "for left_class, right_class in itertools.combinations(['POSITIVE', 'NEGATIVE'], 2):\n",
    "    for th in [0.2, 0.3, 0.4, 0.45, 0.5, 0.6, 0.7, 0.75, 0.8]:\n",
    "        try:\n",
    "            print(f'task: {left_class} - {right_class}')\n",
    "            featureConf = HardDiscriminativeFC(\n",
    "                extract_by=DiscriminativeFeatureKey.STRUCTURE_AND_CELL_IDENTITIES,\n",
    "                use_cells_type_composition=False,\n",
    "                use_motifs=True,\n",
    "                shared_percentage=th,\n",
    "                max_class_features=30,\n",
    "                labels=[left_class, right_class])\n",
    "\n",
    "            motif_space_features = (discriminator\n",
    "                                    .get_features(feature_conf=featureConf,\n",
    "                                                  exclude_patients=[],\n",
    "                                                  n_jobs=1))\n",
    "\n",
    "            optimal_result = (discriminator\n",
    "                              .analyze_motifs(feature_conf=featureConf,\n",
    "                                              exclude_patients=[],\n",
    "                                              n_jobs=1))\n",
    "\n",
    "            print(f'classes: {[left_class, right_class]} '\n",
    "                  f'th:{th} score: {optimal_result.get_roc_auc_score()}')\n",
    "\n",
    "            all_motif_features = []\n",
    "            for idx, row in motif_space_features.iterrows():\n",
    "                all_motif_features += row['features']\n",
    "            all_motif_features = list(set(all_motif_features))\n",
    "\n",
    "            motif_freq = []\n",
    "            motif_count = []\n",
    "            motifs_dataset = discriminator.cism.motifs_dataset\n",
    "            for motif_id in all_motif_features:\n",
    "                motif_mean_freq = motifs_dataset[motifs_dataset['ID'] == motif_id]['Freq'].mean()\n",
    "                motif_mean_count = motifs_dataset[motifs_dataset['ID'] == motif_id]['Count'].mean()\n",
    "                motif_patients_count = motifs_dataset[motifs_dataset['ID'] == motif_id]['Patient_uId'].nunique()\n",
    "                motif_freq.append(motif_mean_freq)\n",
    "                motif_count.append(motif_mean_count)\n",
    "\n",
    "            results_table = pd.concat([pd.DataFrame(\n",
    "                                            {'th': th,\n",
    "                                             'task': left_class + '-' + right_class,\n",
    "                                             'left_class': left_class,\n",
    "                                             'right_class': right_class,\n",
    "                                             'roc_auc_score': optimal_result.get_roc_auc_score(),\n",
    "                                             'all_motif_features': all_motif_features,\n",
    "                                             'motif_mean_freq': motif_freq,\n",
    "                                             'motif_mean_count': motif_count,\n",
    "                                             'patient_count': motif_patients_count}),\n",
    "                                             results_table], ignore_index=True)\n",
    "        except Exception as e:\n",
    "            print(e.with_traceback())\n",
    "            break"
   ],
   "metadata": {
    "collapsed": false,
    "pycharm": {
     "name": "#%%\n"
    }
   }
  },
  {
   "cell_type": "code",
   "execution_count": 15,
   "outputs": [],
   "source": [
    "results_table.to_csv(results_dir+f'/benchmark_across_th_{motif_size}_max_motifs.csv')"
   ],
   "metadata": {
    "collapsed": false,
    "pycharm": {
     "name": "#%%\n"
    }
   }
  },
  {
   "cell_type": "code",
   "execution_count": null,
   "outputs": [],
   "source": [],
   "metadata": {
    "collapsed": false,
    "pycharm": {
     "name": "#%%\n"
    }
   }
  }
 ],
 "metadata": {
  "kernelspec": {
   "display_name": "Python 3 (ipykernel)",
   "language": "python",
   "name": "python3"
  },
  "language_info": {
   "codemirror_mode": {
    "name": "ipython",
    "version": 3
   },
   "file_extension": ".py",
   "mimetype": "text/x-python",
   "name": "python",
   "nbconvert_exporter": "python",
   "pygments_lexer": "ipython3",
   "version": "3.9.7"
  }
 },
 "nbformat": 4,
 "nbformat_minor": 1
}